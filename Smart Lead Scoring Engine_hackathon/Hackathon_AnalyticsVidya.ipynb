{
 "cells": [
  {
   "cell_type": "markdown",
   "id": "52c71cc3",
   "metadata": {},
   "source": [
    "## Problem Statement\n",
    "\n",
    "\n",
    "A D2C startup develops products using cutting edge technologies like Web 3.0. Over the past few months, the company has started multiple marketing campaigns offline and digital both. As a result, the users have started showing interest in the product on the website. These users with intent to buy product(s) are generally known as leads (Potential Customers). \n",
    "\n",
    "\n",
    "Leads are captured in 2 ways - Directly and Indirectly. \n",
    "\n",
    "\n",
    "Direct leads are captured via forms embedded in the website while indirect leads are captured based on certain activity of a user on the platform such as time spent on the website, number of user sessions, etc.\n",
    "\n",
    "\n",
    "Now, the marketing & sales team wants to identify the leads who are more likely to buy the product so that the sales team can manage their bandwidth efficiently by targeting these potential leads and increase the sales in a shorter span of time.\n",
    "\n",
    "\n",
    "Now, as a data scientist, your task at hand is to predict the propensity to buy a product based on the user's past activities and user level information."
   ]
  },
  {
   "cell_type": "markdown",
   "id": "a1f9bba7",
   "metadata": {},
   "source": [
    "## About Dataset\n",
    "\n",
    "\n",
    "You are provided with the leads data of last year containing both direct and indirect leads. Each lead provides information about their activity on the platform, signup information and campaign information. Based on his past activity on the platform, you need to build the predictive model to classify if the user would buy the product in the next 3 months or not."
   ]
  },
  {
   "cell_type": "markdown",
   "id": "1364a433",
   "metadata": {},
   "source": [
    "## Training set\n",
    "\n",
    "\n",
    "train.csv contains the leads information of last 1 year from Jan 2021 to Dec 2021. And also the target variable indicating if the user will buy the product in next 3 months or not \n",
    "\n",
    "\n",
    "\n",
    "* Variable _______________________________Description\n",
    "\n",
    "* id - Unique identifier of a lead\n",
    "\n",
    "* created_at - Date of lead dropped\n",
    "\n",
    "* signup_date - Sign up date of the user on the website\n",
    "\n",
    "* campaign_var (1 and 2) - campaign information of the lead\n",
    "\n",
    "* products_purchased - No. of past products purchased at the time of dropping the lead\n",
    "\n",
    "* user_activity_var (1 to 12) - Derived activities of the user on the website\n",
    "\n",
    "* buy - 0 or 1 indicating if the user will buy the product in next 3 months or not "
   ]
  },
  {
   "cell_type": "markdown",
   "id": "46ceda68",
   "metadata": {},
   "source": [
    "## Evaluation metric\n",
    "\n",
    "\n",
    "The evaluation metric for this hackathon would be F1 Score of Class 1."
   ]
  },
  {
   "cell_type": "markdown",
   "id": "15026c5a",
   "metadata": {},
   "source": [
    "## Importing Necessary Libraries"
   ]
  },
  {
   "cell_type": "code",
   "execution_count": 1,
   "id": "9c51994a",
   "metadata": {},
   "outputs": [],
   "source": [
    "import numpy as np\n",
    "import pandas as pd\n",
    "import matplotlib.pyplot as plt\n",
    "%matplotlib inline\n",
    "import seaborn as sns\n",
    "\n",
    "import warnings\n",
    "warnings.filterwarnings(\"ignore\")\n",
    "import os"
   ]
  },
  {
   "cell_type": "code",
   "execution_count": 2,
   "id": "aa2aee5a",
   "metadata": {},
   "outputs": [],
   "source": [
    "# Load Train data\n",
    "df_train=pd.read_csv('train_wn75k28.csv')"
   ]
  },
  {
   "cell_type": "code",
   "execution_count": 3,
   "id": "b0dba18c",
   "metadata": {},
   "outputs": [],
   "source": [
    "pd.options.display.max_columns= None"
   ]
  },
  {
   "cell_type": "code",
   "execution_count": 4,
   "id": "ad2ccb0f",
   "metadata": {
    "scrolled": true
   },
   "outputs": [
    {
     "data": {
      "text/html": [
       "<div>\n",
       "<style scoped>\n",
       "    .dataframe tbody tr th:only-of-type {\n",
       "        vertical-align: middle;\n",
       "    }\n",
       "\n",
       "    .dataframe tbody tr th {\n",
       "        vertical-align: top;\n",
       "    }\n",
       "\n",
       "    .dataframe thead th {\n",
       "        text-align: right;\n",
       "    }\n",
       "</style>\n",
       "<table border=\"1\" class=\"dataframe\">\n",
       "  <thead>\n",
       "    <tr style=\"text-align: right;\">\n",
       "      <th></th>\n",
       "      <th>id</th>\n",
       "      <th>created_at</th>\n",
       "      <th>campaign_var_1</th>\n",
       "      <th>campaign_var_2</th>\n",
       "      <th>products_purchased</th>\n",
       "      <th>signup_date</th>\n",
       "      <th>user_activity_var_1</th>\n",
       "      <th>user_activity_var_2</th>\n",
       "      <th>user_activity_var_3</th>\n",
       "      <th>user_activity_var_4</th>\n",
       "      <th>user_activity_var_5</th>\n",
       "      <th>user_activity_var_6</th>\n",
       "      <th>user_activity_var_7</th>\n",
       "      <th>user_activity_var_8</th>\n",
       "      <th>user_activity_var_9</th>\n",
       "      <th>user_activity_var_10</th>\n",
       "      <th>user_activity_var_11</th>\n",
       "      <th>user_activity_var_12</th>\n",
       "      <th>buy</th>\n",
       "    </tr>\n",
       "  </thead>\n",
       "  <tbody>\n",
       "    <tr>\n",
       "      <th>0</th>\n",
       "      <td>1</td>\n",
       "      <td>2021-01-01</td>\n",
       "      <td>1</td>\n",
       "      <td>2</td>\n",
       "      <td>2.0</td>\n",
       "      <td>2020-09-24</td>\n",
       "      <td>0</td>\n",
       "      <td>0</td>\n",
       "      <td>0</td>\n",
       "      <td>0</td>\n",
       "      <td>0</td>\n",
       "      <td>0</td>\n",
       "      <td>1</td>\n",
       "      <td>1</td>\n",
       "      <td>0</td>\n",
       "      <td>0</td>\n",
       "      <td>0</td>\n",
       "      <td>0</td>\n",
       "      <td>0</td>\n",
       "    </tr>\n",
       "    <tr>\n",
       "      <th>1</th>\n",
       "      <td>2</td>\n",
       "      <td>2021-01-01</td>\n",
       "      <td>2</td>\n",
       "      <td>1</td>\n",
       "      <td>2.0</td>\n",
       "      <td>2020-09-19</td>\n",
       "      <td>1</td>\n",
       "      <td>0</td>\n",
       "      <td>1</td>\n",
       "      <td>0</td>\n",
       "      <td>0</td>\n",
       "      <td>0</td>\n",
       "      <td>1</td>\n",
       "      <td>0</td>\n",
       "      <td>0</td>\n",
       "      <td>0</td>\n",
       "      <td>0</td>\n",
       "      <td>0</td>\n",
       "      <td>0</td>\n",
       "    </tr>\n",
       "    <tr>\n",
       "      <th>2</th>\n",
       "      <td>3</td>\n",
       "      <td>2021-01-01</td>\n",
       "      <td>9</td>\n",
       "      <td>3</td>\n",
       "      <td>3.0</td>\n",
       "      <td>2021-08-11</td>\n",
       "      <td>1</td>\n",
       "      <td>0</td>\n",
       "      <td>0</td>\n",
       "      <td>0</td>\n",
       "      <td>0</td>\n",
       "      <td>0</td>\n",
       "      <td>0</td>\n",
       "      <td>0</td>\n",
       "      <td>0</td>\n",
       "      <td>0</td>\n",
       "      <td>0</td>\n",
       "      <td>0</td>\n",
       "      <td>0</td>\n",
       "    </tr>\n",
       "    <tr>\n",
       "      <th>3</th>\n",
       "      <td>4</td>\n",
       "      <td>2021-01-01</td>\n",
       "      <td>6</td>\n",
       "      <td>7</td>\n",
       "      <td>2.0</td>\n",
       "      <td>2017-10-04</td>\n",
       "      <td>0</td>\n",
       "      <td>0</td>\n",
       "      <td>0</td>\n",
       "      <td>0</td>\n",
       "      <td>0</td>\n",
       "      <td>0</td>\n",
       "      <td>0</td>\n",
       "      <td>0</td>\n",
       "      <td>0</td>\n",
       "      <td>0</td>\n",
       "      <td>0</td>\n",
       "      <td>0</td>\n",
       "      <td>0</td>\n",
       "    </tr>\n",
       "    <tr>\n",
       "      <th>4</th>\n",
       "      <td>5</td>\n",
       "      <td>2021-01-01</td>\n",
       "      <td>4</td>\n",
       "      <td>6</td>\n",
       "      <td>NaN</td>\n",
       "      <td>2020-06-08</td>\n",
       "      <td>0</td>\n",
       "      <td>0</td>\n",
       "      <td>0</td>\n",
       "      <td>0</td>\n",
       "      <td>0</td>\n",
       "      <td>0</td>\n",
       "      <td>1</td>\n",
       "      <td>0</td>\n",
       "      <td>0</td>\n",
       "      <td>0</td>\n",
       "      <td>1</td>\n",
       "      <td>0</td>\n",
       "      <td>0</td>\n",
       "    </tr>\n",
       "  </tbody>\n",
       "</table>\n",
       "</div>"
      ],
      "text/plain": [
       "   id  created_at  campaign_var_1  campaign_var_2  products_purchased  \\\n",
       "0   1  2021-01-01               1               2                 2.0   \n",
       "1   2  2021-01-01               2               1                 2.0   \n",
       "2   3  2021-01-01               9               3                 3.0   \n",
       "3   4  2021-01-01               6               7                 2.0   \n",
       "4   5  2021-01-01               4               6                 NaN   \n",
       "\n",
       "  signup_date  user_activity_var_1  user_activity_var_2  user_activity_var_3  \\\n",
       "0  2020-09-24                    0                    0                    0   \n",
       "1  2020-09-19                    1                    0                    1   \n",
       "2  2021-08-11                    1                    0                    0   \n",
       "3  2017-10-04                    0                    0                    0   \n",
       "4  2020-06-08                    0                    0                    0   \n",
       "\n",
       "   user_activity_var_4  user_activity_var_5  user_activity_var_6  \\\n",
       "0                    0                    0                    0   \n",
       "1                    0                    0                    0   \n",
       "2                    0                    0                    0   \n",
       "3                    0                    0                    0   \n",
       "4                    0                    0                    0   \n",
       "\n",
       "   user_activity_var_7  user_activity_var_8  user_activity_var_9  \\\n",
       "0                    1                    1                    0   \n",
       "1                    1                    0                    0   \n",
       "2                    0                    0                    0   \n",
       "3                    0                    0                    0   \n",
       "4                    1                    0                    0   \n",
       "\n",
       "   user_activity_var_10  user_activity_var_11  user_activity_var_12  buy  \n",
       "0                     0                     0                     0    0  \n",
       "1                     0                     0                     0    0  \n",
       "2                     0                     0                     0    0  \n",
       "3                     0                     0                     0    0  \n",
       "4                     0                     1                     0    0  "
      ]
     },
     "execution_count": 4,
     "metadata": {},
     "output_type": "execute_result"
    }
   ],
   "source": [
    "df_train.head()"
   ]
  },
  {
   "cell_type": "code",
   "execution_count": 5,
   "id": "19fc2c72",
   "metadata": {},
   "outputs": [
    {
     "data": {
      "text/html": [
       "<div>\n",
       "<style scoped>\n",
       "    .dataframe tbody tr th:only-of-type {\n",
       "        vertical-align: middle;\n",
       "    }\n",
       "\n",
       "    .dataframe tbody tr th {\n",
       "        vertical-align: top;\n",
       "    }\n",
       "\n",
       "    .dataframe thead th {\n",
       "        text-align: right;\n",
       "    }\n",
       "</style>\n",
       "<table border=\"1\" class=\"dataframe\">\n",
       "  <thead>\n",
       "    <tr style=\"text-align: right;\">\n",
       "      <th></th>\n",
       "      <th>id</th>\n",
       "      <th>created_at</th>\n",
       "      <th>campaign_var_1</th>\n",
       "      <th>campaign_var_2</th>\n",
       "      <th>products_purchased</th>\n",
       "      <th>signup_date</th>\n",
       "      <th>user_activity_var_1</th>\n",
       "      <th>user_activity_var_2</th>\n",
       "      <th>user_activity_var_3</th>\n",
       "      <th>user_activity_var_4</th>\n",
       "      <th>user_activity_var_5</th>\n",
       "      <th>user_activity_var_6</th>\n",
       "      <th>user_activity_var_7</th>\n",
       "      <th>user_activity_var_8</th>\n",
       "      <th>user_activity_var_9</th>\n",
       "      <th>user_activity_var_10</th>\n",
       "      <th>user_activity_var_11</th>\n",
       "      <th>user_activity_var_12</th>\n",
       "      <th>buy</th>\n",
       "    </tr>\n",
       "  </thead>\n",
       "  <tbody>\n",
       "    <tr>\n",
       "      <th>39156</th>\n",
       "      <td>39157</td>\n",
       "      <td>2021-12-31</td>\n",
       "      <td>11</td>\n",
       "      <td>11</td>\n",
       "      <td>2.0</td>\n",
       "      <td>2017-10-19</td>\n",
       "      <td>1</td>\n",
       "      <td>0</td>\n",
       "      <td>0</td>\n",
       "      <td>0</td>\n",
       "      <td>1</td>\n",
       "      <td>1</td>\n",
       "      <td>1</td>\n",
       "      <td>0</td>\n",
       "      <td>0</td>\n",
       "      <td>0</td>\n",
       "      <td>0</td>\n",
       "      <td>0</td>\n",
       "      <td>0</td>\n",
       "    </tr>\n",
       "    <tr>\n",
       "      <th>39157</th>\n",
       "      <td>39158</td>\n",
       "      <td>2021-12-31</td>\n",
       "      <td>3</td>\n",
       "      <td>9</td>\n",
       "      <td>3.0</td>\n",
       "      <td>NaN</td>\n",
       "      <td>0</td>\n",
       "      <td>0</td>\n",
       "      <td>0</td>\n",
       "      <td>0</td>\n",
       "      <td>0</td>\n",
       "      <td>0</td>\n",
       "      <td>0</td>\n",
       "      <td>0</td>\n",
       "      <td>0</td>\n",
       "      <td>0</td>\n",
       "      <td>0</td>\n",
       "      <td>0</td>\n",
       "      <td>0</td>\n",
       "    </tr>\n",
       "    <tr>\n",
       "      <th>39158</th>\n",
       "      <td>39159</td>\n",
       "      <td>2021-12-31</td>\n",
       "      <td>8</td>\n",
       "      <td>7</td>\n",
       "      <td>2.0</td>\n",
       "      <td>NaN</td>\n",
       "      <td>1</td>\n",
       "      <td>0</td>\n",
       "      <td>0</td>\n",
       "      <td>0</td>\n",
       "      <td>1</td>\n",
       "      <td>0</td>\n",
       "      <td>1</td>\n",
       "      <td>0</td>\n",
       "      <td>0</td>\n",
       "      <td>0</td>\n",
       "      <td>0</td>\n",
       "      <td>0</td>\n",
       "      <td>0</td>\n",
       "    </tr>\n",
       "    <tr>\n",
       "      <th>39159</th>\n",
       "      <td>39160</td>\n",
       "      <td>2021-12-31</td>\n",
       "      <td>7</td>\n",
       "      <td>12</td>\n",
       "      <td>2.0</td>\n",
       "      <td>NaN</td>\n",
       "      <td>0</td>\n",
       "      <td>0</td>\n",
       "      <td>0</td>\n",
       "      <td>0</td>\n",
       "      <td>0</td>\n",
       "      <td>1</td>\n",
       "      <td>0</td>\n",
       "      <td>0</td>\n",
       "      <td>0</td>\n",
       "      <td>0</td>\n",
       "      <td>1</td>\n",
       "      <td>0</td>\n",
       "      <td>0</td>\n",
       "    </tr>\n",
       "    <tr>\n",
       "      <th>39160</th>\n",
       "      <td>39161</td>\n",
       "      <td>2021-12-31</td>\n",
       "      <td>2</td>\n",
       "      <td>5</td>\n",
       "      <td>NaN</td>\n",
       "      <td>2019-08-11</td>\n",
       "      <td>1</td>\n",
       "      <td>0</td>\n",
       "      <td>0</td>\n",
       "      <td>0</td>\n",
       "      <td>0</td>\n",
       "      <td>0</td>\n",
       "      <td>1</td>\n",
       "      <td>0</td>\n",
       "      <td>0</td>\n",
       "      <td>0</td>\n",
       "      <td>0</td>\n",
       "      <td>0</td>\n",
       "      <td>0</td>\n",
       "    </tr>\n",
       "  </tbody>\n",
       "</table>\n",
       "</div>"
      ],
      "text/plain": [
       "          id  created_at  campaign_var_1  campaign_var_2  products_purchased  \\\n",
       "39156  39157  2021-12-31              11              11                 2.0   \n",
       "39157  39158  2021-12-31               3               9                 3.0   \n",
       "39158  39159  2021-12-31               8               7                 2.0   \n",
       "39159  39160  2021-12-31               7              12                 2.0   \n",
       "39160  39161  2021-12-31               2               5                 NaN   \n",
       "\n",
       "      signup_date  user_activity_var_1  user_activity_var_2  \\\n",
       "39156  2017-10-19                    1                    0   \n",
       "39157         NaN                    0                    0   \n",
       "39158         NaN                    1                    0   \n",
       "39159         NaN                    0                    0   \n",
       "39160  2019-08-11                    1                    0   \n",
       "\n",
       "       user_activity_var_3  user_activity_var_4  user_activity_var_5  \\\n",
       "39156                    0                    0                    1   \n",
       "39157                    0                    0                    0   \n",
       "39158                    0                    0                    1   \n",
       "39159                    0                    0                    0   \n",
       "39160                    0                    0                    0   \n",
       "\n",
       "       user_activity_var_6  user_activity_var_7  user_activity_var_8  \\\n",
       "39156                    1                    1                    0   \n",
       "39157                    0                    0                    0   \n",
       "39158                    0                    1                    0   \n",
       "39159                    1                    0                    0   \n",
       "39160                    0                    1                    0   \n",
       "\n",
       "       user_activity_var_9  user_activity_var_10  user_activity_var_11  \\\n",
       "39156                    0                     0                     0   \n",
       "39157                    0                     0                     0   \n",
       "39158                    0                     0                     0   \n",
       "39159                    0                     0                     1   \n",
       "39160                    0                     0                     0   \n",
       "\n",
       "       user_activity_var_12  buy  \n",
       "39156                     0    0  \n",
       "39157                     0    0  \n",
       "39158                     0    0  \n",
       "39159                     0    0  \n",
       "39160                     0    0  "
      ]
     },
     "execution_count": 5,
     "metadata": {},
     "output_type": "execute_result"
    }
   ],
   "source": [
    "df_train.tail()"
   ]
  },
  {
   "cell_type": "code",
   "execution_count": 6,
   "id": "86e333b8",
   "metadata": {},
   "outputs": [],
   "source": [
    "# Load Test data\n",
    "\n",
    "df_test=pd.read_csv('test_Wf7sxXF.csv')"
   ]
  },
  {
   "cell_type": "code",
   "execution_count": 7,
   "id": "396da8a0",
   "metadata": {},
   "outputs": [
    {
     "data": {
      "text/html": [
       "<div>\n",
       "<style scoped>\n",
       "    .dataframe tbody tr th:only-of-type {\n",
       "        vertical-align: middle;\n",
       "    }\n",
       "\n",
       "    .dataframe tbody tr th {\n",
       "        vertical-align: top;\n",
       "    }\n",
       "\n",
       "    .dataframe thead th {\n",
       "        text-align: right;\n",
       "    }\n",
       "</style>\n",
       "<table border=\"1\" class=\"dataframe\">\n",
       "  <thead>\n",
       "    <tr style=\"text-align: right;\">\n",
       "      <th></th>\n",
       "      <th>id</th>\n",
       "      <th>created_at</th>\n",
       "      <th>campaign_var_1</th>\n",
       "      <th>campaign_var_2</th>\n",
       "      <th>products_purchased</th>\n",
       "      <th>signup_date</th>\n",
       "      <th>user_activity_var_1</th>\n",
       "      <th>user_activity_var_2</th>\n",
       "      <th>user_activity_var_3</th>\n",
       "      <th>user_activity_var_4</th>\n",
       "      <th>user_activity_var_5</th>\n",
       "      <th>user_activity_var_6</th>\n",
       "      <th>user_activity_var_7</th>\n",
       "      <th>user_activity_var_8</th>\n",
       "      <th>user_activity_var_9</th>\n",
       "      <th>user_activity_var_10</th>\n",
       "      <th>user_activity_var_11</th>\n",
       "      <th>user_activity_var_12</th>\n",
       "    </tr>\n",
       "  </thead>\n",
       "  <tbody>\n",
       "    <tr>\n",
       "      <th>0</th>\n",
       "      <td>39162</td>\n",
       "      <td>2022-01-01</td>\n",
       "      <td>2</td>\n",
       "      <td>2</td>\n",
       "      <td>NaN</td>\n",
       "      <td>2021-08-17</td>\n",
       "      <td>1</td>\n",
       "      <td>1</td>\n",
       "      <td>0</td>\n",
       "      <td>0</td>\n",
       "      <td>0</td>\n",
       "      <td>1</td>\n",
       "      <td>0</td>\n",
       "      <td>0</td>\n",
       "      <td>0</td>\n",
       "      <td>0</td>\n",
       "      <td>1</td>\n",
       "      <td>0</td>\n",
       "    </tr>\n",
       "    <tr>\n",
       "      <th>1</th>\n",
       "      <td>39163</td>\n",
       "      <td>2022-01-01</td>\n",
       "      <td>4</td>\n",
       "      <td>7</td>\n",
       "      <td>3.0</td>\n",
       "      <td>2020-05-21</td>\n",
       "      <td>1</td>\n",
       "      <td>0</td>\n",
       "      <td>0</td>\n",
       "      <td>0</td>\n",
       "      <td>0</td>\n",
       "      <td>0</td>\n",
       "      <td>0</td>\n",
       "      <td>1</td>\n",
       "      <td>0</td>\n",
       "      <td>0</td>\n",
       "      <td>0</td>\n",
       "      <td>0</td>\n",
       "    </tr>\n",
       "    <tr>\n",
       "      <th>2</th>\n",
       "      <td>39164</td>\n",
       "      <td>2022-01-01</td>\n",
       "      <td>8</td>\n",
       "      <td>7</td>\n",
       "      <td>NaN</td>\n",
       "      <td>NaN</td>\n",
       "      <td>0</td>\n",
       "      <td>0</td>\n",
       "      <td>0</td>\n",
       "      <td>0</td>\n",
       "      <td>1</td>\n",
       "      <td>1</td>\n",
       "      <td>0</td>\n",
       "      <td>0</td>\n",
       "      <td>0</td>\n",
       "      <td>0</td>\n",
       "      <td>0</td>\n",
       "      <td>0</td>\n",
       "    </tr>\n",
       "    <tr>\n",
       "      <th>3</th>\n",
       "      <td>39165</td>\n",
       "      <td>2022-01-01</td>\n",
       "      <td>9</td>\n",
       "      <td>8</td>\n",
       "      <td>2.0</td>\n",
       "      <td>2020-06-22</td>\n",
       "      <td>0</td>\n",
       "      <td>0</td>\n",
       "      <td>0</td>\n",
       "      <td>0</td>\n",
       "      <td>1</td>\n",
       "      <td>1</td>\n",
       "      <td>1</td>\n",
       "      <td>0</td>\n",
       "      <td>0</td>\n",
       "      <td>0</td>\n",
       "      <td>2</td>\n",
       "      <td>0</td>\n",
       "    </tr>\n",
       "    <tr>\n",
       "      <th>4</th>\n",
       "      <td>39166</td>\n",
       "      <td>2022-01-01</td>\n",
       "      <td>4</td>\n",
       "      <td>5</td>\n",
       "      <td>2.0</td>\n",
       "      <td>2021-03-10</td>\n",
       "      <td>1</td>\n",
       "      <td>0</td>\n",
       "      <td>0</td>\n",
       "      <td>0</td>\n",
       "      <td>0</td>\n",
       "      <td>0</td>\n",
       "      <td>0</td>\n",
       "      <td>0</td>\n",
       "      <td>0</td>\n",
       "      <td>0</td>\n",
       "      <td>0</td>\n",
       "      <td>0</td>\n",
       "    </tr>\n",
       "  </tbody>\n",
       "</table>\n",
       "</div>"
      ],
      "text/plain": [
       "      id  created_at  campaign_var_1  campaign_var_2  products_purchased  \\\n",
       "0  39162  2022-01-01               2               2                 NaN   \n",
       "1  39163  2022-01-01               4               7                 3.0   \n",
       "2  39164  2022-01-01               8               7                 NaN   \n",
       "3  39165  2022-01-01               9               8                 2.0   \n",
       "4  39166  2022-01-01               4               5                 2.0   \n",
       "\n",
       "  signup_date  user_activity_var_1  user_activity_var_2  user_activity_var_3  \\\n",
       "0  2021-08-17                    1                    1                    0   \n",
       "1  2020-05-21                    1                    0                    0   \n",
       "2         NaN                    0                    0                    0   \n",
       "3  2020-06-22                    0                    0                    0   \n",
       "4  2021-03-10                    1                    0                    0   \n",
       "\n",
       "   user_activity_var_4  user_activity_var_5  user_activity_var_6  \\\n",
       "0                    0                    0                    1   \n",
       "1                    0                    0                    0   \n",
       "2                    0                    1                    1   \n",
       "3                    0                    1                    1   \n",
       "4                    0                    0                    0   \n",
       "\n",
       "   user_activity_var_7  user_activity_var_8  user_activity_var_9  \\\n",
       "0                    0                    0                    0   \n",
       "1                    0                    1                    0   \n",
       "2                    0                    0                    0   \n",
       "3                    1                    0                    0   \n",
       "4                    0                    0                    0   \n",
       "\n",
       "   user_activity_var_10  user_activity_var_11  user_activity_var_12  \n",
       "0                     0                     1                     0  \n",
       "1                     0                     0                     0  \n",
       "2                     0                     0                     0  \n",
       "3                     0                     2                     0  \n",
       "4                     0                     0                     0  "
      ]
     },
     "execution_count": 7,
     "metadata": {},
     "output_type": "execute_result"
    }
   ],
   "source": [
    "df_test.head()"
   ]
  },
  {
   "cell_type": "code",
   "execution_count": 8,
   "id": "e9365b3c",
   "metadata": {},
   "outputs": [
    {
     "data": {
      "text/html": [
       "<div>\n",
       "<style scoped>\n",
       "    .dataframe tbody tr th:only-of-type {\n",
       "        vertical-align: middle;\n",
       "    }\n",
       "\n",
       "    .dataframe tbody tr th {\n",
       "        vertical-align: top;\n",
       "    }\n",
       "\n",
       "    .dataframe thead th {\n",
       "        text-align: right;\n",
       "    }\n",
       "</style>\n",
       "<table border=\"1\" class=\"dataframe\">\n",
       "  <thead>\n",
       "    <tr style=\"text-align: right;\">\n",
       "      <th></th>\n",
       "      <th>id</th>\n",
       "      <th>created_at</th>\n",
       "      <th>campaign_var_1</th>\n",
       "      <th>campaign_var_2</th>\n",
       "      <th>products_purchased</th>\n",
       "      <th>signup_date</th>\n",
       "      <th>user_activity_var_1</th>\n",
       "      <th>user_activity_var_2</th>\n",
       "      <th>user_activity_var_3</th>\n",
       "      <th>user_activity_var_4</th>\n",
       "      <th>user_activity_var_5</th>\n",
       "      <th>user_activity_var_6</th>\n",
       "      <th>user_activity_var_7</th>\n",
       "      <th>user_activity_var_8</th>\n",
       "      <th>user_activity_var_9</th>\n",
       "      <th>user_activity_var_10</th>\n",
       "      <th>user_activity_var_11</th>\n",
       "      <th>user_activity_var_12</th>\n",
       "    </tr>\n",
       "  </thead>\n",
       "  <tbody>\n",
       "    <tr>\n",
       "      <th>13179</th>\n",
       "      <td>52341</td>\n",
       "      <td>2022-03-30</td>\n",
       "      <td>16</td>\n",
       "      <td>12</td>\n",
       "      <td>NaN</td>\n",
       "      <td>NaN</td>\n",
       "      <td>0</td>\n",
       "      <td>0</td>\n",
       "      <td>0</td>\n",
       "      <td>0</td>\n",
       "      <td>0</td>\n",
       "      <td>1</td>\n",
       "      <td>1</td>\n",
       "      <td>0</td>\n",
       "      <td>0</td>\n",
       "      <td>0</td>\n",
       "      <td>0</td>\n",
       "      <td>0</td>\n",
       "    </tr>\n",
       "    <tr>\n",
       "      <th>13180</th>\n",
       "      <td>52342</td>\n",
       "      <td>2022-03-30</td>\n",
       "      <td>12</td>\n",
       "      <td>8</td>\n",
       "      <td>NaN</td>\n",
       "      <td>2022-03-19</td>\n",
       "      <td>1</td>\n",
       "      <td>0</td>\n",
       "      <td>0</td>\n",
       "      <td>0</td>\n",
       "      <td>0</td>\n",
       "      <td>1</td>\n",
       "      <td>0</td>\n",
       "      <td>0</td>\n",
       "      <td>0</td>\n",
       "      <td>0</td>\n",
       "      <td>0</td>\n",
       "      <td>0</td>\n",
       "    </tr>\n",
       "    <tr>\n",
       "      <th>13181</th>\n",
       "      <td>52343</td>\n",
       "      <td>2022-03-30</td>\n",
       "      <td>14</td>\n",
       "      <td>14</td>\n",
       "      <td>3.0</td>\n",
       "      <td>2021-08-15</td>\n",
       "      <td>0</td>\n",
       "      <td>0</td>\n",
       "      <td>1</td>\n",
       "      <td>0</td>\n",
       "      <td>0</td>\n",
       "      <td>0</td>\n",
       "      <td>1</td>\n",
       "      <td>0</td>\n",
       "      <td>0</td>\n",
       "      <td>0</td>\n",
       "      <td>0</td>\n",
       "      <td>0</td>\n",
       "    </tr>\n",
       "    <tr>\n",
       "      <th>13182</th>\n",
       "      <td>52344</td>\n",
       "      <td>2022-03-30</td>\n",
       "      <td>14</td>\n",
       "      <td>10</td>\n",
       "      <td>NaN</td>\n",
       "      <td>NaN</td>\n",
       "      <td>0</td>\n",
       "      <td>0</td>\n",
       "      <td>0</td>\n",
       "      <td>0</td>\n",
       "      <td>0</td>\n",
       "      <td>0</td>\n",
       "      <td>1</td>\n",
       "      <td>0</td>\n",
       "      <td>0</td>\n",
       "      <td>0</td>\n",
       "      <td>1</td>\n",
       "      <td>0</td>\n",
       "    </tr>\n",
       "    <tr>\n",
       "      <th>13183</th>\n",
       "      <td>52345</td>\n",
       "      <td>2022-03-30</td>\n",
       "      <td>13</td>\n",
       "      <td>13</td>\n",
       "      <td>NaN</td>\n",
       "      <td>NaN</td>\n",
       "      <td>0</td>\n",
       "      <td>0</td>\n",
       "      <td>0</td>\n",
       "      <td>0</td>\n",
       "      <td>0</td>\n",
       "      <td>1</td>\n",
       "      <td>1</td>\n",
       "      <td>1</td>\n",
       "      <td>0</td>\n",
       "      <td>0</td>\n",
       "      <td>1</td>\n",
       "      <td>0</td>\n",
       "    </tr>\n",
       "  </tbody>\n",
       "</table>\n",
       "</div>"
      ],
      "text/plain": [
       "          id  created_at  campaign_var_1  campaign_var_2  products_purchased  \\\n",
       "13179  52341  2022-03-30              16              12                 NaN   \n",
       "13180  52342  2022-03-30              12               8                 NaN   \n",
       "13181  52343  2022-03-30              14              14                 3.0   \n",
       "13182  52344  2022-03-30              14              10                 NaN   \n",
       "13183  52345  2022-03-30              13              13                 NaN   \n",
       "\n",
       "      signup_date  user_activity_var_1  user_activity_var_2  \\\n",
       "13179         NaN                    0                    0   \n",
       "13180  2022-03-19                    1                    0   \n",
       "13181  2021-08-15                    0                    0   \n",
       "13182         NaN                    0                    0   \n",
       "13183         NaN                    0                    0   \n",
       "\n",
       "       user_activity_var_3  user_activity_var_4  user_activity_var_5  \\\n",
       "13179                    0                    0                    0   \n",
       "13180                    0                    0                    0   \n",
       "13181                    1                    0                    0   \n",
       "13182                    0                    0                    0   \n",
       "13183                    0                    0                    0   \n",
       "\n",
       "       user_activity_var_6  user_activity_var_7  user_activity_var_8  \\\n",
       "13179                    1                    1                    0   \n",
       "13180                    1                    0                    0   \n",
       "13181                    0                    1                    0   \n",
       "13182                    0                    1                    0   \n",
       "13183                    1                    1                    1   \n",
       "\n",
       "       user_activity_var_9  user_activity_var_10  user_activity_var_11  \\\n",
       "13179                    0                     0                     0   \n",
       "13180                    0                     0                     0   \n",
       "13181                    0                     0                     0   \n",
       "13182                    0                     0                     1   \n",
       "13183                    0                     0                     1   \n",
       "\n",
       "       user_activity_var_12  \n",
       "13179                     0  \n",
       "13180                     0  \n",
       "13181                     0  \n",
       "13182                     0  \n",
       "13183                     0  "
      ]
     },
     "execution_count": 8,
     "metadata": {},
     "output_type": "execute_result"
    }
   ],
   "source": [
    "df_test.tail()"
   ]
  },
  {
   "cell_type": "code",
   "execution_count": 9,
   "id": "63d99a80",
   "metadata": {},
   "outputs": [
    {
     "name": "stdout",
     "output_type": "stream",
     "text": [
      "Size of train :  (39161, 19)\n",
      "Size of test :  (13184, 18)\n"
     ]
    }
   ],
   "source": [
    "# Checking size of train and test data.\n",
    "\n",
    "print('Size of train : ',df_train.shape)\n",
    "print('Size of test : ', df_test.shape)"
   ]
  },
  {
   "cell_type": "code",
   "execution_count": 10,
   "id": "2a9b3b64",
   "metadata": {
    "scrolled": false
   },
   "outputs": [
    {
     "name": "stdout",
     "output_type": "stream",
     "text": [
      "<class 'pandas.core.frame.DataFrame'>\n",
      "RangeIndex: 39161 entries, 0 to 39160\n",
      "Data columns (total 19 columns):\n",
      " #   Column                Non-Null Count  Dtype  \n",
      "---  ------                --------------  -----  \n",
      " 0   id                    39161 non-null  int64  \n",
      " 1   created_at            39161 non-null  object \n",
      " 2   campaign_var_1        39161 non-null  int64  \n",
      " 3   campaign_var_2        39161 non-null  int64  \n",
      " 4   products_purchased    18250 non-null  float64\n",
      " 5   signup_date           24048 non-null  object \n",
      " 6   user_activity_var_1   39161 non-null  int64  \n",
      " 7   user_activity_var_2   39161 non-null  int64  \n",
      " 8   user_activity_var_3   39161 non-null  int64  \n",
      " 9   user_activity_var_4   39161 non-null  int64  \n",
      " 10  user_activity_var_5   39161 non-null  int64  \n",
      " 11  user_activity_var_6   39161 non-null  int64  \n",
      " 12  user_activity_var_7   39161 non-null  int64  \n",
      " 13  user_activity_var_8   39161 non-null  int64  \n",
      " 14  user_activity_var_9   39161 non-null  int64  \n",
      " 15  user_activity_var_10  39161 non-null  int64  \n",
      " 16  user_activity_var_11  39161 non-null  int64  \n",
      " 17  user_activity_var_12  39161 non-null  int64  \n",
      " 18  buy                   39161 non-null  int64  \n",
      "dtypes: float64(1), int64(16), object(2)\n",
      "memory usage: 5.7+ MB\n"
     ]
    }
   ],
   "source": [
    "# Info of train data\n",
    "df_train.info()"
   ]
  },
  {
   "cell_type": "code",
   "execution_count": 11,
   "id": "4819cf00",
   "metadata": {
    "scrolled": true
   },
   "outputs": [],
   "source": [
    "# # Renaming the columns, Rename Target columns to default\n",
    "\n",
    "# df_train.rename(columns={'Yearly Income':'Yearly_Income','Home Status':'Home_Status','Unpaid 2 years':'Unpaid_2_years','Debt to Income':'Debt_to_Income_Ratio','File Status':'File_Status','Claim Type':'Claim_Type','Loan/No Loan':'Default','Already Defaulted':'Already_Defaulted','Postal Code':'Postal_Code','Lend Amount':'Lend_Amount','Deprecatory Records':'Deprecatory_Records','Interest Charged':'Interest_Charged','Usage Rate':'Usage_Rate','Present Balance':'Present_Balance','Gross Collection':'Gross_Collection','Sub GGGrade':'Sub_GGGrade','Account Open':'Account_Open','Total Unpaid CL':'Total_Unpaid_CL','Unpaid Amount':'Unpaid_Amount','Due Fee':'Due_Fee'},inplace= True)"
   ]
  },
  {
   "cell_type": "code",
   "execution_count": 12,
   "id": "23fa857b",
   "metadata": {},
   "outputs": [
    {
     "data": {
      "text/plain": [
       "0    37163\n",
       "1     1998\n",
       "Name: buy, dtype: int64"
      ]
     },
     "execution_count": 12,
     "metadata": {},
     "output_type": "execute_result"
    }
   ],
   "source": [
    "df_train['buy'].value_counts()"
   ]
  },
  {
   "cell_type": "code",
   "execution_count": 13,
   "id": "61262762",
   "metadata": {},
   "outputs": [
    {
     "data": {
      "text/plain": [
       "0    0.94898\n",
       "1    0.05102\n",
       "Name: buy, dtype: float64"
      ]
     },
     "execution_count": 13,
     "metadata": {},
     "output_type": "execute_result"
    }
   ],
   "source": [
    "# \n",
    "df_train['buy'].value_counts(normalize=True)"
   ]
  },
  {
   "cell_type": "markdown",
   "id": "d2213c32",
   "metadata": {},
   "source": [
    "* There are 19 variable and 39161 records in train data\n",
    "* As Buy/ No buy tagret variable there are almost 5:95 class ratio"
   ]
  },
  {
   "cell_type": "code",
   "execution_count": 14,
   "id": "1571ff5f",
   "metadata": {
    "scrolled": false
   },
   "outputs": [
    {
     "name": "stdout",
     "output_type": "stream",
     "text": [
      "<class 'pandas.core.frame.DataFrame'>\n",
      "RangeIndex: 13184 entries, 0 to 13183\n",
      "Data columns (total 18 columns):\n",
      " #   Column                Non-Null Count  Dtype  \n",
      "---  ------                --------------  -----  \n",
      " 0   id                    13184 non-null  int64  \n",
      " 1   created_at            13184 non-null  object \n",
      " 2   campaign_var_1        13184 non-null  int64  \n",
      " 3   campaign_var_2        13184 non-null  int64  \n",
      " 4   products_purchased    5048 non-null   float64\n",
      " 5   signup_date           6535 non-null   object \n",
      " 6   user_activity_var_1   13184 non-null  int64  \n",
      " 7   user_activity_var_2   13184 non-null  int64  \n",
      " 8   user_activity_var_3   13184 non-null  int64  \n",
      " 9   user_activity_var_4   13184 non-null  int64  \n",
      " 10  user_activity_var_5   13184 non-null  int64  \n",
      " 11  user_activity_var_6   13184 non-null  int64  \n",
      " 12  user_activity_var_7   13184 non-null  int64  \n",
      " 13  user_activity_var_8   13184 non-null  int64  \n",
      " 14  user_activity_var_9   13184 non-null  int64  \n",
      " 15  user_activity_var_10  13184 non-null  int64  \n",
      " 16  user_activity_var_11  13184 non-null  int64  \n",
      " 17  user_activity_var_12  13184 non-null  int64  \n",
      "dtypes: float64(1), int64(15), object(2)\n",
      "memory usage: 1.8+ MB\n"
     ]
    }
   ],
   "source": [
    "# Info of test data\n",
    "df_test.info()"
   ]
  },
  {
   "cell_type": "markdown",
   "id": "da2af5b2",
   "metadata": {},
   "source": [
    "* There are 18 variable and 13184 records in test data"
   ]
  },
  {
   "cell_type": "code",
   "execution_count": 15,
   "id": "d3101748",
   "metadata": {
    "scrolled": false
   },
   "outputs": [
    {
     "data": {
      "text/html": [
       "<div>\n",
       "<style scoped>\n",
       "    .dataframe tbody tr th:only-of-type {\n",
       "        vertical-align: middle;\n",
       "    }\n",
       "\n",
       "    .dataframe tbody tr th {\n",
       "        vertical-align: top;\n",
       "    }\n",
       "\n",
       "    .dataframe thead th {\n",
       "        text-align: right;\n",
       "    }\n",
       "</style>\n",
       "<table border=\"1\" class=\"dataframe\">\n",
       "  <thead>\n",
       "    <tr style=\"text-align: right;\">\n",
       "      <th></th>\n",
       "      <th>count</th>\n",
       "      <th>mean</th>\n",
       "      <th>std</th>\n",
       "      <th>min</th>\n",
       "      <th>25%</th>\n",
       "      <th>50%</th>\n",
       "      <th>75%</th>\n",
       "      <th>max</th>\n",
       "    </tr>\n",
       "  </thead>\n",
       "  <tbody>\n",
       "    <tr>\n",
       "      <th>id</th>\n",
       "      <td>39161.0</td>\n",
       "      <td>19581.000000</td>\n",
       "      <td>11304.951283</td>\n",
       "      <td>1.0</td>\n",
       "      <td>9791.0</td>\n",
       "      <td>19581.0</td>\n",
       "      <td>29371.0</td>\n",
       "      <td>39161.0</td>\n",
       "    </tr>\n",
       "    <tr>\n",
       "      <th>campaign_var_1</th>\n",
       "      <td>39161.0</td>\n",
       "      <td>6.523812</td>\n",
       "      <td>3.472944</td>\n",
       "      <td>1.0</td>\n",
       "      <td>4.0</td>\n",
       "      <td>6.0</td>\n",
       "      <td>9.0</td>\n",
       "      <td>16.0</td>\n",
       "    </tr>\n",
       "    <tr>\n",
       "      <th>campaign_var_2</th>\n",
       "      <td>39161.0</td>\n",
       "      <td>6.452746</td>\n",
       "      <td>2.614296</td>\n",
       "      <td>1.0</td>\n",
       "      <td>5.0</td>\n",
       "      <td>6.0</td>\n",
       "      <td>8.0</td>\n",
       "      <td>15.0</td>\n",
       "    </tr>\n",
       "    <tr>\n",
       "      <th>products_purchased</th>\n",
       "      <td>18250.0</td>\n",
       "      <td>2.154137</td>\n",
       "      <td>0.779815</td>\n",
       "      <td>1.0</td>\n",
       "      <td>2.0</td>\n",
       "      <td>2.0</td>\n",
       "      <td>3.0</td>\n",
       "      <td>4.0</td>\n",
       "    </tr>\n",
       "    <tr>\n",
       "      <th>user_activity_var_1</th>\n",
       "      <td>39161.0</td>\n",
       "      <td>0.400092</td>\n",
       "      <td>0.509194</td>\n",
       "      <td>0.0</td>\n",
       "      <td>0.0</td>\n",
       "      <td>0.0</td>\n",
       "      <td>1.0</td>\n",
       "      <td>3.0</td>\n",
       "    </tr>\n",
       "    <tr>\n",
       "      <th>user_activity_var_2</th>\n",
       "      <td>39161.0</td>\n",
       "      <td>0.006716</td>\n",
       "      <td>0.081676</td>\n",
       "      <td>0.0</td>\n",
       "      <td>0.0</td>\n",
       "      <td>0.0</td>\n",
       "      <td>0.0</td>\n",
       "      <td>1.0</td>\n",
       "    </tr>\n",
       "    <tr>\n",
       "      <th>user_activity_var_3</th>\n",
       "      <td>39161.0</td>\n",
       "      <td>0.102832</td>\n",
       "      <td>0.303743</td>\n",
       "      <td>0.0</td>\n",
       "      <td>0.0</td>\n",
       "      <td>0.0</td>\n",
       "      <td>0.0</td>\n",
       "      <td>1.0</td>\n",
       "    </tr>\n",
       "    <tr>\n",
       "      <th>user_activity_var_4</th>\n",
       "      <td>39161.0</td>\n",
       "      <td>0.011465</td>\n",
       "      <td>0.106463</td>\n",
       "      <td>0.0</td>\n",
       "      <td>0.0</td>\n",
       "      <td>0.0</td>\n",
       "      <td>0.0</td>\n",
       "      <td>1.0</td>\n",
       "    </tr>\n",
       "    <tr>\n",
       "      <th>user_activity_var_5</th>\n",
       "      <td>39161.0</td>\n",
       "      <td>0.151503</td>\n",
       "      <td>0.359681</td>\n",
       "      <td>0.0</td>\n",
       "      <td>0.0</td>\n",
       "      <td>0.0</td>\n",
       "      <td>0.0</td>\n",
       "      <td>2.0</td>\n",
       "    </tr>\n",
       "    <tr>\n",
       "      <th>user_activity_var_6</th>\n",
       "      <td>39161.0</td>\n",
       "      <td>0.499834</td>\n",
       "      <td>0.558166</td>\n",
       "      <td>0.0</td>\n",
       "      <td>0.0</td>\n",
       "      <td>0.0</td>\n",
       "      <td>1.0</td>\n",
       "      <td>3.0</td>\n",
       "    </tr>\n",
       "    <tr>\n",
       "      <th>user_activity_var_7</th>\n",
       "      <td>39161.0</td>\n",
       "      <td>0.286612</td>\n",
       "      <td>0.455784</td>\n",
       "      <td>0.0</td>\n",
       "      <td>0.0</td>\n",
       "      <td>0.0</td>\n",
       "      <td>1.0</td>\n",
       "      <td>2.0</td>\n",
       "    </tr>\n",
       "    <tr>\n",
       "      <th>user_activity_var_8</th>\n",
       "      <td>39161.0</td>\n",
       "      <td>0.174434</td>\n",
       "      <td>0.379689</td>\n",
       "      <td>0.0</td>\n",
       "      <td>0.0</td>\n",
       "      <td>0.0</td>\n",
       "      <td>0.0</td>\n",
       "      <td>2.0</td>\n",
       "    </tr>\n",
       "    <tr>\n",
       "      <th>user_activity_var_9</th>\n",
       "      <td>39161.0</td>\n",
       "      <td>0.011440</td>\n",
       "      <td>0.106346</td>\n",
       "      <td>0.0</td>\n",
       "      <td>0.0</td>\n",
       "      <td>0.0</td>\n",
       "      <td>0.0</td>\n",
       "      <td>1.0</td>\n",
       "    </tr>\n",
       "    <tr>\n",
       "      <th>user_activity_var_10</th>\n",
       "      <td>39161.0</td>\n",
       "      <td>0.000383</td>\n",
       "      <td>0.019568</td>\n",
       "      <td>0.0</td>\n",
       "      <td>0.0</td>\n",
       "      <td>0.0</td>\n",
       "      <td>0.0</td>\n",
       "      <td>1.0</td>\n",
       "    </tr>\n",
       "    <tr>\n",
       "      <th>user_activity_var_11</th>\n",
       "      <td>39161.0</td>\n",
       "      <td>0.218942</td>\n",
       "      <td>0.431544</td>\n",
       "      <td>0.0</td>\n",
       "      <td>0.0</td>\n",
       "      <td>0.0</td>\n",
       "      <td>0.0</td>\n",
       "      <td>4.0</td>\n",
       "    </tr>\n",
       "    <tr>\n",
       "      <th>user_activity_var_12</th>\n",
       "      <td>39161.0</td>\n",
       "      <td>0.000562</td>\n",
       "      <td>0.023696</td>\n",
       "      <td>0.0</td>\n",
       "      <td>0.0</td>\n",
       "      <td>0.0</td>\n",
       "      <td>0.0</td>\n",
       "      <td>1.0</td>\n",
       "    </tr>\n",
       "    <tr>\n",
       "      <th>buy</th>\n",
       "      <td>39161.0</td>\n",
       "      <td>0.051020</td>\n",
       "      <td>0.220042</td>\n",
       "      <td>0.0</td>\n",
       "      <td>0.0</td>\n",
       "      <td>0.0</td>\n",
       "      <td>0.0</td>\n",
       "      <td>1.0</td>\n",
       "    </tr>\n",
       "  </tbody>\n",
       "</table>\n",
       "</div>"
      ],
      "text/plain": [
       "                        count          mean           std  min     25%  \\\n",
       "id                    39161.0  19581.000000  11304.951283  1.0  9791.0   \n",
       "campaign_var_1        39161.0      6.523812      3.472944  1.0     4.0   \n",
       "campaign_var_2        39161.0      6.452746      2.614296  1.0     5.0   \n",
       "products_purchased    18250.0      2.154137      0.779815  1.0     2.0   \n",
       "user_activity_var_1   39161.0      0.400092      0.509194  0.0     0.0   \n",
       "user_activity_var_2   39161.0      0.006716      0.081676  0.0     0.0   \n",
       "user_activity_var_3   39161.0      0.102832      0.303743  0.0     0.0   \n",
       "user_activity_var_4   39161.0      0.011465      0.106463  0.0     0.0   \n",
       "user_activity_var_5   39161.0      0.151503      0.359681  0.0     0.0   \n",
       "user_activity_var_6   39161.0      0.499834      0.558166  0.0     0.0   \n",
       "user_activity_var_7   39161.0      0.286612      0.455784  0.0     0.0   \n",
       "user_activity_var_8   39161.0      0.174434      0.379689  0.0     0.0   \n",
       "user_activity_var_9   39161.0      0.011440      0.106346  0.0     0.0   \n",
       "user_activity_var_10  39161.0      0.000383      0.019568  0.0     0.0   \n",
       "user_activity_var_11  39161.0      0.218942      0.431544  0.0     0.0   \n",
       "user_activity_var_12  39161.0      0.000562      0.023696  0.0     0.0   \n",
       "buy                   39161.0      0.051020      0.220042  0.0     0.0   \n",
       "\n",
       "                          50%      75%      max  \n",
       "id                    19581.0  29371.0  39161.0  \n",
       "campaign_var_1            6.0      9.0     16.0  \n",
       "campaign_var_2            6.0      8.0     15.0  \n",
       "products_purchased        2.0      3.0      4.0  \n",
       "user_activity_var_1       0.0      1.0      3.0  \n",
       "user_activity_var_2       0.0      0.0      1.0  \n",
       "user_activity_var_3       0.0      0.0      1.0  \n",
       "user_activity_var_4       0.0      0.0      1.0  \n",
       "user_activity_var_5       0.0      0.0      2.0  \n",
       "user_activity_var_6       0.0      1.0      3.0  \n",
       "user_activity_var_7       0.0      1.0      2.0  \n",
       "user_activity_var_8       0.0      0.0      2.0  \n",
       "user_activity_var_9       0.0      0.0      1.0  \n",
       "user_activity_var_10      0.0      0.0      1.0  \n",
       "user_activity_var_11      0.0      0.0      4.0  \n",
       "user_activity_var_12      0.0      0.0      1.0  \n",
       "buy                       0.0      0.0      1.0  "
      ]
     },
     "execution_count": 15,
     "metadata": {},
     "output_type": "execute_result"
    }
   ],
   "source": [
    "df_train.describe().T"
   ]
  },
  {
   "cell_type": "code",
   "execution_count": 16,
   "id": "fa7f7ddf",
   "metadata": {},
   "outputs": [
    {
     "data": {
      "text/html": [
       "<div>\n",
       "<style scoped>\n",
       "    .dataframe tbody tr th:only-of-type {\n",
       "        vertical-align: middle;\n",
       "    }\n",
       "\n",
       "    .dataframe tbody tr th {\n",
       "        vertical-align: top;\n",
       "    }\n",
       "\n",
       "    .dataframe thead th {\n",
       "        text-align: right;\n",
       "    }\n",
       "</style>\n",
       "<table border=\"1\" class=\"dataframe\">\n",
       "  <thead>\n",
       "    <tr style=\"text-align: right;\">\n",
       "      <th></th>\n",
       "      <th>count</th>\n",
       "      <th>mean</th>\n",
       "      <th>std</th>\n",
       "      <th>min</th>\n",
       "      <th>25%</th>\n",
       "      <th>50%</th>\n",
       "      <th>75%</th>\n",
       "      <th>max</th>\n",
       "    </tr>\n",
       "  </thead>\n",
       "  <tbody>\n",
       "    <tr>\n",
       "      <th>id</th>\n",
       "      <td>13184.0</td>\n",
       "      <td>45753.500000</td>\n",
       "      <td>3806.037309</td>\n",
       "      <td>39162.0</td>\n",
       "      <td>42457.75</td>\n",
       "      <td>45753.5</td>\n",
       "      <td>49049.25</td>\n",
       "      <td>52345.0</td>\n",
       "    </tr>\n",
       "    <tr>\n",
       "      <th>campaign_var_1</th>\n",
       "      <td>13184.0</td>\n",
       "      <td>7.724439</td>\n",
       "      <td>3.599981</td>\n",
       "      <td>1.0</td>\n",
       "      <td>5.00</td>\n",
       "      <td>8.0</td>\n",
       "      <td>10.00</td>\n",
       "      <td>16.0</td>\n",
       "    </tr>\n",
       "    <tr>\n",
       "      <th>campaign_var_2</th>\n",
       "      <td>13184.0</td>\n",
       "      <td>7.943416</td>\n",
       "      <td>2.687832</td>\n",
       "      <td>1.0</td>\n",
       "      <td>6.00</td>\n",
       "      <td>8.0</td>\n",
       "      <td>10.00</td>\n",
       "      <td>15.0</td>\n",
       "    </tr>\n",
       "    <tr>\n",
       "      <th>products_purchased</th>\n",
       "      <td>5048.0</td>\n",
       "      <td>2.108954</td>\n",
       "      <td>0.783483</td>\n",
       "      <td>1.0</td>\n",
       "      <td>2.00</td>\n",
       "      <td>2.0</td>\n",
       "      <td>3.00</td>\n",
       "      <td>4.0</td>\n",
       "    </tr>\n",
       "    <tr>\n",
       "      <th>user_activity_var_1</th>\n",
       "      <td>13184.0</td>\n",
       "      <td>0.386681</td>\n",
       "      <td>0.505653</td>\n",
       "      <td>0.0</td>\n",
       "      <td>0.00</td>\n",
       "      <td>0.0</td>\n",
       "      <td>1.00</td>\n",
       "      <td>3.0</td>\n",
       "    </tr>\n",
       "    <tr>\n",
       "      <th>user_activity_var_2</th>\n",
       "      <td>13184.0</td>\n",
       "      <td>0.004248</td>\n",
       "      <td>0.065037</td>\n",
       "      <td>0.0</td>\n",
       "      <td>0.00</td>\n",
       "      <td>0.0</td>\n",
       "      <td>0.00</td>\n",
       "      <td>1.0</td>\n",
       "    </tr>\n",
       "    <tr>\n",
       "      <th>user_activity_var_3</th>\n",
       "      <td>13184.0</td>\n",
       "      <td>0.103307</td>\n",
       "      <td>0.304371</td>\n",
       "      <td>0.0</td>\n",
       "      <td>0.00</td>\n",
       "      <td>0.0</td>\n",
       "      <td>0.00</td>\n",
       "      <td>1.0</td>\n",
       "    </tr>\n",
       "    <tr>\n",
       "      <th>user_activity_var_4</th>\n",
       "      <td>13184.0</td>\n",
       "      <td>0.007130</td>\n",
       "      <td>0.084140</td>\n",
       "      <td>0.0</td>\n",
       "      <td>0.00</td>\n",
       "      <td>0.0</td>\n",
       "      <td>0.00</td>\n",
       "      <td>1.0</td>\n",
       "    </tr>\n",
       "    <tr>\n",
       "      <th>user_activity_var_5</th>\n",
       "      <td>13184.0</td>\n",
       "      <td>0.153064</td>\n",
       "      <td>0.360695</td>\n",
       "      <td>0.0</td>\n",
       "      <td>0.00</td>\n",
       "      <td>0.0</td>\n",
       "      <td>0.00</td>\n",
       "      <td>2.0</td>\n",
       "    </tr>\n",
       "    <tr>\n",
       "      <th>user_activity_var_6</th>\n",
       "      <td>13184.0</td>\n",
       "      <td>0.525485</td>\n",
       "      <td>0.565208</td>\n",
       "      <td>0.0</td>\n",
       "      <td>0.00</td>\n",
       "      <td>0.0</td>\n",
       "      <td>1.00</td>\n",
       "      <td>3.0</td>\n",
       "    </tr>\n",
       "    <tr>\n",
       "      <th>user_activity_var_7</th>\n",
       "      <td>13184.0</td>\n",
       "      <td>0.304460</td>\n",
       "      <td>0.462989</td>\n",
       "      <td>0.0</td>\n",
       "      <td>0.00</td>\n",
       "      <td>0.0</td>\n",
       "      <td>1.00</td>\n",
       "      <td>2.0</td>\n",
       "    </tr>\n",
       "    <tr>\n",
       "      <th>user_activity_var_8</th>\n",
       "      <td>13184.0</td>\n",
       "      <td>0.142673</td>\n",
       "      <td>0.349969</td>\n",
       "      <td>0.0</td>\n",
       "      <td>0.00</td>\n",
       "      <td>0.0</td>\n",
       "      <td>0.00</td>\n",
       "      <td>2.0</td>\n",
       "    </tr>\n",
       "    <tr>\n",
       "      <th>user_activity_var_9</th>\n",
       "      <td>13184.0</td>\n",
       "      <td>0.008419</td>\n",
       "      <td>0.092200</td>\n",
       "      <td>0.0</td>\n",
       "      <td>0.00</td>\n",
       "      <td>0.0</td>\n",
       "      <td>0.00</td>\n",
       "      <td>2.0</td>\n",
       "    </tr>\n",
       "    <tr>\n",
       "      <th>user_activity_var_10</th>\n",
       "      <td>13184.0</td>\n",
       "      <td>0.000228</td>\n",
       "      <td>0.015084</td>\n",
       "      <td>0.0</td>\n",
       "      <td>0.00</td>\n",
       "      <td>0.0</td>\n",
       "      <td>0.00</td>\n",
       "      <td>1.0</td>\n",
       "    </tr>\n",
       "    <tr>\n",
       "      <th>user_activity_var_11</th>\n",
       "      <td>13184.0</td>\n",
       "      <td>0.253413</td>\n",
       "      <td>0.462698</td>\n",
       "      <td>0.0</td>\n",
       "      <td>0.00</td>\n",
       "      <td>0.0</td>\n",
       "      <td>0.00</td>\n",
       "      <td>3.0</td>\n",
       "    </tr>\n",
       "    <tr>\n",
       "      <th>user_activity_var_12</th>\n",
       "      <td>13184.0</td>\n",
       "      <td>0.000228</td>\n",
       "      <td>0.015084</td>\n",
       "      <td>0.0</td>\n",
       "      <td>0.00</td>\n",
       "      <td>0.0</td>\n",
       "      <td>0.00</td>\n",
       "      <td>1.0</td>\n",
       "    </tr>\n",
       "  </tbody>\n",
       "</table>\n",
       "</div>"
      ],
      "text/plain": [
       "                        count          mean          std      min       25%  \\\n",
       "id                    13184.0  45753.500000  3806.037309  39162.0  42457.75   \n",
       "campaign_var_1        13184.0      7.724439     3.599981      1.0      5.00   \n",
       "campaign_var_2        13184.0      7.943416     2.687832      1.0      6.00   \n",
       "products_purchased     5048.0      2.108954     0.783483      1.0      2.00   \n",
       "user_activity_var_1   13184.0      0.386681     0.505653      0.0      0.00   \n",
       "user_activity_var_2   13184.0      0.004248     0.065037      0.0      0.00   \n",
       "user_activity_var_3   13184.0      0.103307     0.304371      0.0      0.00   \n",
       "user_activity_var_4   13184.0      0.007130     0.084140      0.0      0.00   \n",
       "user_activity_var_5   13184.0      0.153064     0.360695      0.0      0.00   \n",
       "user_activity_var_6   13184.0      0.525485     0.565208      0.0      0.00   \n",
       "user_activity_var_7   13184.0      0.304460     0.462989      0.0      0.00   \n",
       "user_activity_var_8   13184.0      0.142673     0.349969      0.0      0.00   \n",
       "user_activity_var_9   13184.0      0.008419     0.092200      0.0      0.00   \n",
       "user_activity_var_10  13184.0      0.000228     0.015084      0.0      0.00   \n",
       "user_activity_var_11  13184.0      0.253413     0.462698      0.0      0.00   \n",
       "user_activity_var_12  13184.0      0.000228     0.015084      0.0      0.00   \n",
       "\n",
       "                          50%       75%      max  \n",
       "id                    45753.5  49049.25  52345.0  \n",
       "campaign_var_1            8.0     10.00     16.0  \n",
       "campaign_var_2            8.0     10.00     15.0  \n",
       "products_purchased        2.0      3.00      4.0  \n",
       "user_activity_var_1       0.0      1.00      3.0  \n",
       "user_activity_var_2       0.0      0.00      1.0  \n",
       "user_activity_var_3       0.0      0.00      1.0  \n",
       "user_activity_var_4       0.0      0.00      1.0  \n",
       "user_activity_var_5       0.0      0.00      2.0  \n",
       "user_activity_var_6       0.0      1.00      3.0  \n",
       "user_activity_var_7       0.0      1.00      2.0  \n",
       "user_activity_var_8       0.0      0.00      2.0  \n",
       "user_activity_var_9       0.0      0.00      2.0  \n",
       "user_activity_var_10      0.0      0.00      1.0  \n",
       "user_activity_var_11      0.0      0.00      3.0  \n",
       "user_activity_var_12      0.0      0.00      1.0  "
      ]
     },
     "execution_count": 16,
     "metadata": {},
     "output_type": "execute_result"
    }
   ],
   "source": [
    "df_test.describe().T"
   ]
  },
  {
   "cell_type": "code",
   "execution_count": 17,
   "id": "313500ac",
   "metadata": {
    "scrolled": false
   },
   "outputs": [
    {
     "data": {
      "text/plain": [
       "products_purchased      20911\n",
       "signup_date             15113\n",
       "id                          0\n",
       "user_activity_var_6         0\n",
       "user_activity_var_12        0\n",
       "user_activity_var_11        0\n",
       "user_activity_var_10        0\n",
       "user_activity_var_9         0\n",
       "user_activity_var_8         0\n",
       "user_activity_var_7         0\n",
       "user_activity_var_4         0\n",
       "user_activity_var_5         0\n",
       "created_at                  0\n",
       "user_activity_var_3         0\n",
       "user_activity_var_2         0\n",
       "user_activity_var_1         0\n",
       "campaign_var_2              0\n",
       "campaign_var_1              0\n",
       "buy                         0\n",
       "dtype: int64"
      ]
     },
     "execution_count": 17,
     "metadata": {},
     "output_type": "execute_result"
    }
   ],
   "source": [
    "#  Checking missing value in train\n",
    "df_train.isnull().sum().sort_values(ascending=False)"
   ]
  },
  {
   "cell_type": "code",
   "execution_count": 18,
   "id": "735c3f6b",
   "metadata": {
    "scrolled": false
   },
   "outputs": [
    {
     "data": {
      "text/plain": [
       "products_purchased      8136\n",
       "signup_date             6649\n",
       "id                         0\n",
       "user_activity_var_5        0\n",
       "user_activity_var_11       0\n",
       "user_activity_var_10       0\n",
       "user_activity_var_9        0\n",
       "user_activity_var_8        0\n",
       "user_activity_var_7        0\n",
       "user_activity_var_6        0\n",
       "user_activity_var_4        0\n",
       "created_at                 0\n",
       "user_activity_var_3        0\n",
       "user_activity_var_2        0\n",
       "user_activity_var_1        0\n",
       "campaign_var_2             0\n",
       "campaign_var_1             0\n",
       "user_activity_var_12       0\n",
       "dtype: int64"
      ]
     },
     "execution_count": 18,
     "metadata": {},
     "output_type": "execute_result"
    }
   ],
   "source": [
    "#  Checking missing value in test\n",
    "df_test.isnull().sum().sort_values(ascending=False)"
   ]
  },
  {
   "cell_type": "markdown",
   "id": "e52b4ffd",
   "metadata": {},
   "source": [
    "* Missing values in two feature products_purchased  signup_date "
   ]
  },
  {
   "cell_type": "code",
   "execution_count": 19,
   "id": "9e14d092",
   "metadata": {},
   "outputs": [
    {
     "data": {
      "text/plain": [
       "0"
      ]
     },
     "execution_count": 19,
     "metadata": {},
     "output_type": "execute_result"
    }
   ],
   "source": [
    "#  Checking duplicated value in train set\n",
    "df_train.duplicated().sum()"
   ]
  },
  {
   "cell_type": "code",
   "execution_count": 20,
   "id": "ab0b60f6",
   "metadata": {
    "scrolled": true
   },
   "outputs": [
    {
     "data": {
      "text/plain": [
       "0"
      ]
     },
     "execution_count": 20,
     "metadata": {},
     "output_type": "execute_result"
    }
   ],
   "source": [
    "#  Checking duplicated value in train set\n",
    "df_test.duplicated().sum()"
   ]
  },
  {
   "cell_type": "code",
   "execution_count": 21,
   "id": "56b501df",
   "metadata": {
    "scrolled": false
   },
   "outputs": [
    {
     "data": {
      "text/plain": [
       "products_purchased      53.397513\n",
       "signup_date             38.591966\n",
       "id                       0.000000\n",
       "user_activity_var_6      0.000000\n",
       "user_activity_var_12     0.000000\n",
       "user_activity_var_11     0.000000\n",
       "user_activity_var_10     0.000000\n",
       "user_activity_var_9      0.000000\n",
       "user_activity_var_8      0.000000\n",
       "user_activity_var_7      0.000000\n",
       "user_activity_var_4      0.000000\n",
       "user_activity_var_5      0.000000\n",
       "created_at               0.000000\n",
       "user_activity_var_3      0.000000\n",
       "user_activity_var_2      0.000000\n",
       "user_activity_var_1      0.000000\n",
       "campaign_var_2           0.000000\n",
       "campaign_var_1           0.000000\n",
       "buy                      0.000000\n",
       "dtype: float64"
      ]
     },
     "execution_count": 21,
     "metadata": {},
     "output_type": "execute_result"
    }
   ],
   "source": [
    "# Total % missing values by features Train\n",
    "\n",
    "percent_missing = df_train.isnull().sum() * 100 / df_train.shape[0]\n",
    "percent_missing.sort_values(ascending=False)"
   ]
  },
  {
   "cell_type": "code",
   "execution_count": 22,
   "id": "a8ddcc4f",
   "metadata": {
    "scrolled": false
   },
   "outputs": [
    {
     "data": {
      "text/plain": [
       "products_purchased      61.711165\n",
       "signup_date             50.432342\n",
       "id                       0.000000\n",
       "user_activity_var_5      0.000000\n",
       "user_activity_var_11     0.000000\n",
       "user_activity_var_10     0.000000\n",
       "user_activity_var_9      0.000000\n",
       "user_activity_var_8      0.000000\n",
       "user_activity_var_7      0.000000\n",
       "user_activity_var_6      0.000000\n",
       "user_activity_var_4      0.000000\n",
       "created_at               0.000000\n",
       "user_activity_var_3      0.000000\n",
       "user_activity_var_2      0.000000\n",
       "user_activity_var_1      0.000000\n",
       "campaign_var_2           0.000000\n",
       "campaign_var_1           0.000000\n",
       "user_activity_var_12     0.000000\n",
       "dtype: float64"
      ]
     },
     "execution_count": 22,
     "metadata": {},
     "output_type": "execute_result"
    }
   ],
   "source": [
    "# Total % missing values by features Test\n",
    "\n",
    "percent_missing = df_test.isnull().sum() * 100 / df_test.shape[0]\n",
    "percent_missing.sort_values(ascending=False)"
   ]
  },
  {
   "cell_type": "code",
   "execution_count": 23,
   "id": "9dfd4b9e",
   "metadata": {},
   "outputs": [],
   "source": [
    "#  Combine train and test data into single dataframe\n",
    "df=pd.concat([df_train,df_test],axis=0)"
   ]
  },
  {
   "cell_type": "code",
   "execution_count": 24,
   "id": "b73f69e1",
   "metadata": {
    "scrolled": false
   },
   "outputs": [
    {
     "name": "stdout",
     "output_type": "stream",
     "text": [
      "<class 'pandas.core.frame.DataFrame'>\n",
      "Int64Index: 52345 entries, 0 to 13183\n",
      "Data columns (total 19 columns):\n",
      " #   Column                Non-Null Count  Dtype  \n",
      "---  ------                --------------  -----  \n",
      " 0   id                    52345 non-null  int64  \n",
      " 1   created_at            52345 non-null  object \n",
      " 2   campaign_var_1        52345 non-null  int64  \n",
      " 3   campaign_var_2        52345 non-null  int64  \n",
      " 4   products_purchased    23298 non-null  float64\n",
      " 5   signup_date           30583 non-null  object \n",
      " 6   user_activity_var_1   52345 non-null  int64  \n",
      " 7   user_activity_var_2   52345 non-null  int64  \n",
      " 8   user_activity_var_3   52345 non-null  int64  \n",
      " 9   user_activity_var_4   52345 non-null  int64  \n",
      " 10  user_activity_var_5   52345 non-null  int64  \n",
      " 11  user_activity_var_6   52345 non-null  int64  \n",
      " 12  user_activity_var_7   52345 non-null  int64  \n",
      " 13  user_activity_var_8   52345 non-null  int64  \n",
      " 14  user_activity_var_9   52345 non-null  int64  \n",
      " 15  user_activity_var_10  52345 non-null  int64  \n",
      " 16  user_activity_var_11  52345 non-null  int64  \n",
      " 17  user_activity_var_12  52345 non-null  int64  \n",
      " 18  buy                   39161 non-null  float64\n",
      "dtypes: float64(2), int64(15), object(2)\n",
      "memory usage: 8.0+ MB\n"
     ]
    }
   ],
   "source": [
    "df.info()"
   ]
  },
  {
   "cell_type": "code",
   "execution_count": 25,
   "id": "421da8ff",
   "metadata": {},
   "outputs": [],
   "source": [
    "#created_at and signup_date are date formate datatype we need to convert it into datetime64\n",
    "df[\"created_at\"] = df[\"created_at\"].astype(\"datetime64\")\n",
    "df[\"signup_date\"] = df[\"signup_date\"].astype(\"datetime64\")"
   ]
  },
  {
   "cell_type": "code",
   "execution_count": 26,
   "id": "7fe75f7d",
   "metadata": {},
   "outputs": [
    {
     "name": "stdout",
     "output_type": "stream",
     "text": [
      "<class 'pandas.core.frame.DataFrame'>\n",
      "Int64Index: 52345 entries, 0 to 13183\n",
      "Data columns (total 19 columns):\n",
      " #   Column                Non-Null Count  Dtype         \n",
      "---  ------                --------------  -----         \n",
      " 0   id                    52345 non-null  int64         \n",
      " 1   created_at            52345 non-null  datetime64[ns]\n",
      " 2   campaign_var_1        52345 non-null  int64         \n",
      " 3   campaign_var_2        52345 non-null  int64         \n",
      " 4   products_purchased    23298 non-null  float64       \n",
      " 5   signup_date           30583 non-null  datetime64[ns]\n",
      " 6   user_activity_var_1   52345 non-null  int64         \n",
      " 7   user_activity_var_2   52345 non-null  int64         \n",
      " 8   user_activity_var_3   52345 non-null  int64         \n",
      " 9   user_activity_var_4   52345 non-null  int64         \n",
      " 10  user_activity_var_5   52345 non-null  int64         \n",
      " 11  user_activity_var_6   52345 non-null  int64         \n",
      " 12  user_activity_var_7   52345 non-null  int64         \n",
      " 13  user_activity_var_8   52345 non-null  int64         \n",
      " 14  user_activity_var_9   52345 non-null  int64         \n",
      " 15  user_activity_var_10  52345 non-null  int64         \n",
      " 16  user_activity_var_11  52345 non-null  int64         \n",
      " 17  user_activity_var_12  52345 non-null  int64         \n",
      " 18  buy                   39161 non-null  float64       \n",
      "dtypes: datetime64[ns](2), float64(2), int64(15)\n",
      "memory usage: 8.0 MB\n"
     ]
    }
   ],
   "source": [
    "df.info()"
   ]
  },
  {
   "cell_type": "code",
   "execution_count": 27,
   "id": "b1d3b592",
   "metadata": {
    "scrolled": false
   },
   "outputs": [
    {
     "data": {
      "text/html": [
       "<div>\n",
       "<style scoped>\n",
       "    .dataframe tbody tr th:only-of-type {\n",
       "        vertical-align: middle;\n",
       "    }\n",
       "\n",
       "    .dataframe tbody tr th {\n",
       "        vertical-align: top;\n",
       "    }\n",
       "\n",
       "    .dataframe thead th {\n",
       "        text-align: right;\n",
       "    }\n",
       "</style>\n",
       "<table border=\"1\" class=\"dataframe\">\n",
       "  <thead>\n",
       "    <tr style=\"text-align: right;\">\n",
       "      <th></th>\n",
       "      <th>count</th>\n",
       "      <th>mean</th>\n",
       "      <th>std</th>\n",
       "      <th>min</th>\n",
       "      <th>25%</th>\n",
       "      <th>50%</th>\n",
       "      <th>75%</th>\n",
       "      <th>max</th>\n",
       "    </tr>\n",
       "  </thead>\n",
       "  <tbody>\n",
       "    <tr>\n",
       "      <th>id</th>\n",
       "      <td>52345.0</td>\n",
       "      <td>26173.000000</td>\n",
       "      <td>15110.844257</td>\n",
       "      <td>1.0</td>\n",
       "      <td>13087.0</td>\n",
       "      <td>26173.0</td>\n",
       "      <td>39259.0</td>\n",
       "      <td>52345.0</td>\n",
       "    </tr>\n",
       "    <tr>\n",
       "      <th>campaign_var_1</th>\n",
       "      <td>52345.0</td>\n",
       "      <td>6.826211</td>\n",
       "      <td>3.543873</td>\n",
       "      <td>1.0</td>\n",
       "      <td>4.0</td>\n",
       "      <td>6.0</td>\n",
       "      <td>9.0</td>\n",
       "      <td>16.0</td>\n",
       "    </tr>\n",
       "    <tr>\n",
       "      <th>campaign_var_2</th>\n",
       "      <td>52345.0</td>\n",
       "      <td>6.828198</td>\n",
       "      <td>2.711333</td>\n",
       "      <td>1.0</td>\n",
       "      <td>5.0</td>\n",
       "      <td>7.0</td>\n",
       "      <td>9.0</td>\n",
       "      <td>15.0</td>\n",
       "    </tr>\n",
       "    <tr>\n",
       "      <th>products_purchased</th>\n",
       "      <td>23298.0</td>\n",
       "      <td>2.144347</td>\n",
       "      <td>0.780816</td>\n",
       "      <td>1.0</td>\n",
       "      <td>2.0</td>\n",
       "      <td>2.0</td>\n",
       "      <td>3.0</td>\n",
       "      <td>4.0</td>\n",
       "    </tr>\n",
       "    <tr>\n",
       "      <th>user_activity_var_1</th>\n",
       "      <td>52345.0</td>\n",
       "      <td>0.396714</td>\n",
       "      <td>0.508333</td>\n",
       "      <td>0.0</td>\n",
       "      <td>0.0</td>\n",
       "      <td>0.0</td>\n",
       "      <td>1.0</td>\n",
       "      <td>3.0</td>\n",
       "    </tr>\n",
       "    <tr>\n",
       "      <th>user_activity_var_2</th>\n",
       "      <td>52345.0</td>\n",
       "      <td>0.006094</td>\n",
       "      <td>0.077828</td>\n",
       "      <td>0.0</td>\n",
       "      <td>0.0</td>\n",
       "      <td>0.0</td>\n",
       "      <td>0.0</td>\n",
       "      <td>1.0</td>\n",
       "    </tr>\n",
       "    <tr>\n",
       "      <th>user_activity_var_3</th>\n",
       "      <td>52345.0</td>\n",
       "      <td>0.102952</td>\n",
       "      <td>0.303899</td>\n",
       "      <td>0.0</td>\n",
       "      <td>0.0</td>\n",
       "      <td>0.0</td>\n",
       "      <td>0.0</td>\n",
       "      <td>1.0</td>\n",
       "    </tr>\n",
       "    <tr>\n",
       "      <th>user_activity_var_4</th>\n",
       "      <td>52345.0</td>\n",
       "      <td>0.010373</td>\n",
       "      <td>0.101322</td>\n",
       "      <td>0.0</td>\n",
       "      <td>0.0</td>\n",
       "      <td>0.0</td>\n",
       "      <td>0.0</td>\n",
       "      <td>1.0</td>\n",
       "    </tr>\n",
       "    <tr>\n",
       "      <th>user_activity_var_5</th>\n",
       "      <td>52345.0</td>\n",
       "      <td>0.151896</td>\n",
       "      <td>0.359933</td>\n",
       "      <td>0.0</td>\n",
       "      <td>0.0</td>\n",
       "      <td>0.0</td>\n",
       "      <td>0.0</td>\n",
       "      <td>2.0</td>\n",
       "    </tr>\n",
       "    <tr>\n",
       "      <th>user_activity_var_6</th>\n",
       "      <td>52345.0</td>\n",
       "      <td>0.506295</td>\n",
       "      <td>0.560053</td>\n",
       "      <td>0.0</td>\n",
       "      <td>0.0</td>\n",
       "      <td>0.0</td>\n",
       "      <td>1.0</td>\n",
       "      <td>3.0</td>\n",
       "    </tr>\n",
       "    <tr>\n",
       "      <th>user_activity_var_7</th>\n",
       "      <td>52345.0</td>\n",
       "      <td>0.291107</td>\n",
       "      <td>0.457671</td>\n",
       "      <td>0.0</td>\n",
       "      <td>0.0</td>\n",
       "      <td>0.0</td>\n",
       "      <td>1.0</td>\n",
       "      <td>2.0</td>\n",
       "    </tr>\n",
       "    <tr>\n",
       "      <th>user_activity_var_8</th>\n",
       "      <td>52345.0</td>\n",
       "      <td>0.166434</td>\n",
       "      <td>0.372679</td>\n",
       "      <td>0.0</td>\n",
       "      <td>0.0</td>\n",
       "      <td>0.0</td>\n",
       "      <td>0.0</td>\n",
       "      <td>2.0</td>\n",
       "    </tr>\n",
       "    <tr>\n",
       "      <th>user_activity_var_9</th>\n",
       "      <td>52345.0</td>\n",
       "      <td>0.010679</td>\n",
       "      <td>0.102973</td>\n",
       "      <td>0.0</td>\n",
       "      <td>0.0</td>\n",
       "      <td>0.0</td>\n",
       "      <td>0.0</td>\n",
       "      <td>2.0</td>\n",
       "    </tr>\n",
       "    <tr>\n",
       "      <th>user_activity_var_10</th>\n",
       "      <td>52345.0</td>\n",
       "      <td>0.000344</td>\n",
       "      <td>0.018541</td>\n",
       "      <td>0.0</td>\n",
       "      <td>0.0</td>\n",
       "      <td>0.0</td>\n",
       "      <td>0.0</td>\n",
       "      <td>1.0</td>\n",
       "    </tr>\n",
       "    <tr>\n",
       "      <th>user_activity_var_11</th>\n",
       "      <td>52345.0</td>\n",
       "      <td>0.227624</td>\n",
       "      <td>0.439849</td>\n",
       "      <td>0.0</td>\n",
       "      <td>0.0</td>\n",
       "      <td>0.0</td>\n",
       "      <td>0.0</td>\n",
       "      <td>4.0</td>\n",
       "    </tr>\n",
       "    <tr>\n",
       "      <th>user_activity_var_12</th>\n",
       "      <td>52345.0</td>\n",
       "      <td>0.000478</td>\n",
       "      <td>0.021849</td>\n",
       "      <td>0.0</td>\n",
       "      <td>0.0</td>\n",
       "      <td>0.0</td>\n",
       "      <td>0.0</td>\n",
       "      <td>1.0</td>\n",
       "    </tr>\n",
       "    <tr>\n",
       "      <th>buy</th>\n",
       "      <td>39161.0</td>\n",
       "      <td>0.051020</td>\n",
       "      <td>0.220042</td>\n",
       "      <td>0.0</td>\n",
       "      <td>0.0</td>\n",
       "      <td>0.0</td>\n",
       "      <td>0.0</td>\n",
       "      <td>1.0</td>\n",
       "    </tr>\n",
       "  </tbody>\n",
       "</table>\n",
       "</div>"
      ],
      "text/plain": [
       "                        count          mean           std  min      25%  \\\n",
       "id                    52345.0  26173.000000  15110.844257  1.0  13087.0   \n",
       "campaign_var_1        52345.0      6.826211      3.543873  1.0      4.0   \n",
       "campaign_var_2        52345.0      6.828198      2.711333  1.0      5.0   \n",
       "products_purchased    23298.0      2.144347      0.780816  1.0      2.0   \n",
       "user_activity_var_1   52345.0      0.396714      0.508333  0.0      0.0   \n",
       "user_activity_var_2   52345.0      0.006094      0.077828  0.0      0.0   \n",
       "user_activity_var_3   52345.0      0.102952      0.303899  0.0      0.0   \n",
       "user_activity_var_4   52345.0      0.010373      0.101322  0.0      0.0   \n",
       "user_activity_var_5   52345.0      0.151896      0.359933  0.0      0.0   \n",
       "user_activity_var_6   52345.0      0.506295      0.560053  0.0      0.0   \n",
       "user_activity_var_7   52345.0      0.291107      0.457671  0.0      0.0   \n",
       "user_activity_var_8   52345.0      0.166434      0.372679  0.0      0.0   \n",
       "user_activity_var_9   52345.0      0.010679      0.102973  0.0      0.0   \n",
       "user_activity_var_10  52345.0      0.000344      0.018541  0.0      0.0   \n",
       "user_activity_var_11  52345.0      0.227624      0.439849  0.0      0.0   \n",
       "user_activity_var_12  52345.0      0.000478      0.021849  0.0      0.0   \n",
       "buy                   39161.0      0.051020      0.220042  0.0      0.0   \n",
       "\n",
       "                          50%      75%      max  \n",
       "id                    26173.0  39259.0  52345.0  \n",
       "campaign_var_1            6.0      9.0     16.0  \n",
       "campaign_var_2            7.0      9.0     15.0  \n",
       "products_purchased        2.0      3.0      4.0  \n",
       "user_activity_var_1       0.0      1.0      3.0  \n",
       "user_activity_var_2       0.0      0.0      1.0  \n",
       "user_activity_var_3       0.0      0.0      1.0  \n",
       "user_activity_var_4       0.0      0.0      1.0  \n",
       "user_activity_var_5       0.0      0.0      2.0  \n",
       "user_activity_var_6       0.0      1.0      3.0  \n",
       "user_activity_var_7       0.0      1.0      2.0  \n",
       "user_activity_var_8       0.0      0.0      2.0  \n",
       "user_activity_var_9       0.0      0.0      2.0  \n",
       "user_activity_var_10      0.0      0.0      1.0  \n",
       "user_activity_var_11      0.0      0.0      4.0  \n",
       "user_activity_var_12      0.0      0.0      1.0  \n",
       "buy                       0.0      0.0      1.0  "
      ]
     },
     "execution_count": 27,
     "metadata": {},
     "output_type": "execute_result"
    }
   ],
   "source": [
    "df.describe().T"
   ]
  },
  {
   "cell_type": "code",
   "execution_count": 28,
   "id": "972d87d9",
   "metadata": {
    "scrolled": true
   },
   "outputs": [
    {
     "name": "stdout",
     "output_type": "stream",
     "text": [
      "id\n",
      "52345\n",
      "1        1\n",
      "11       1\n",
      "25       1\n",
      "24       1\n",
      "3        1\n",
      "        ..\n",
      "52339    1\n",
      "52340    1\n",
      "52341    1\n",
      "52342    1\n",
      "52345    1\n",
      "Name: id, Length: 52345, dtype: int64\n",
      "==================================================\n",
      "created_at\n",
      "454\n",
      "2021-12-26    181\n",
      "2021-12-09    180\n",
      "2021-12-07    179\n",
      "2021-12-21    179\n",
      "2021-12-04    178\n",
      "             ... \n",
      "2021-01-07     34\n",
      "2021-01-14     33\n",
      "2021-01-06     29\n",
      "2021-01-22     26\n",
      "2021-01-01     21\n",
      "Name: created_at, Length: 454, dtype: int64\n",
      "==================================================\n",
      "campaign_var_1\n",
      "16\n",
      "6     5320\n",
      "5     5239\n",
      "4     5086\n",
      "7     5060\n",
      "8     4714\n",
      "3     4644\n",
      "2     4151\n",
      "9     4026\n",
      "10    3419\n",
      "11    2794\n",
      "12    2163\n",
      "1     1820\n",
      "13    1627\n",
      "14    1154\n",
      "15     796\n",
      "16     332\n",
      "Name: campaign_var_1, dtype: int64\n",
      "==================================================\n",
      "campaign_var_2\n",
      "15\n",
      "7     7247\n",
      "6     7221\n",
      "8     6613\n",
      "5     6360\n",
      "9     5219\n",
      "4     4996\n",
      "10    3779\n",
      "3     3293\n",
      "11    2423\n",
      "2     1973\n",
      "12    1459\n",
      "13     730\n",
      "1      622\n",
      "14     330\n",
      "15      80\n",
      "Name: campaign_var_2, dtype: int64\n",
      "==================================================\n",
      "products_purchased\n",
      "4\n",
      "2.0    11351\n",
      "3.0     6284\n",
      "1.0     4749\n",
      "4.0      914\n",
      "Name: products_purchased, dtype: int64\n",
      "==================================================\n",
      "signup_date\n",
      "1819\n",
      "2022-03-06    55\n",
      "2022-03-10    51\n",
      "2022-03-20    51\n",
      "2021-07-18    51\n",
      "2022-03-27    50\n",
      "              ..\n",
      "2017-03-16     1\n",
      "2017-06-28     1\n",
      "2016-07-29     1\n",
      "2017-08-14     1\n",
      "2016-09-13     1\n",
      "Name: signup_date, Length: 1819, dtype: int64\n",
      "==================================================\n",
      "user_activity_var_1\n",
      "4\n",
      "0    32076\n",
      "1    19774\n",
      "2      493\n",
      "3        2\n",
      "Name: user_activity_var_1, dtype: int64\n",
      "==================================================\n",
      "user_activity_var_2\n",
      "2\n",
      "0    52026\n",
      "1      319\n",
      "Name: user_activity_var_2, dtype: int64\n",
      "==================================================\n",
      "user_activity_var_3\n",
      "2\n",
      "0    46956\n",
      "1     5389\n",
      "Name: user_activity_var_3, dtype: int64\n",
      "==================================================\n",
      "user_activity_var_4\n",
      "2\n",
      "0    51802\n",
      "1      543\n",
      "Name: user_activity_var_4, dtype: int64\n",
      "==================================================\n",
      "user_activity_var_5\n",
      "3\n",
      "0    44413\n",
      "1     7913\n",
      "2       19\n",
      "Name: user_activity_var_5, dtype: int64\n",
      "==================================================\n",
      "user_activity_var_6\n",
      "4\n",
      "0    27490\n",
      "1    23228\n",
      "2     1607\n",
      "3       20\n",
      "Name: user_activity_var_6, dtype: int64\n",
      "==================================================\n",
      "user_activity_var_7\n",
      "3\n",
      "0    37188\n",
      "1    15076\n",
      "2       81\n",
      "Name: user_activity_var_7, dtype: int64\n",
      "==================================================\n",
      "user_activity_var_8\n",
      "3\n",
      "0    43637\n",
      "1     8704\n",
      "2        4\n",
      "Name: user_activity_var_8, dtype: int64\n",
      "==================================================\n",
      "user_activity_var_9\n",
      "3\n",
      "0    51787\n",
      "1      557\n",
      "2        1\n",
      "Name: user_activity_var_9, dtype: int64\n",
      "==================================================\n",
      "user_activity_var_10\n",
      "2\n",
      "0    52327\n",
      "1       18\n",
      "Name: user_activity_var_10, dtype: int64\n",
      "==================================================\n",
      "user_activity_var_11\n",
      "5\n",
      "0    40854\n",
      "1    11104\n",
      "2      351\n",
      "3       35\n",
      "4        1\n",
      "Name: user_activity_var_11, dtype: int64\n",
      "==================================================\n",
      "user_activity_var_12\n",
      "2\n",
      "0    52320\n",
      "1       25\n",
      "Name: user_activity_var_12, dtype: int64\n",
      "==================================================\n",
      "buy\n",
      "2\n",
      "0.0    37163\n",
      "1.0     1998\n",
      "Name: buy, dtype: int64\n",
      "==================================================\n"
     ]
    }
   ],
   "source": [
    "#  Checking unique values in every column columns \n",
    "for column in df.columns:\n",
    "    print(column)\n",
    "    print(df[column].nunique())\n",
    "    print(df[column].value_counts().sort_values(ascending=False))\n",
    "    \n",
    "    print('='*50)"
   ]
  },
  {
   "cell_type": "markdown",
   "id": "48d76054",
   "metadata": {},
   "source": [
    "## 1 Data Cleaning"
   ]
  },
  {
   "cell_type": "markdown",
   "id": "aa07476f",
   "metadata": {},
   "source": [
    "In this section you can do all the Data cleaning part of all necessary imputations and treatments\n",
    "\n",
    "\n",
    "\n",
    "\n",
    "\n",
    "\n",
    "\n",
    "\n",
    "\n",
    "\n",
    "\n",
    "\n",
    "\n",
    "\n",
    "\n",
    "\n",
    "\n",
    "\n",
    "\n",
    "\n",
    "\n"
   ]
  },
  {
   "cell_type": "code",
   "execution_count": 29,
   "id": "6263f1dd",
   "metadata": {
    "scrolled": false
   },
   "outputs": [
    {
     "name": "stdout",
     "output_type": "stream",
     "text": [
      "count    23298.000000\n",
      "mean         2.144347\n",
      "std          0.780816\n",
      "min          1.000000\n",
      "25%          2.000000\n",
      "50%          2.000000\n",
      "75%          3.000000\n",
      "max          4.000000\n",
      "Name: products_purchased, dtype: float64\n"
     ]
    },
    {
     "data": {
      "text/plain": [
       "<AxesSubplot:xlabel='products_purchased'>"
      ]
     },
     "execution_count": 29,
     "metadata": {},
     "output_type": "execute_result"
    },
    {
     "data": {
      "image/png": "[encoded data removed]",
      "text/plain": [
       "<Figure size 432x288 with 1 Axes>"
      ]
     },
     "metadata": {
      "needs_background": "light"
     },
     "output_type": "display_data"
    }
   ],
   "source": [
    "# For yearly income Train data\n",
    "print(df['products_purchased'].describe())\n",
    "sns.boxplot(df['products_purchased'])"
   ]
  },
  {
   "cell_type": "code",
   "execution_count": 30,
   "id": "ab5c1be8",
   "metadata": {},
   "outputs": [
    {
     "data": {
      "text/plain": [
       "2.0    11351\n",
       "3.0     6284\n",
       "1.0     4749\n",
       "4.0      914\n",
       "Name: products_purchased, dtype: int64"
      ]
     },
     "execution_count": 30,
     "metadata": {},
     "output_type": "execute_result"
    }
   ],
   "source": [
    "df.products_purchased.value_counts()"
   ]
  },
  {
   "cell_type": "markdown",
   "id": "f1d68536",
   "metadata": {},
   "source": [
    "* We can think like that the missing values in product purchase may be that person not purchase any product  we can set 0 for missing values in purchase for initial analysis"
   ]
  },
  {
   "cell_type": "code",
   "execution_count": 31,
   "id": "c53992da",
   "metadata": {},
   "outputs": [],
   "source": [
    "# Lets make copy of original dataframe\n",
    "df1=df.copy()"
   ]
  },
  {
   "cell_type": "code",
   "execution_count": 32,
   "id": "c6e9e878",
   "metadata": {},
   "outputs": [],
   "source": [
    "df1['products_purchased'].replace(np.nan,value= 0 ,inplace=True)"
   ]
  },
  {
   "cell_type": "code",
   "execution_count": 33,
   "id": "4155e733",
   "metadata": {},
   "outputs": [],
   "source": [
    "#Lets Extract year from signup date\n",
    "df1[\"signup_Year\"] = df1[\"signup_date\"].dt.strftime('%Y')"
   ]
  },
  {
   "cell_type": "code",
   "execution_count": 34,
   "id": "533961a8",
   "metadata": {},
   "outputs": [],
   "source": [
    "# df1[\"signup_Month\"] = df1[\"signup_date\"].dt.strftime('%m')"
   ]
  },
  {
   "cell_type": "code",
   "execution_count": 35,
   "id": "01111f2e",
   "metadata": {
    "scrolled": true
   },
   "outputs": [
    {
     "data": {
      "text/plain": [
       "array(['2020', '2021', '2017', '2019', '2018', nan, '2022', '2016',\n",
       "       '2015'], dtype=object)"
      ]
     },
     "execution_count": 35,
     "metadata": {},
     "output_type": "execute_result"
    }
   ],
   "source": [
    "df1.signup_Year.unique()"
   ]
  },
  {
   "cell_type": "code",
   "execution_count": 36,
   "id": "a6295a61",
   "metadata": {},
   "outputs": [],
   "source": [
    "# Lets Repalce all missing and nan value with 0\n",
    "df1['signup_Year'].replace(np.nan,value= 0 ,inplace=True)"
   ]
  },
  {
   "cell_type": "code",
   "execution_count": 37,
   "id": "9e0d7cfb",
   "metadata": {
    "scrolled": true
   },
   "outputs": [
    {
     "data": {
      "text/plain": [
       "0       21762\n",
       "2021    12364\n",
       "2020     8776\n",
       "2019     4246\n",
       "2022     3312\n",
       "2018     1462\n",
       "2017      343\n",
       "2016       66\n",
       "2015       14\n",
       "Name: signup_Year, dtype: int64"
      ]
     },
     "execution_count": 37,
     "metadata": {},
     "output_type": "execute_result"
    }
   ],
   "source": [
    "df1.signup_Year.value_counts()"
   ]
  },
  {
   "cell_type": "code",
   "execution_count": 38,
   "id": "e3cb6bc8",
   "metadata": {},
   "outputs": [
    {
     "data": {
      "text/plain": [
       "0    21762\n",
       "2    12364\n",
       "3     8776\n",
       "4     4246\n",
       "1     3312\n",
       "5     1462\n",
       "6      343\n",
       "7       66\n",
       "8       14\n",
       "Name: signup_Year, dtype: int64"
      ]
     },
     "execution_count": 38,
     "metadata": {},
     "output_type": "execute_result"
    }
   ],
   "source": [
    "mapdict = {2022:1, 2021:2, 2020:3, 2019:4, 2018:5, 2017:6, 2016:7, 2015:8}\n",
    "df1['signup_Year'] = df1['signup_Year'].map({'2022':1, '2021':2, '2020':3, '2019':4, '2018':5, '2017':6, '2016':7, '2015':8,0:0})\n",
    "df1['signup_Year'].value_counts()"
   ]
  },
  {
   "cell_type": "code",
   "execution_count": 39,
   "id": "90a54d69",
   "metadata": {},
   "outputs": [
    {
     "data": {
      "text/plain": [
       "id                          0\n",
       "created_at                  0\n",
       "campaign_var_1              0\n",
       "campaign_var_2              0\n",
       "products_purchased          0\n",
       "signup_date             21762\n",
       "user_activity_var_1         0\n",
       "user_activity_var_2         0\n",
       "user_activity_var_3         0\n",
       "user_activity_var_4         0\n",
       "user_activity_var_5         0\n",
       "user_activity_var_6         0\n",
       "user_activity_var_7         0\n",
       "user_activity_var_8         0\n",
       "user_activity_var_9         0\n",
       "user_activity_var_10        0\n",
       "user_activity_var_11        0\n",
       "user_activity_var_12        0\n",
       "buy                     13184\n",
       "signup_Year                 0\n",
       "dtype: int64"
      ]
     },
     "execution_count": 39,
     "metadata": {},
     "output_type": "execute_result"
    }
   ],
   "source": [
    "# recheck for null values\n",
    "df1.isnull().sum()"
   ]
  },
  {
   "cell_type": "code",
   "execution_count": 40,
   "id": "cbfe18b4",
   "metadata": {},
   "outputs": [],
   "source": [
    "# EDA purpose we can drop ID but can save all id in the ID object name\n",
    "ID = df1['id']"
   ]
  },
  {
   "cell_type": "code",
   "execution_count": 41,
   "id": "a7b30fc7",
   "metadata": {},
   "outputs": [],
   "source": [
    "#Lets drop id and sinup_date \n",
    "df1= df1.drop(['id','signup_date'],axis=1)"
   ]
  },
  {
   "cell_type": "code",
   "execution_count": 42,
   "id": "d8d05ae8",
   "metadata": {},
   "outputs": [],
   "source": [
    "df1= df1.drop(['created_at'],axis=1)"
   ]
  },
  {
   "cell_type": "code",
   "execution_count": 43,
   "id": "5617e212",
   "metadata": {},
   "outputs": [],
   "source": [
    "buy= df1['buy']"
   ]
  },
  {
   "cell_type": "code",
   "execution_count": 44,
   "id": "1910a4c1",
   "metadata": {},
   "outputs": [
    {
     "name": "stdout",
     "output_type": "stream",
     "text": [
      "<class 'pandas.core.frame.DataFrame'>\n",
      "Int64Index: 52345 entries, 0 to 13183\n",
      "Data columns (total 17 columns):\n",
      " #   Column                Non-Null Count  Dtype  \n",
      "---  ------                --------------  -----  \n",
      " 0   campaign_var_1        52345 non-null  int64  \n",
      " 1   campaign_var_2        52345 non-null  int64  \n",
      " 2   products_purchased    52345 non-null  float64\n",
      " 3   user_activity_var_1   52345 non-null  int64  \n",
      " 4   user_activity_var_2   52345 non-null  int64  \n",
      " 5   user_activity_var_3   52345 non-null  int64  \n",
      " 6   user_activity_var_4   52345 non-null  int64  \n",
      " 7   user_activity_var_5   52345 non-null  int64  \n",
      " 8   user_activity_var_6   52345 non-null  int64  \n",
      " 9   user_activity_var_7   52345 non-null  int64  \n",
      " 10  user_activity_var_8   52345 non-null  int64  \n",
      " 11  user_activity_var_9   52345 non-null  int64  \n",
      " 12  user_activity_var_10  52345 non-null  int64  \n",
      " 13  user_activity_var_11  52345 non-null  int64  \n",
      " 14  user_activity_var_12  52345 non-null  int64  \n",
      " 15  buy                   39161 non-null  float64\n",
      " 16  signup_Year           52345 non-null  int64  \n",
      "dtypes: float64(2), int64(15)\n",
      "memory usage: 7.2 MB\n"
     ]
    }
   ],
   "source": [
    "df1.info()"
   ]
  },
  {
   "cell_type": "code",
   "execution_count": 45,
   "id": "890074e4",
   "metadata": {
    "scrolled": true
   },
   "outputs": [
    {
     "data": {
      "text/plain": [
       "Index(['campaign_var_1', 'campaign_var_2', 'products_purchased',\n",
       "       'user_activity_var_1', 'user_activity_var_2', 'user_activity_var_3',\n",
       "       'user_activity_var_4', 'user_activity_var_5', 'user_activity_var_6',\n",
       "       'user_activity_var_7', 'user_activity_var_8', 'user_activity_var_9',\n",
       "       'user_activity_var_10', 'user_activity_var_11', 'user_activity_var_12',\n",
       "       'buy', 'signup_Year'],\n",
       "      dtype='object')"
      ]
     },
     "execution_count": 45,
     "metadata": {},
     "output_type": "execute_result"
    }
   ],
   "source": [
    "df1.columns"
   ]
  },
  {
   "cell_type": "markdown",
   "id": "b5b309c3",
   "metadata": {},
   "source": [
    "## 2 Exploratory Data Analyis"
   ]
  },
  {
   "cell_type": "markdown",
   "id": "ab955d0a",
   "metadata": {},
   "source": [
    "In this section you can talk about the plots and the insights you have generated from the data\n",
    "\n",
    "\n",
    "\n",
    "\n",
    "\n",
    "\n",
    "\n",
    "\n",
    "\n",
    "\n",
    "\n",
    "\n",
    "\n",
    "\n",
    "\n",
    "\n",
    "\n",
    "\n",
    "\n",
    "\n",
    "\n",
    "\n",
    "\n"
   ]
  },
  {
   "cell_type": "markdown",
   "id": "351f5f0c",
   "metadata": {},
   "source": [
    "### Univariate Analysis "
   ]
  },
  {
   "cell_type": "code",
   "execution_count": null,
   "id": "d45f67b1",
   "metadata": {},
   "outputs": [],
   "source": []
  },
  {
   "cell_type": "code",
   "execution_count": null,
   "id": "1cbebcb0",
   "metadata": {},
   "outputs": [],
   "source": []
  },
  {
   "cell_type": "code",
   "execution_count": null,
   "id": "b009bfd1",
   "metadata": {},
   "outputs": [],
   "source": []
  },
  {
   "cell_type": "markdown",
   "id": "ad8843c5",
   "metadata": {},
   "source": [
    "### Bivariate Analysis With respect to target variable"
   ]
  },
  {
   "cell_type": "code",
   "execution_count": null,
   "id": "60f8b204",
   "metadata": {},
   "outputs": [],
   "source": []
  },
  {
   "cell_type": "code",
   "execution_count": null,
   "id": "18041bef",
   "metadata": {
    "scrolled": false
   },
   "outputs": [],
   "source": []
  },
  {
   "cell_type": "markdown",
   "id": "67d7eee9",
   "metadata": {},
   "source": []
  },
  {
   "cell_type": "markdown",
   "id": "17b5e9a8",
   "metadata": {},
   "source": [
    "## Insignts and Observations\n",
    "\n",
    "\n",
    "\n",
    "\n"
   ]
  },
  {
   "cell_type": "code",
   "execution_count": null,
   "id": "7de4c013",
   "metadata": {},
   "outputs": [],
   "source": []
  },
  {
   "cell_type": "code",
   "execution_count": null,
   "id": "cca2ab10",
   "metadata": {},
   "outputs": [],
   "source": []
  },
  {
   "cell_type": "markdown",
   "id": "aa486b9b",
   "metadata": {},
   "source": [
    "## 3 Feature Engineering"
   ]
  },
  {
   "cell_type": "markdown",
   "id": "44bd6022",
   "metadata": {},
   "source": [
    "In this section you can implement the feature engineering techniques for dimensionality reduction"
   ]
  },
  {
   "cell_type": "markdown",
   "id": "2df34b9c",
   "metadata": {},
   "source": [
    "#### one hot encoding for catagorical variable "
   ]
  },
  {
   "cell_type": "code",
   "execution_count": 46,
   "id": "d230c009",
   "metadata": {},
   "outputs": [],
   "source": [
    "# one hot encoding for catagorical variable\n",
    "\n",
    "# list_dummy=['products_purchased','user_activity_var_1', 'user_activity_var_2', 'user_activity_var_3','user_activity_var_4', 'user_activity_var_5', 'user_activity_var_6','user_activity_var_7', 'user_activity_var_8', 'user_activity_var_9', 'user_activity_var_11','signup_Year']\n",
    "\n",
    "# df1_dummy=pd.get_dummies(df1,columns=list_dummy,drop_first=True)"
   ]
  },
  {
   "cell_type": "code",
   "execution_count": 47,
   "id": "ff3d5953",
   "metadata": {
    "scrolled": true
   },
   "outputs": [],
   "source": [
    "# df1_dummy.info()"
   ]
  },
  {
   "cell_type": "code",
   "execution_count": 48,
   "id": "cc4d417b",
   "metadata": {},
   "outputs": [],
   "source": [
    "# # Lable Encoding for catagorical variable\n",
    "# for feature in df1.columns: \n",
    "#     if df1[feature].astype == 'object':\n",
    "#         df1[feature] = pd.Categorical(df1[feature]).codes"
   ]
  },
  {
   "cell_type": "code",
   "execution_count": 49,
   "id": "ff94e397",
   "metadata": {},
   "outputs": [
    {
     "data": {
      "text/plain": [
       "0        3\n",
       "1        3\n",
       "2        2\n",
       "3        6\n",
       "4        3\n",
       "        ..\n",
       "13179    0\n",
       "13180    1\n",
       "13181    2\n",
       "13182    0\n",
       "13183    0\n",
       "Name: signup_Year, Length: 52345, dtype: int8"
      ]
     },
     "execution_count": 49,
     "metadata": {},
     "output_type": "execute_result"
    }
   ],
   "source": [
    "df1['signup_Year'] = pd.Categorical(df1['signup_Year']).codes\n",
    "df1['signup_Year']"
   ]
  },
  {
   "cell_type": "code",
   "execution_count": 50,
   "id": "a203de51",
   "metadata": {},
   "outputs": [
    {
     "name": "stdout",
     "output_type": "stream",
     "text": [
      "<class 'pandas.core.frame.DataFrame'>\n",
      "Int64Index: 52345 entries, 0 to 13183\n",
      "Data columns (total 17 columns):\n",
      " #   Column                Non-Null Count  Dtype  \n",
      "---  ------                --------------  -----  \n",
      " 0   campaign_var_1        52345 non-null  int64  \n",
      " 1   campaign_var_2        52345 non-null  int64  \n",
      " 2   products_purchased    52345 non-null  float64\n",
      " 3   user_activity_var_1   52345 non-null  int64  \n",
      " 4   user_activity_var_2   52345 non-null  int64  \n",
      " 5   user_activity_var_3   52345 non-null  int64  \n",
      " 6   user_activity_var_4   52345 non-null  int64  \n",
      " 7   user_activity_var_5   52345 non-null  int64  \n",
      " 8   user_activity_var_6   52345 non-null  int64  \n",
      " 9   user_activity_var_7   52345 non-null  int64  \n",
      " 10  user_activity_var_8   52345 non-null  int64  \n",
      " 11  user_activity_var_9   52345 non-null  int64  \n",
      " 12  user_activity_var_10  52345 non-null  int64  \n",
      " 13  user_activity_var_11  52345 non-null  int64  \n",
      " 14  user_activity_var_12  52345 non-null  int64  \n",
      " 15  buy                   39161 non-null  float64\n",
      " 16  signup_Year           52345 non-null  int8   \n",
      "dtypes: float64(2), int64(14), int8(1)\n",
      "memory usage: 6.8 MB\n"
     ]
    }
   ],
   "source": [
    "df1.info()"
   ]
  },
  {
   "cell_type": "code",
   "execution_count": 51,
   "id": "9c245cb7",
   "metadata": {},
   "outputs": [
    {
     "data": {
      "text/plain": [
       "0.0    37163\n",
       "1.0     1998\n",
       "Name: buy, dtype: int64"
      ]
     },
     "execution_count": 51,
     "metadata": {},
     "output_type": "execute_result"
    }
   ],
   "source": [
    "df1['buy'].value_counts()"
   ]
  },
  {
   "cell_type": "code",
   "execution_count": 52,
   "id": "58441abc",
   "metadata": {},
   "outputs": [],
   "source": [
    "# Seperate the train and test data.\n",
    "mask=df1['buy'] >= 0"
   ]
  },
  {
   "cell_type": "code",
   "execution_count": 53,
   "id": "da9ec262",
   "metadata": {
    "scrolled": false
   },
   "outputs": [
    {
     "name": "stdout",
     "output_type": "stream",
     "text": [
      "<class 'pandas.core.frame.DataFrame'>\n",
      "Int64Index: 39161 entries, 0 to 39160\n",
      "Data columns (total 17 columns):\n",
      " #   Column                Non-Null Count  Dtype  \n",
      "---  ------                --------------  -----  \n",
      " 0   campaign_var_1        39161 non-null  int64  \n",
      " 1   campaign_var_2        39161 non-null  int64  \n",
      " 2   products_purchased    39161 non-null  float64\n",
      " 3   user_activity_var_1   39161 non-null  int64  \n",
      " 4   user_activity_var_2   39161 non-null  int64  \n",
      " 5   user_activity_var_3   39161 non-null  int64  \n",
      " 6   user_activity_var_4   39161 non-null  int64  \n",
      " 7   user_activity_var_5   39161 non-null  int64  \n",
      " 8   user_activity_var_6   39161 non-null  int64  \n",
      " 9   user_activity_var_7   39161 non-null  int64  \n",
      " 10  user_activity_var_8   39161 non-null  int64  \n",
      " 11  user_activity_var_9   39161 non-null  int64  \n",
      " 12  user_activity_var_10  39161 non-null  int64  \n",
      " 13  user_activity_var_11  39161 non-null  int64  \n",
      " 14  user_activity_var_12  39161 non-null  int64  \n",
      " 15  buy                   39161 non-null  float64\n",
      " 16  signup_Year           39161 non-null  int8   \n",
      "dtypes: float64(2), int64(14), int8(1)\n",
      "memory usage: 5.1 MB\n"
     ]
    }
   ],
   "source": [
    "data_train=df1[mask]\n",
    "data_train.info()"
   ]
  },
  {
   "cell_type": "code",
   "execution_count": 54,
   "id": "31f95345",
   "metadata": {},
   "outputs": [
    {
     "name": "stdout",
     "output_type": "stream",
     "text": [
      "<class 'pandas.core.frame.DataFrame'>\n",
      "Int64Index: 39161 entries, 0 to 39160\n",
      "Data columns (total 17 columns):\n",
      " #   Column                Non-Null Count  Dtype  \n",
      "---  ------                --------------  -----  \n",
      " 0   campaign_var_1        39161 non-null  int64  \n",
      " 1   campaign_var_2        39161 non-null  int64  \n",
      " 2   products_purchased    39161 non-null  float64\n",
      " 3   user_activity_var_1   39161 non-null  int64  \n",
      " 4   user_activity_var_2   39161 non-null  int64  \n",
      " 5   user_activity_var_3   39161 non-null  int64  \n",
      " 6   user_activity_var_4   39161 non-null  int64  \n",
      " 7   user_activity_var_5   39161 non-null  int64  \n",
      " 8   user_activity_var_6   39161 non-null  int64  \n",
      " 9   user_activity_var_7   39161 non-null  int64  \n",
      " 10  user_activity_var_8   39161 non-null  int64  \n",
      " 11  user_activity_var_9   39161 non-null  int64  \n",
      " 12  user_activity_var_10  39161 non-null  int64  \n",
      " 13  user_activity_var_11  39161 non-null  int64  \n",
      " 14  user_activity_var_12  39161 non-null  int64  \n",
      " 15  buy                   39161 non-null  float64\n",
      " 16  signup_Year           39161 non-null  int8   \n",
      "dtypes: float64(2), int64(14), int8(1)\n",
      "memory usage: 5.1 MB\n"
     ]
    }
   ],
   "source": [
    "data_train.info()"
   ]
  },
  {
   "cell_type": "code",
   "execution_count": 55,
   "id": "1c6eedc9",
   "metadata": {},
   "outputs": [],
   "source": [
    "# Test data\n",
    "data_test=df1[~mask]"
   ]
  },
  {
   "cell_type": "code",
   "execution_count": 56,
   "id": "edc4a70d",
   "metadata": {
    "scrolled": false
   },
   "outputs": [
    {
     "name": "stdout",
     "output_type": "stream",
     "text": [
      "<class 'pandas.core.frame.DataFrame'>\n",
      "Int64Index: 13184 entries, 0 to 13183\n",
      "Data columns (total 17 columns):\n",
      " #   Column                Non-Null Count  Dtype  \n",
      "---  ------                --------------  -----  \n",
      " 0   campaign_var_1        13184 non-null  int64  \n",
      " 1   campaign_var_2        13184 non-null  int64  \n",
      " 2   products_purchased    13184 non-null  float64\n",
      " 3   user_activity_var_1   13184 non-null  int64  \n",
      " 4   user_activity_var_2   13184 non-null  int64  \n",
      " 5   user_activity_var_3   13184 non-null  int64  \n",
      " 6   user_activity_var_4   13184 non-null  int64  \n",
      " 7   user_activity_var_5   13184 non-null  int64  \n",
      " 8   user_activity_var_6   13184 non-null  int64  \n",
      " 9   user_activity_var_7   13184 non-null  int64  \n",
      " 10  user_activity_var_8   13184 non-null  int64  \n",
      " 11  user_activity_var_9   13184 non-null  int64  \n",
      " 12  user_activity_var_10  13184 non-null  int64  \n",
      " 13  user_activity_var_11  13184 non-null  int64  \n",
      " 14  user_activity_var_12  13184 non-null  int64  \n",
      " 15  buy                   0 non-null      float64\n",
      " 16  signup_Year           13184 non-null  int8   \n",
      "dtypes: float64(2), int64(14), int8(1)\n",
      "memory usage: 1.7 MB\n"
     ]
    }
   ],
   "source": [
    "data_test.info()"
   ]
  },
  {
   "cell_type": "markdown",
   "id": "46a69ecb",
   "metadata": {},
   "source": [
    "## Checking the multocoliniearity"
   ]
  },
  {
   "cell_type": "code",
   "execution_count": 57,
   "id": "02de0bc4",
   "metadata": {},
   "outputs": [],
   "source": [
    "import statsmodels.formula.api as SM"
   ]
  },
  {
   "cell_type": "code",
   "execution_count": 58,
   "id": "cf952e16",
   "metadata": {},
   "outputs": [],
   "source": [
    "# VIF score check function\n",
    "def vif_cal(input_data):\n",
    "    '''\n",
    "    input_data: Dataframe of features\n",
    "    '''\n",
    "    c_vars = input_data\n",
    "    cvar_names = input_data.columns\n",
    "    for i in range(len(cvar_names)):\n",
    "        d = c_vars[cvar_names[i]] \n",
    "        c = c_vars[cvar_names.drop(cvar_names[i])]\n",
    "        rsq = SM.ols(formula=\"d~c\", data=c_vars).fit().rsquared  \n",
    "        vif = round(1/(1-rsq), 2)\n",
    "        print (cvar_names[i], \" VIF = \" , vif)"
   ]
  },
  {
   "cell_type": "code",
   "execution_count": 59,
   "id": "9ef8c291",
   "metadata": {},
   "outputs": [],
   "source": [
    "# # VIF check for multicoliniearity\n",
    "# vif_cal(input_data=data_train.drop('Default',axis=1))"
   ]
  },
  {
   "cell_type": "code",
   "execution_count": 60,
   "id": "cafb5bc1",
   "metadata": {},
   "outputs": [],
   "source": [
    "# data_train=data_train.drop(['created_at'],axis=1)"
   ]
  },
  {
   "cell_type": "code",
   "execution_count": 61,
   "id": "b59695be",
   "metadata": {},
   "outputs": [],
   "source": [
    "# data_test=data_test.drop(['created_at' ],axis=1)"
   ]
  },
  {
   "cell_type": "markdown",
   "id": "9fbcfc34",
   "metadata": {},
   "source": [
    "*By taking threshould of 2 we can say  now feature which are do not have multicoliniearity "
   ]
  },
  {
   "cell_type": "code",
   "execution_count": 62,
   "id": "4ae9f3f5",
   "metadata": {},
   "outputs": [
    {
     "name": "stdout",
     "output_type": "stream",
     "text": [
      "<class 'pandas.core.frame.DataFrame'>\n",
      "Int64Index: 39161 entries, 0 to 39160\n",
      "Data columns (total 17 columns):\n",
      " #   Column                Non-Null Count  Dtype  \n",
      "---  ------                --------------  -----  \n",
      " 0   campaign_var_1        39161 non-null  int64  \n",
      " 1   campaign_var_2        39161 non-null  int64  \n",
      " 2   products_purchased    39161 non-null  float64\n",
      " 3   user_activity_var_1   39161 non-null  int64  \n",
      " 4   user_activity_var_2   39161 non-null  int64  \n",
      " 5   user_activity_var_3   39161 non-null  int64  \n",
      " 6   user_activity_var_4   39161 non-null  int64  \n",
      " 7   user_activity_var_5   39161 non-null  int64  \n",
      " 8   user_activity_var_6   39161 non-null  int64  \n",
      " 9   user_activity_var_7   39161 non-null  int64  \n",
      " 10  user_activity_var_8   39161 non-null  int64  \n",
      " 11  user_activity_var_9   39161 non-null  int64  \n",
      " 12  user_activity_var_10  39161 non-null  int64  \n",
      " 13  user_activity_var_11  39161 non-null  int64  \n",
      " 14  user_activity_var_12  39161 non-null  int64  \n",
      " 15  buy                   39161 non-null  float64\n",
      " 16  signup_Year           39161 non-null  int8   \n",
      "dtypes: float64(2), int64(14), int8(1)\n",
      "memory usage: 5.1 MB\n"
     ]
    }
   ],
   "source": [
    "data_train.info()"
   ]
  },
  {
   "cell_type": "code",
   "execution_count": 63,
   "id": "2d6bc99c",
   "metadata": {},
   "outputs": [
    {
     "name": "stdout",
     "output_type": "stream",
     "text": [
      "<class 'pandas.core.frame.DataFrame'>\n",
      "Int64Index: 13184 entries, 0 to 13183\n",
      "Data columns (total 17 columns):\n",
      " #   Column                Non-Null Count  Dtype  \n",
      "---  ------                --------------  -----  \n",
      " 0   campaign_var_1        13184 non-null  int64  \n",
      " 1   campaign_var_2        13184 non-null  int64  \n",
      " 2   products_purchased    13184 non-null  float64\n",
      " 3   user_activity_var_1   13184 non-null  int64  \n",
      " 4   user_activity_var_2   13184 non-null  int64  \n",
      " 5   user_activity_var_3   13184 non-null  int64  \n",
      " 6   user_activity_var_4   13184 non-null  int64  \n",
      " 7   user_activity_var_5   13184 non-null  int64  \n",
      " 8   user_activity_var_6   13184 non-null  int64  \n",
      " 9   user_activity_var_7   13184 non-null  int64  \n",
      " 10  user_activity_var_8   13184 non-null  int64  \n",
      " 11  user_activity_var_9   13184 non-null  int64  \n",
      " 12  user_activity_var_10  13184 non-null  int64  \n",
      " 13  user_activity_var_11  13184 non-null  int64  \n",
      " 14  user_activity_var_12  13184 non-null  int64  \n",
      " 15  buy                   0 non-null      float64\n",
      " 16  signup_Year           13184 non-null  int8   \n",
      "dtypes: float64(2), int64(14), int8(1)\n",
      "memory usage: 1.7 MB\n"
     ]
    }
   ],
   "source": [
    "data_test.info()"
   ]
  },
  {
   "cell_type": "code",
   "execution_count": 64,
   "id": "537b053d",
   "metadata": {},
   "outputs": [],
   "source": [
    "# Train data backup\n",
    "data_train_new=data_train.copy()\n",
    "data_test_new=data_test.copy()"
   ]
  },
  {
   "cell_type": "code",
   "execution_count": 65,
   "id": "452807bb",
   "metadata": {},
   "outputs": [
    {
     "name": "stdout",
     "output_type": "stream",
     "text": [
      "<class 'pandas.core.frame.DataFrame'>\n",
      "Int64Index: 13184 entries, 0 to 13183\n",
      "Data columns (total 17 columns):\n",
      " #   Column                Non-Null Count  Dtype  \n",
      "---  ------                --------------  -----  \n",
      " 0   campaign_var_1        13184 non-null  int64  \n",
      " 1   campaign_var_2        13184 non-null  int64  \n",
      " 2   products_purchased    13184 non-null  float64\n",
      " 3   user_activity_var_1   13184 non-null  int64  \n",
      " 4   user_activity_var_2   13184 non-null  int64  \n",
      " 5   user_activity_var_3   13184 non-null  int64  \n",
      " 6   user_activity_var_4   13184 non-null  int64  \n",
      " 7   user_activity_var_5   13184 non-null  int64  \n",
      " 8   user_activity_var_6   13184 non-null  int64  \n",
      " 9   user_activity_var_7   13184 non-null  int64  \n",
      " 10  user_activity_var_8   13184 non-null  int64  \n",
      " 11  user_activity_var_9   13184 non-null  int64  \n",
      " 12  user_activity_var_10  13184 non-null  int64  \n",
      " 13  user_activity_var_11  13184 non-null  int64  \n",
      " 14  user_activity_var_12  13184 non-null  int64  \n",
      " 15  buy                   0 non-null      float64\n",
      " 16  signup_Year           13184 non-null  int8   \n",
      "dtypes: float64(2), int64(14), int8(1)\n",
      "memory usage: 1.7 MB\n"
     ]
    }
   ],
   "source": [
    "data_test_new.info()"
   ]
  },
  {
   "cell_type": "code",
   "execution_count": 66,
   "id": "696ce75b",
   "metadata": {},
   "outputs": [
    {
     "name": "stdout",
     "output_type": "stream",
     "text": [
      "<class 'pandas.core.frame.DataFrame'>\n",
      "Int64Index: 39161 entries, 0 to 39160\n",
      "Data columns (total 17 columns):\n",
      " #   Column                Non-Null Count  Dtype  \n",
      "---  ------                --------------  -----  \n",
      " 0   campaign_var_1        39161 non-null  int64  \n",
      " 1   campaign_var_2        39161 non-null  int64  \n",
      " 2   products_purchased    39161 non-null  float64\n",
      " 3   user_activity_var_1   39161 non-null  int64  \n",
      " 4   user_activity_var_2   39161 non-null  int64  \n",
      " 5   user_activity_var_3   39161 non-null  int64  \n",
      " 6   user_activity_var_4   39161 non-null  int64  \n",
      " 7   user_activity_var_5   39161 non-null  int64  \n",
      " 8   user_activity_var_6   39161 non-null  int64  \n",
      " 9   user_activity_var_7   39161 non-null  int64  \n",
      " 10  user_activity_var_8   39161 non-null  int64  \n",
      " 11  user_activity_var_9   39161 non-null  int64  \n",
      " 12  user_activity_var_10  39161 non-null  int64  \n",
      " 13  user_activity_var_11  39161 non-null  int64  \n",
      " 14  user_activity_var_12  39161 non-null  int64  \n",
      " 15  buy                   39161 non-null  float64\n",
      " 16  signup_Year           39161 non-null  int8   \n",
      "dtypes: float64(2), int64(14), int8(1)\n",
      "memory usage: 5.1 MB\n"
     ]
    }
   ],
   "source": [
    "data_train_new.info()"
   ]
  },
  {
   "cell_type": "markdown",
   "id": "d7d85628",
   "metadata": {},
   "source": [
    "## 4 Modelling + HyperParameter Tuning"
   ]
  },
  {
   "cell_type": "markdown",
   "id": "31a1f68c",
   "metadata": {},
   "source": [
    "In this you can build various ML models and try tuning the parameters involved to achieve better score"
   ]
  },
  {
   "cell_type": "code",
   "execution_count": 67,
   "id": "11c7b61f",
   "metadata": {},
   "outputs": [],
   "source": [
    "# Split data into train and test\n",
    "from sklearn.model_selection import train_test_split\n",
    "from sklearn import  metrics"
   ]
  },
  {
   "cell_type": "code",
   "execution_count": 68,
   "id": "c2eef541",
   "metadata": {},
   "outputs": [],
   "source": [
    "X=data_train_new.drop(['buy'],axis=1)\n",
    "y=data_train_new.pop('buy')"
   ]
  },
  {
   "cell_type": "code",
   "execution_count": 69,
   "id": "1cdb609f",
   "metadata": {},
   "outputs": [],
   "source": [
    "#  spliting datset for train and test in 70:30 ratio\n",
    "X_train,X_test,y_train,y_test=train_test_split(X,y,random_state=21,test_size=0.20,stratify=y)\n",
    "# test size is taken as optimize value by trieals"
   ]
  },
  {
   "cell_type": "code",
   "execution_count": 70,
   "id": "0a9c42ac",
   "metadata": {},
   "outputs": [
    {
     "data": {
      "text/plain": [
       "(31328, 16)"
      ]
     },
     "execution_count": 70,
     "metadata": {},
     "output_type": "execute_result"
    }
   ],
   "source": [
    "#  Size train dataset\n",
    "X_train.shape"
   ]
  },
  {
   "cell_type": "code",
   "execution_count": 71,
   "id": "627e1663",
   "metadata": {},
   "outputs": [
    {
     "data": {
      "text/plain": [
       "(7833, 16)"
      ]
     },
     "execution_count": 71,
     "metadata": {},
     "output_type": "execute_result"
    }
   ],
   "source": [
    "# size of test dataset\n",
    "X_test.shape"
   ]
  },
  {
   "cell_type": "markdown",
   "id": "8b1cf2ac",
   "metadata": {},
   "source": [
    "## Model 1"
   ]
  },
  {
   "cell_type": "markdown",
   "id": "4e76a96a",
   "metadata": {},
   "source": [
    "## Logistic Regression"
   ]
  },
  {
   "cell_type": "code",
   "execution_count": null,
   "id": "ef5c751a",
   "metadata": {
    "scrolled": false
   },
   "outputs": [],
   "source": [
    "from sklearn.linear_model import LogisticRegression\n",
    "\n",
    "#Fit Logistic Reggression model\n",
    "lr_model= LogisticRegression (n_jobs=-1,random_state=21)\n",
    "lr_model.fit(X_train,y_train)"
   ]
  },
  {
   "cell_type": "code",
   "execution_count": null,
   "id": "c134f498",
   "metadata": {},
   "outputs": [],
   "source": [
    "# Predicting on the Training Data\n",
    "lrmodel_pred_train = lr_model.predict(X_train)\n",
    "# Predicting on the Test Data\n",
    "lrmodel_pred_test = lr_model.predict(X_test)"
   ]
  },
  {
   "cell_type": "code",
   "execution_count": 74,
   "id": "f80eee0d",
   "metadata": {},
   "outputs": [],
   "source": [
    "from sklearn.metrics import precision_score, \\\n",
    "    recall_score, confusion_matrix, classification_report, \\\n",
    "    accuracy_score, f1_score"
   ]
  },
  {
   "cell_type": "code",
   "execution_count": null,
   "id": "1d26965f",
   "metadata": {
    "scrolled": true
   },
   "outputs": [],
   "source": [
    "print(' Train F1 score:',f1_score(y_train, lrmodel_pred_train))\n",
    "print(' Test F1 score:',f1_score(y_test, lrmodel_pred_test))"
   ]
  },
  {
   "cell_type": "markdown",
   "id": "48c74be5",
   "metadata": {},
   "source": [
    "### Logistic regression simple Threshold change"
   ]
  },
  {
   "cell_type": "code",
   "execution_count": null,
   "id": "2c5f9ed0",
   "metadata": {},
   "outputs": [],
   "source": [
    "from sklearn.linear_model import LogisticRegression\n",
    "clf = LogisticRegression(random_state=21,class_weight=dict)\n",
    "clf.fit(X_train, y_train)\n",
    "THRESHOLD = 0.3\n",
    "\n",
    "preds = np.where(clf.predict_proba(X_test)[:,1] > THRESHOLD, 1, 0)"
   ]
  },
  {
   "cell_type": "code",
   "execution_count": null,
   "id": "b3750429",
   "metadata": {},
   "outputs": [],
   "source": [
    "pd.DataFrame(data=[f1_score(y_test, preds)],\n",
    "             index=[\"F1_score\"])"
   ]
  },
  {
   "cell_type": "code",
   "execution_count": null,
   "id": "3fa28a08",
   "metadata": {},
   "outputs": [],
   "source": [
    "# Predicting on the Training Data\n",
    "clf_pred_train = clf.predict(X_train)\n",
    "# Predicting on the Test Data\n",
    "clf_pred_test = clf.predict(X_test)\n",
    "\n",
    "print(' Train F1 score:',f1_score(y_train, clf_pred_train))\n",
    "print(' Test F1 score:',f1_score(y_test, clf_pred_test))"
   ]
  },
  {
   "cell_type": "markdown",
   "id": "257b86ad",
   "metadata": {},
   "source": [
    "### SVM"
   ]
  },
  {
   "cell_type": "code",
   "execution_count": null,
   "id": "5eade5db",
   "metadata": {},
   "outputs": [],
   "source": [
    "# from sklearn import svm\n",
    "\n",
    "# classifier = svm.SVC(kernel='linear')"
   ]
  },
  {
   "cell_type": "code",
   "execution_count": null,
   "id": "57d1ee4f",
   "metadata": {},
   "outputs": [],
   "source": [
    "# classifier.fit(X_train,y_train)"
   ]
  },
  {
   "cell_type": "code",
   "execution_count": null,
   "id": "1ff5c1f2",
   "metadata": {},
   "outputs": [],
   "source": [
    "# # Predicting on the Training Data\n",
    "# classifier_pred_train = classifier.predict(X_train)\n",
    "# # Predicting on the Test Data\n",
    "# classifier_pred_test = classifier.predict(X_test)"
   ]
  },
  {
   "cell_type": "code",
   "execution_count": null,
   "id": "b3cb28c7",
   "metadata": {},
   "outputs": [],
   "source": [
    "# print(' Train F1 score:',f1_score(y_train, classifier_pred_train))\n",
    "# print(' Test F1 score:',f1_score(y_test, classifier_pred_train))"
   ]
  },
  {
   "cell_type": "markdown",
   "id": "fbc6303c",
   "metadata": {},
   "source": [
    "### Naive Bayes Model"
   ]
  },
  {
   "cell_type": "code",
   "execution_count": null,
   "id": "163a7a36",
   "metadata": {},
   "outputs": [],
   "source": [
    "from sklearn.naive_bayes import GaussianNB\n",
    "\n",
    "NB_model=GaussianNB()\n",
    "NB_model.fit(X_train,y_train)"
   ]
  },
  {
   "cell_type": "code",
   "execution_count": null,
   "id": "79dd6a39",
   "metadata": {},
   "outputs": [],
   "source": [
    "# Predicting on the Training Data\n",
    "NB_model_pred_train = NB_model.predict(X_train)\n",
    "# Predicting on the Test Data\n",
    "NB_model_pred_test = NB_model.predict(X_test)"
   ]
  },
  {
   "cell_type": "code",
   "execution_count": null,
   "id": "8b026a48",
   "metadata": {},
   "outputs": [],
   "source": [
    "print(' Train F1 score:',f1_score(y_train, NB_model_pred_train))\n",
    "print(' Test F1 score:',f1_score(y_test, NB_model_pred_test))"
   ]
  },
  {
   "cell_type": "code",
   "execution_count": null,
   "id": "84148b91",
   "metadata": {},
   "outputs": [],
   "source": []
  },
  {
   "cell_type": "markdown",
   "id": "3c9c06ec",
   "metadata": {},
   "source": [
    "### Decision Tree"
   ]
  },
  {
   "cell_type": "code",
   "execution_count": null,
   "id": "e242bcd3",
   "metadata": {},
   "outputs": [],
   "source": [
    "from sklearn.tree import DecisionTreeClassifier\n",
    "\n",
    "dtc= DecisionTreeClassifier()\n",
    "dtc.fit(X_train,y_train)\n",
    "#class_weight='balanced'"
   ]
  },
  {
   "cell_type": "code",
   "execution_count": null,
   "id": "4d207855",
   "metadata": {
    "scrolled": true
   },
   "outputs": [],
   "source": [
    "print(' Train F1 score:',f1_score(y_train, dtc.predict(X_train)))\n",
    "print(' Train F1 score:',f1_score(y_test, dtc.predict(X_test)))"
   ]
  },
  {
   "cell_type": "code",
   "execution_count": null,
   "id": "a073514f",
   "metadata": {},
   "outputs": [],
   "source": [
    "from sklearn.model_selection import GridSearchCV"
   ]
  },
  {
   "cell_type": "code",
   "execution_count": null,
   "id": "1ad65d8b",
   "metadata": {},
   "outputs": [],
   "source": [
    "# Instanstiate the object from Decision Tree Classifier \n",
    "dt = DecisionTreeClassifier(random_state=42)\n",
    "\n",
    "# Hyperparameters for tuning the model\n",
    "params = {\n",
    "    \"max_depth\": [2,3,5,10,20],\n",
    "    \"min_samples_leaf\": [5,10,20,50,100,500],\n",
    "    'min_samples_split':[3,4,5,10,15,20,50]\n",
    "}\n",
    "\n",
    "# grid search cv Object\n",
    "grid_search = GridSearchCV(estimator=dt,\n",
    "                           param_grid=params,\n",
    "                           cv=4,\n",
    "                           n_jobs=-1, \n",
    "                           verbose=1, \n",
    "                           scoring='f1'\n",
    "                           )"
   ]
  },
  {
   "cell_type": "code",
   "execution_count": null,
   "id": "be06175e",
   "metadata": {
    "scrolled": true
   },
   "outputs": [],
   "source": [
    "grid_search.fit(X_train,y_train)"
   ]
  },
  {
   "cell_type": "code",
   "execution_count": null,
   "id": "cca97757",
   "metadata": {},
   "outputs": [],
   "source": [
    "# Best score\n",
    "grid_search.best_score_"
   ]
  },
  {
   "cell_type": "code",
   "execution_count": null,
   "id": "b381317f",
   "metadata": {},
   "outputs": [],
   "source": [
    "# Best Decision tree after tuning\n",
    "dt_best = grid_search.best_estimator_\n",
    "dt_best"
   ]
  },
  {
   "cell_type": "code",
   "execution_count": null,
   "id": "52d67090",
   "metadata": {},
   "outputs": [],
   "source": [
    "print(' Train F1 score:',f1_score(y_train, dt_best.predict(X_train)))\n",
    "print(' Train F1 score:',f1_score(y_test, dt_best.predict(X_test)))"
   ]
  },
  {
   "cell_type": "code",
   "execution_count": null,
   "id": "bf3831d1",
   "metadata": {},
   "outputs": [],
   "source": []
  },
  {
   "cell_type": "markdown",
   "id": "bade0d1c",
   "metadata": {},
   "source": [
    "### Random forest classifier"
   ]
  },
  {
   "cell_type": "code",
   "execution_count": null,
   "id": "e4859d89",
   "metadata": {},
   "outputs": [],
   "source": [
    "from sklearn.ensemble import RandomForestClassifier "
   ]
  },
  {
   "cell_type": "code",
   "execution_count": null,
   "id": "3d4473a7",
   "metadata": {},
   "outputs": [],
   "source": [
    "# # Parameter choosen with gridsearch CV and random traials\n",
    "rfc=RandomForestClassifier(n_estimators=301)\n",
    "rfc.fit(X_train,y_train)"
   ]
  },
  {
   "cell_type": "code",
   "execution_count": null,
   "id": "a4b70761",
   "metadata": {
    "scrolled": false
   },
   "outputs": [],
   "source": [
    "print(' Train F1 score:',f1_score(y_train, rfc.predict(X_train)))\n",
    "print(' Test F1 score:',f1_score(y_test, rfc.predict(X_test)))"
   ]
  },
  {
   "cell_type": "code",
   "execution_count": null,
   "id": "a2c5dddd",
   "metadata": {},
   "outputs": [],
   "source": [
    "from sklearn.model_selection import GridSearchCV\n",
    "\n",
    "# Instanstiate the random forest object\n",
    "rf = RandomForestClassifier(random_state=42)\n",
    "\n",
    "# Lets define hyperparameter for tuning\n",
    "params = {\n",
    "    'max_depth': [2,3,5,10,15,20],\n",
    "    'min_samples_leaf': [5,10,20,25,50,75,100,150,200],\n",
    "    'n_estimators': [10, 25, 50, 75,100]\n",
    "}\n",
    "\n",
    "# Instanstiate gridsearchcv object\n",
    "grid_search = GridSearchCV(estimator=rf,                           \n",
    "                           param_grid=params,\n",
    "                           cv = 5,\n",
    "                           n_jobs=-1, \n",
    "                           verbose=1,\n",
    "                           scoring = 'f1'\n",
    "                          )"
   ]
  },
  {
   "cell_type": "code",
   "execution_count": null,
   "id": "50071fb5",
   "metadata": {},
   "outputs": [],
   "source": [
    "# Lets fit the model on data\n",
    "grid_search.fit(X_train,y_train)"
   ]
  },
  {
   "cell_type": "code",
   "execution_count": null,
   "id": "84f87a8d",
   "metadata": {},
   "outputs": [],
   "source": [
    "#Best Score   \n",
    "grid_search.best_score_"
   ]
  },
  {
   "cell_type": "code",
   "execution_count": null,
   "id": "eb35d5c9",
   "metadata": {},
   "outputs": [],
   "source": [
    "# Best esttimator for random forest\n",
    "rf_best = grid_search.best_estimator_\n",
    "rf_best"
   ]
  },
  {
   "cell_type": "code",
   "execution_count": null,
   "id": "06e9e2e9",
   "metadata": {},
   "outputs": [],
   "source": [
    "print(' Train F1 score:',f1_score(y_train, rf_best.predict(X_train)))\n",
    "print(' Test F1 score:',f1_score(y_test, rf_best.predict(X_test)))"
   ]
  },
  {
   "cell_type": "code",
   "execution_count": null,
   "id": "181c4e8d",
   "metadata": {},
   "outputs": [],
   "source": []
  },
  {
   "cell_type": "markdown",
   "id": "bfeaaffe",
   "metadata": {},
   "source": [
    "### Bagging Classifier"
   ]
  },
  {
   "cell_type": "code",
   "execution_count": null,
   "id": "9e4322f8",
   "metadata": {
    "scrolled": false
   },
   "outputs": [],
   "source": [
    "from sklearn.ensemble import BaggingClassifier\n",
    "\n",
    "Bagging_model = BaggingClassifier(base_estimator = RandomForestClassifier())\n",
    "Bagging_model.fit(X_train, y_train)"
   ]
  },
  {
   "cell_type": "code",
   "execution_count": null,
   "id": "de643a13",
   "metadata": {},
   "outputs": [],
   "source": [
    "print(' Train F1 score:',f1_score(y_train, Bagging_model.predict(X_train)))\n",
    "print(' Test F1 score:',f1_score(y_test, Bagging_model.predict(X_test)))"
   ]
  },
  {
   "cell_type": "code",
   "execution_count": null,
   "id": "08a4f8b9",
   "metadata": {},
   "outputs": [],
   "source": [
    "# print(classification_report(y_test,Bagging_model_pred_test))"
   ]
  },
  {
   "cell_type": "code",
   "execution_count": null,
   "id": "52e7cff4",
   "metadata": {},
   "outputs": [],
   "source": []
  },
  {
   "cell_type": "markdown",
   "id": "171b92ae",
   "metadata": {},
   "source": [
    "### Adaptive Boosting"
   ]
  },
  {
   "cell_type": "code",
   "execution_count": null,
   "id": "99affe40",
   "metadata": {},
   "outputs": [],
   "source": [
    "from sklearn.ensemble import AdaBoostClassifier\n",
    "\n",
    "Adbc_model=AdaBoostClassifier()\n",
    "\n",
    "# Fitting data \n",
    "Adbc_model.fit(X_train, y_train)"
   ]
  },
  {
   "cell_type": "code",
   "execution_count": null,
   "id": "a6eae8b1",
   "metadata": {},
   "outputs": [],
   "source": [
    "print(' Train F1 score:',f1_score(y_train, Adbc_model.predict(X_train)))\n",
    "print(' Test F1 score:',f1_score(y_test, Adbc_model.predict(X_test)))"
   ]
  },
  {
   "cell_type": "code",
   "execution_count": null,
   "id": "e21d444b",
   "metadata": {},
   "outputs": [],
   "source": [
    "# print(classification_report(y_test,Bagging_model_pred_test))"
   ]
  },
  {
   "cell_type": "code",
   "execution_count": null,
   "id": "2e12fe73",
   "metadata": {},
   "outputs": [],
   "source": []
  },
  {
   "cell_type": "markdown",
   "id": "7bb243b4",
   "metadata": {},
   "source": [
    "### Gradient Boosting"
   ]
  },
  {
   "cell_type": "code",
   "execution_count": null,
   "id": "3b45871d",
   "metadata": {},
   "outputs": [],
   "source": [
    "from sklearn.ensemble import GradientBoostingClassifier\n",
    "\n",
    "gbc= GradientBoostingClassifier(random_state = 21, learning_rate=0.52,loss='exponential')\n",
    "gbc.fit(X_train,y_train)"
   ]
  },
  {
   "cell_type": "code",
   "execution_count": null,
   "id": "a59497bc",
   "metadata": {
    "scrolled": true
   },
   "outputs": [],
   "source": [
    "print(' Train F1 score:',f1_score(y_train, gbc.predict(X_train)))\n",
    "print(' Test F1 score:',f1_score(y_test, gbc.predict(X_test)))"
   ]
  },
  {
   "cell_type": "markdown",
   "id": "36ca2378",
   "metadata": {},
   "source": [
    "### Xgboost"
   ]
  },
  {
   "cell_type": "code",
   "execution_count": 72,
   "id": "b2ae3c50",
   "metadata": {},
   "outputs": [
    {
     "data": {
      "text/plain": [
       "XGBClassifier(base_score=0.5, booster='gbtree', callbacks=None,\n",
       "              colsample_bylevel=1, colsample_bynode=1, colsample_bytree=1,\n",
       "              early_stopping_rounds=None, enable_categorical=False,\n",
       "              eval_metric=None, gamma=0, gpu_id=-1, grow_policy='depthwise',\n",
       "              importance_type=None, interaction_constraints='',\n",
       "              learning_rate=0.300000012, max_bin=256, max_cat_to_onehot=4,\n",
       "              max_delta_step=0, max_depth=6, max_leaves=0, min_child_weight=1,\n",
       "              missing=nan, monotone_constraints='()', n_estimators=100,\n",
       "              n_jobs=0, num_parallel_tree=1, predictor='auto', random_state=0,\n",
       "              reg_alpha=0, reg_lambda=1, ...)"
      ]
     },
     "execution_count": 72,
     "metadata": {},
     "output_type": "execute_result"
    }
   ],
   "source": [
    "import xgboost as xgb\n",
    "xgb_model = xgb.XGBClassifier()\n",
    "xgb_model.fit(X_train, y_train)"
   ]
  },
  {
   "cell_type": "code",
   "execution_count": 75,
   "id": "d5b1f275",
   "metadata": {
    "scrolled": true
   },
   "outputs": [
    {
     "name": "stdout",
     "output_type": "stream",
     "text": [
      " Train F1 score: 0.7551487414187643\n",
      " Test F1 score: 0.7225609756097562\n"
     ]
    }
   ],
   "source": [
    "print(' Train F1 score:',f1_score(y_train, xgb_model.predict(X_train)))\n",
    "print(' Test F1 score:',f1_score(y_test, xgb_model.predict(X_test)))"
   ]
  },
  {
   "cell_type": "code",
   "execution_count": 76,
   "id": "3dbe4d90",
   "metadata": {},
   "outputs": [],
   "source": [
    "xgb_model = xgb.XGBClassifier()"
   ]
  },
  {
   "cell_type": "code",
   "execution_count": 77,
   "id": "e964a690",
   "metadata": {},
   "outputs": [],
   "source": [
    "from sklearn.model_selection import GridSearchCV\n",
    "# 1st-Run for best hyperparameters\n",
    "parameters = {'learning_rate': [0.1, 0.2, 0.3, 0.4, 0.5],\n",
    "              'max_depth': [2, 4, 6, 8, 10],\n",
    "              'min_child_weight': [3, 7, 11, 19, 25],\n",
    "              'n_estimators': [50, 100, 150, 200, 300, 500]}\n",
    "\n",
    "# scorer = metrics.make_scorer(metrics.roc_auc_score,\n",
    "#                              greater_is_better=True,\n",
    "#                              needs_proba=True,\n",
    "#                              needs_threshold=False)\n",
    "\n",
    "clf_xgb = GridSearchCV(estimator=xgb_model,\n",
    "                       param_grid=parameters,\n",
    "                       n_jobs=-1,\n",
    "                       cv=3,\n",
    "                       scoring='f1',\n",
    "                       refit=True)"
   ]
  },
  {
   "cell_type": "code",
   "execution_count": null,
   "id": "585f5e7e",
   "metadata": {},
   "outputs": [],
   "source": [
    "clf_xgb.fit(X_train, y_train)"
   ]
  },
  {
   "cell_type": "code",
   "execution_count": null,
   "id": "c8647e66",
   "metadata": {},
   "outputs": [],
   "source": [
    "print(' Train F1 score:',f1_score(y_train, xgb_model.predict(X_train)))\n",
    "print(' Test F1 score:',f1_score(y_test, xgb_model.predict(X_test)))"
   ]
  },
  {
   "cell_type": "markdown",
   "id": "dc344882",
   "metadata": {},
   "source": [
    "Train F1 score: 0.7199082919373327\n",
    " Test F1 score: 0.7275494672754947    0.52 LR"
   ]
  },
  {
   "cell_type": "markdown",
   "id": "e77fc58e",
   "metadata": {},
   "source": [
    "### LDA"
   ]
  },
  {
   "cell_type": "code",
   "execution_count": null,
   "id": "6470349a",
   "metadata": {},
   "outputs": [],
   "source": [
    "from sklearn.discriminant_analysis import LinearDiscriminantAnalysis\n",
    "\n",
    "#  Appying basic LDA model\n",
    "lda_model=LinearDiscriminantAnalysis()\n",
    "\n",
    "#  fitting data into LDA model\n",
    "lda_model.fit(X_train,y_train)"
   ]
  },
  {
   "cell_type": "code",
   "execution_count": null,
   "id": "5ff99d91",
   "metadata": {
    "scrolled": true
   },
   "outputs": [],
   "source": [
    "print(' Train F1 score:',f1_score(y_train, lda_model.predict(X_train)))\n",
    "print(' Test F1 score:',f1_score(y_test, lda_model.predict(X_test)))"
   ]
  },
  {
   "cell_type": "code",
   "execution_count": null,
   "id": "afe53822",
   "metadata": {},
   "outputs": [],
   "source": []
  },
  {
   "cell_type": "markdown",
   "id": "ea85664f",
   "metadata": {},
   "source": [
    "## Model 2 - Best Model"
   ]
  },
  {
   "cell_type": "markdown",
   "id": "2c39f51a",
   "metadata": {},
   "source": [
    "### Logistic Regression\n"
   ]
  },
  {
   "cell_type": "code",
   "execution_count": null,
   "id": "ed7a46f5",
   "metadata": {},
   "outputs": [],
   "source": [
    "data_train_new.info()"
   ]
  },
  {
   "cell_type": "code",
   "execution_count": null,
   "id": "a1e9a64d",
   "metadata": {},
   "outputs": [],
   "source": [
    "data_test_new.info()"
   ]
  },
  {
   "cell_type": "code",
   "execution_count": null,
   "id": "803f5faa",
   "metadata": {},
   "outputs": [],
   "source": [
    "df_test"
   ]
  },
  {
   "cell_type": "code",
   "execution_count": null,
   "id": "6ce97f59",
   "metadata": {},
   "outputs": [],
   "source": [
    "#  Gradient boosting model perfomance is better than all models\n",
    "data_test_new_drop=data_test_new.drop(['buy'],axis=1)"
   ]
  },
  {
   "cell_type": "code",
   "execution_count": null,
   "id": "e3f21272",
   "metadata": {},
   "outputs": [],
   "source": [
    "buy =xgcl.predict(data_test_new_drop)"
   ]
  },
  {
   "cell_type": "code",
   "execution_count": null,
   "id": "564e8580",
   "metadata": {},
   "outputs": [],
   "source": [
    "df_test['buy'] = buy"
   ]
  },
  {
   "cell_type": "code",
   "execution_count": null,
   "id": "775f0372",
   "metadata": {},
   "outputs": [],
   "source": [
    "# Create csv file for Submission with two column\n",
    "df_test[['id','buy']].to_csv(r'C:\\Users\\Admin\\Desktop\\Data Scienc 2022\\05_Github_Desktop\\Portfolio_DS\\Smart Lead Scoring Engine_hackathon\\AV_Submission.csv',index=False)"
   ]
  },
  {
   "cell_type": "code",
   "execution_count": null,
   "id": "1433b154",
   "metadata": {},
   "outputs": [],
   "source": [
    "# Ak: anonymousZBBT3A"
   ]
  }
 ],
 "metadata": {
  "kernelspec": {
   "display_name": "Python 3 (ipykernel)",
   "language": "python",
   "name": "python3"
  },
  "language_info": {
   "codemirror_mode": {
    "name": "ipython",
    "version": 3
   },
   "file_extension": ".py",
   "mimetype": "text/x-python",
   "name": "python",
   "nbconvert_exporter": "python",
   "pygments_lexer": "ipython3",
   "version": "3.9.7"
  }
 },
 "nbformat": 4,
 "nbformat_minor": 5
}
