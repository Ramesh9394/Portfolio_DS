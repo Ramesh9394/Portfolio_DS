{
 "cells": [
  {
   "cell_type": "code",
   "execution_count": 1,
   "id": "8371f6e4",
   "metadata": {},
   "outputs": [],
   "source": [
    "import openpyxl\n",
    "from openpyxl import workbook\n",
    "from openpyxl import load_workbook\n",
    "\n",
    "from datetime import date"
   ]
  },
  {
   "cell_type": "code",
   "execution_count": 2,
   "id": "c81c0007",
   "metadata": {},
   "outputs": [],
   "source": [
    "template = load_workbook('template.xlsx')\n",
    "startmodel = load_workbook('C4-A20-15D_xxxxxx_AFOxxxx_A00_20220531.xlsx')"
   ]
  },
  {
   "cell_type": "code",
   "execution_count": 3,
   "id": "84c4eb40",
   "metadata": {
    "scrolled": true
   },
   "outputs": [
    {
     "name": "stdout",
     "output_type": "stream",
     "text": [
      "['Master_Data', 'Blatt 0', 'MP_Points', 'Ballooning', 'Table', 'Shim_Plan', 'Rough_Sheet_1', 'Rough_Sheet_2', 'Rough_Sheet_3', 'Rough_Sheet_4', 'Blatt_M', 'Blatt 1', 'Blatt_B', 'Blatt 2', 'Blatt_T', 'Blatt 3', 'Blatt_S', 'Blatt 4', 'Blatt 5', 'Blatt 6', 'Blatt 7', 'Log']\n"
     ]
    }
   ],
   "source": [
    "# Loading the data file\n",
    "raw_data = load_workbook('Macro - V5.xlsm')\n",
    "print(raw_data.sheetnames)"
   ]
  },
  {
   "cell_type": "code",
   "execution_count": 4,
   "id": "31209745",
   "metadata": {},
   "outputs": [
    {
     "name": "stdout",
     "output_type": "stream",
     "text": [
      "S\n"
     ]
    }
   ],
   "source": [
    "ws = template.active\n",
    "B3 = ws.cell(row=3, column=2).value\n",
    "print(B3)"
   ]
  },
  {
   "cell_type": "code",
   "execution_count": 5,
   "id": "fd638739",
   "metadata": {},
   "outputs": [
    {
     "data": {
      "text/plain": [
       "23"
      ]
     },
     "execution_count": 5,
     "metadata": {},
     "output_type": "execute_result"
    }
   ],
   "source": [
    "ws = template.active\n",
    "for i in range(3,200):\n",
    "    cellvalue = ws.cell(row=i, column=2).value\n",
    "    if cellvalue == None:\n",
    "        max_row = i\n",
    "        break\n",
    "max_row"
   ]
  },
  {
   "cell_type": "code",
   "execution_count": 17,
   "id": "8648b344",
   "metadata": {},
   "outputs": [
    {
     "name": "stdout",
     "output_type": "stream",
     "text": [
      "BG Names:  {'Spanner 11', 'Spanner 09', None, 'Spanner 10', 'Konturbett 03', 'Spanner 08', 'Spanner 07'}\n",
      "Bemi_numbers:  {'C4-38H 962 921/922', 'C4-38H 962 920/921', 'C4-38H 962 923/924', None, 'C4-38H 962 919/920', 'C4-38H 962 922/923', 'C4-38H 962 916/917'}\n",
      "positoin Number List:  [[], [], [], [], [], [], [], [], [], [], [], [], [], [], [], [], [], [], [], []]\n"
     ]
    }
   ],
   "source": [
    "rows = ws.iter_rows(min_row=3,max_row=max_row-1, min_col=1, max_col=6)\n",
    "\n",
    "bg_set = set()\n",
    "bemi_set = set()\n",
    "pos_list = list()\n",
    "panel_set = set()\n",
    "for i,j,bg,bemi,pos,m in rows:\n",
    "    #print(i.value, j.value, bg.value,bemi.value, pos.value)\n",
    "    bg_set.add(bg.value)\n",
    "    bemi_set.add(bemi.value)\n",
    "    temp_list = []\n",
    "    d_row = 3\n",
    "    if ws.cell(row=d_row, column =4) == bemi.value:\n",
    "        temp_pos.append(pos.value)\n",
    "    pos_list.insert(-1,temp_list)\n",
    "        \n",
    "    \n",
    "print(\"BG Names: \",bg_set)\n",
    "print('Bemi_numbers: ',bemi_set)\n",
    "print(\"positoin Number List: \",pos_list)"
   ]
  },
  {
   "cell_type": "code",
   "execution_count": null,
   "id": "5ed4ac23",
   "metadata": {},
   "outputs": [],
   "source": []
  },
  {
   "cell_type": "code",
   "execution_count": null,
   "id": "1de108f9",
   "metadata": {},
   "outputs": [],
   "source": []
  },
  {
   "cell_type": "code",
   "execution_count": null,
   "id": "62ab2013",
   "metadata": {},
   "outputs": [],
   "source": []
  },
  {
   "cell_type": "code",
   "execution_count": null,
   "id": "73db3c71",
   "metadata": {},
   "outputs": [],
   "source": []
  },
  {
   "cell_type": "code",
   "execution_count": null,
   "id": "ede9e080",
   "metadata": {},
   "outputs": [],
   "source": []
  },
  {
   "cell_type": "code",
   "execution_count": null,
   "id": "95f0ef0b",
   "metadata": {},
   "outputs": [],
   "source": []
  },
  {
   "cell_type": "code",
   "execution_count": null,
   "id": "58bd7cf8",
   "metadata": {},
   "outputs": [],
   "source": []
  },
  {
   "cell_type": "code",
   "execution_count": null,
   "id": "e6a50417",
   "metadata": {},
   "outputs": [],
   "source": []
  },
  {
   "cell_type": "code",
   "execution_count": null,
   "id": "8551c05f",
   "metadata": {},
   "outputs": [],
   "source": []
  },
  {
   "cell_type": "code",
   "execution_count": null,
   "id": "d821e09a",
   "metadata": {},
   "outputs": [],
   "source": []
  },
  {
   "cell_type": "code",
   "execution_count": null,
   "id": "b6f53aca",
   "metadata": {},
   "outputs": [],
   "source": []
  },
  {
   "cell_type": "code",
   "execution_count": null,
   "id": "dd8b38df",
   "metadata": {},
   "outputs": [],
   "source": [
    "# st_number = input('Please enter the Bemi Nr: ')\n",
    "# afo = input(\"please enter the AFO number: \")\n",
    "# st_name = input(\"Please Enter name of the station: \")\n",
    "# project = input(\"please Enter name of the project: \")\n",
    "# mirror = input(\"Please type 'Yes' if station is mirror otherwise 'No': \")\n",
    "\n",
    "# today = date.today()"
   ]
  },
  {
   "cell_type": "code",
   "execution_count": null,
   "id": "b4144e80",
   "metadata": {},
   "outputs": [],
   "source": [
    "# for i,sheets in enumerate(startmodel.worksheets):\n",
    "#     print(sheets)\n",
    "#     sheets['W65'] = i\n",
    "#     sheets['W67'] = today\n",
    "#     sheets['W64'] = project\n",
    "#     sheets[\"N69\"] = project\n",
    "#     sheets[\"N65\"] = afo\n",
    "#     if mirror == 'Yes':\n",
    "#         sheets[\"Y67\"] = st_number + '\\n' + st_number\n",
    "#     else:\n",
    "#         sheets[\"Y67\"] = st_number"
   ]
  },
  {
   "cell_type": "code",
   "execution_count": null,
   "id": "007a0e0e",
   "metadata": {},
   "outputs": [],
   "source": [
    "# startmodel.save('C4-A20-{}_AFO{}_A00_{}.xlsx'.format(st_number[4:],afo,today))"
   ]
  },
  {
   "cell_type": "code",
   "execution_count": null,
   "id": "baa16295",
   "metadata": {},
   "outputs": [],
   "source": []
  },
  {
   "cell_type": "code",
   "execution_count": null,
   "id": "7c77c9f5",
   "metadata": {},
   "outputs": [],
   "source": []
  }
 ],
 "metadata": {
  "kernelspec": {
   "display_name": "Python 3 (ipykernel)",
   "language": "python",
   "name": "python3"
  },
  "language_info": {
   "codemirror_mode": {
    "name": "ipython",
    "version": 3
   },
   "file_extension": ".py",
   "mimetype": "text/x-python",
   "name": "python",
   "nbconvert_exporter": "python",
   "pygments_lexer": "ipython3",
   "version": "3.9.7"
  }
 },
 "nbformat": 4,
 "nbformat_minor": 5
}
