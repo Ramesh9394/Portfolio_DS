{
  "nbformat": 4,
  "nbformat_minor": 0,
  "metadata": {
    "colab": {
      "name": "100 Python Practice Problems.ipynb",
      "provenance": [],
      "authorship_tag": "ABX9TyPfwq+ThT1lX8aghqn/CvnK",
      "include_colab_link": true
    },
    "kernelspec": {
      "name": "python3",
      "display_name": "Python 3"
    },
    "language_info": {
      "name": "python"
    }
  },
  "cells": [
    {
      "cell_type": "markdown",
      "metadata": {
        "id": "view-in-github",
        "colab_type": "text"
      },
      "source": [
        "<a href=\"https://colab.research.google.com/github/Ramesh9394/Portfolio_DS/blob/main/100_Python_Practice_Problems.ipynb\" target=\"_parent\"><img src=\"https://colab.research.google.com/assets/colab-badge.svg\" alt=\"Open In Colab\"/></a>"
      ]
    },
    {
      "cell_type": "code",
      "execution_count": null,
      "metadata": {
        "id": "0G3vUoaQDxT7"
      },
      "outputs": [],
      "source": [
        ""
      ]
    },
    {
      "cell_type": "markdown",
      "source": [
        "1. User will input (3ages).Find the oldest one"
      ],
      "metadata": {
        "id": "T7x-0gj0Emxh"
      }
    },
    {
      "cell_type": "code",
      "source": [
        "first_age = int(input('Akshay,Please enter your age: '))\n",
        "second_age = int(input('Santosh,Please enter your age: '))\n",
        "third_age = int(input('Ravi,Please enter your age:'))\n",
        "\n",
        "if first_age > second_age and  first_age > third_age:\n",
        "  print(\"Akshay is Olderand he is of {} years old\".format(first_age))\n",
        "elif second_age > first_age and second_age > third_age:\n",
        "  print(\"Santosh is older and he is of {} years old\". format(second_age))\n",
        "else:\n",
        "  print(\"Ravi is older and he is of {} years old\".format(third_age))\n"
      ],
      "metadata": {
        "colab": {
          "base_uri": "https://localhost:8080/"
        },
        "id": "rvk7beOaEsvp",
        "outputId": "2f9adc5a-7f21-41ef-fc42-2bce3b31d530"
      },
      "execution_count": 3,
      "outputs": [
        {
          "output_type": "stream",
          "name": "stdout",
          "text": [
            "Akshay,Please enter your age: 25\n",
            "Santosh,Please enter your age: 26\n",
            "Ravi,Please enter your age:27\n",
            "Ravi is older and he is of 27 years old\n"
          ]
        }
      ]
    },
    {
      "cell_type": "markdown",
      "source": [
        "2. **Write a program that will convert celsius value to fahrenheit**"
      ],
      "metadata": {
        "id": "L4yxaWCWGOtI"
      }
    },
    {
      "cell_type": "code",
      "source": [
        "c = int(input(\"please enter temperature in celscius: \"))\n",
        "f = 32 + 1.8*c\n",
        "print(\"The temperature in Fahrenheit is {}\".format(round(f),2)) \n",
        "\n",
        "# Define a function to calculate the temperature in Fahreinheit\n",
        "def c_f(temperature):\n",
        "  return 32 + 1.8*temperature\n",
        "\n",
        "# Lets check the temperature in Fahreinheit for 1-10 \n",
        "for i in range(1,11):\n",
        "  print(c_f(i))"
      ],
      "metadata": {
        "colab": {
          "base_uri": "https://localhost:8080/"
        },
        "id": "DXe8hmiiF-Cg",
        "outputId": "9c349b3a-b5ac-4cf1-9c9b-d8eaa5a273a6"
      },
      "execution_count": 10,
      "outputs": [
        {
          "output_type": "stream",
          "name": "stdout",
          "text": [
            "please enter temperature in celscius: 10\n",
            "The temperature in Fahrenheit is 50\n",
            "33.8\n",
            "35.6\n",
            "37.4\n",
            "39.2\n",
            "41.0\n",
            "42.8\n",
            "44.6\n",
            "46.4\n",
            "48.2\n",
            "50.0\n"
          ]
        }
      ]
    },
    {
      "cell_type": "markdown",
      "source": [
        "3. **User will input (2numbers).Write a program to swap the numbers**"
      ],
      "metadata": {
        "id": "vt1Vp3lEHLn-"
      }
    },
    {
      "cell_type": "code",
      "source": [
        "a = int(input(\"Please enter first number: \"))\n",
        "b = int(input(\"Please enter second number:\"))\n",
        "print('First number before swap was {}: and second number before swap was {}: '.format(a,b))\n",
        "\n",
        "a,b = b,a\n",
        "\n",
        "print('First number after swap was {}: and second number after swap was {}: '.format(a,b))\n"
      ],
      "metadata": {
        "colab": {
          "base_uri": "https://localhost:8080/"
        },
        "id": "LCRIHIcLGvRV",
        "outputId": "3c16f3f9-2429-468f-bfe2-4f76caf325ad"
      },
      "execution_count": 8,
      "outputs": [
        {
          "output_type": "stream",
          "name": "stdout",
          "text": [
            "Please enter first number: 5\n",
            "Please enter second number:10\n",
            "First number before swap was 5: and second number before swap was10: \n",
            "First number after swap was 10: and second number after swap was5: \n"
          ]
        }
      ]
    },
    {
      "cell_type": "markdown",
      "source": [
        "3. **Write a program that will give you the sum of 3 digits**"
      ],
      "metadata": {
        "id": "pXqTvEcXICrb"
      }
    },
    {
      "cell_type": "code",
      "source": [
        "\n",
        "def sum_abc():\n",
        "  num = input(\"Please enter three digit number: \")\n",
        "  if len(num) == 3:\n",
        "    l = [int(i) for i in num]\n",
        "    return sum(l)\n",
        "  else: \n",
        "    print(\"The number is not 3 digit\")\n",
        "# Calling function\n",
        "sum_abc()"
      ],
      "metadata": {
        "colab": {
          "base_uri": "https://localhost:8080/"
        },
        "id": "C1hAHiobH3TJ",
        "outputId": "a5cdbc87-80aa-45bb-fcd2-37d11e953ab4"
      },
      "execution_count": 20,
      "outputs": [
        {
          "name": "stdout",
          "output_type": "stream",
          "text": [
            "Please enter three digit number155\n"
          ]
        },
        {
          "output_type": "execute_result",
          "data": {
            "text/plain": [
              "11"
            ]
          },
          "metadata": {},
          "execution_count": 20
        }
      ]
    },
    {
      "cell_type": "markdown",
      "source": [
        "4. **Write a program that will reverse a four digit number.Also it checks\n",
        "whether the reverse is true.**"
      ],
      "metadata": {
        "id": "sPqWz8p5M5Zp"
      }
    },
    {
      "cell_type": "code",
      "source": [
        "num = input(\"Please ennter four digit number : \")\n",
        "l = [int(i) for i in num]\n",
        "print(l.reverse())\n",
        "\n",
        "if l == l.reverse():\n",
        "  print('Both are same')\n",
        "else:\n",
        "  print(\"Both are not same\")"
      ],
      "metadata": {
        "colab": {
          "base_uri": "https://localhost:8080/"
        },
        "id": "HBSdqy9dIUnU",
        "outputId": "6a0846d6-e515-4135-8c26-66c4eec45da6"
      },
      "execution_count": 27,
      "outputs": [
        {
          "output_type": "stream",
          "name": "stdout",
          "text": [
            "Please ennter four digit number : 2587\n",
            "None\n",
            "Both are not same\n"
          ]
        }
      ]
    },
    {
      "cell_type": "code",
      "source": [
        "4"
      ],
      "metadata": {
        "id": "clZ5QSWkPxQb"
      },
      "execution_count": null,
      "outputs": []
    }
  ]
}