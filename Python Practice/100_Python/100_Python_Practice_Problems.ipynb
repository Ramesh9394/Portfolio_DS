{
 "cells": [
  {
   "cell_type": "markdown",
   "metadata": {
    "colab_type": "text",
    "id": "view-in-github"
   },
   "source": [
    "<a href=\"https://colab.research.google.com/github/Ramesh9394/Portfolio_DS/blob/main/Python%20Practice/100_Python_Practice_Problems.ipynb\" target=\"_parent\"><img src=\"https://colab.research.google.com/assets/colab-badge.svg\" alt=\"Open In Colab\"/></a>"
   ]
  },
  {
   "cell_type": "markdown",
   "metadata": {
    "id": "4QZYQQnLcPiR"
   },
   "source": [
    "# **Python Questions and Short Notes**"
   ]
  },
  {
   "cell_type": "markdown",
   "metadata": {
    "id": "T7x-0gj0Emxh"
   },
   "source": [
    "#### 1. User will input (3ages).Find the oldest one"
   ]
  },
  {
   "cell_type": "code",
   "execution_count": 1,
   "metadata": {
    "colab": {
     "base_uri": "https://localhost:8080/"
    },
    "id": "rvk7beOaEsvp",
    "outputId": "2f9adc5a-7f21-41ef-fc42-2bce3b31d530"
   },
   "outputs": [
    {
     "name": "stdout",
     "output_type": "stream",
     "text": [
      "Akshay,Please enter your age: 25\n",
      "Santosh,Please enter your age: 30\n",
      "Ravi,Please enter your age:40\n",
      "Ravi is older and he is of 40 years old\n"
     ]
    }
   ],
   "source": [
    "first_age = int(input('Akshay,Please enter your age: '))\n",
    "second_age = int(input('Santosh,Please enter your age: '))\n",
    "third_age = int(input('Ravi,Please enter your age:'))\n",
    "\n",
    "if first_age > second_age and  first_age > third_age:\n",
    "  print(\"Akshay is Olderand he is of {} years old\".format(first_age))\n",
    "elif second_age > first_age and second_age > third_age:\n",
    "  print(\"Santosh is older and he is of {} years old\". format(second_age))\n",
    "else:\n",
    "  print(\"Ravi is older and he is of {} years old\".format(third_age))\n"
   ]
  },
  {
   "cell_type": "markdown",
   "metadata": {
    "id": "L4yxaWCWGOtI"
   },
   "source": [
    "#### 2. Write a program that will convert celsius value to fahrenheit"
   ]
  },
  {
   "cell_type": "code",
   "execution_count": 2,
   "metadata": {
    "colab": {
     "base_uri": "https://localhost:8080/"
    },
    "id": "DXe8hmiiF-Cg",
    "outputId": "9c349b3a-b5ac-4cf1-9c9b-d8eaa5a273a6"
   },
   "outputs": [
    {
     "name": "stdout",
     "output_type": "stream",
     "text": [
      "please enter temperature in celscius: 45\n",
      "The temperature in Fahrenheit is 113\n",
      "33.8\n",
      "35.6\n",
      "37.4\n",
      "39.2\n",
      "41.0\n",
      "42.8\n",
      "44.6\n",
      "46.4\n",
      "48.2\n",
      "50.0\n"
     ]
    }
   ],
   "source": [
    "c = int(input(\"please enter temperature in celscius: \"))\n",
    "f = 32 + 1.8*c\n",
    "print(\"The temperature in Fahrenheit is {}\".format(round(f),2)) \n",
    "\n",
    "# Define a function to calculate the temperature in Fahreinheit\n",
    "def c_f(temperature):\n",
    "  return 32 + 1.8*temperature\n",
    "\n",
    "# Lets check the temperature in Fahreinheit for 1-10 \n",
    "for i in range(1,11):\n",
    "  print(c_f(i))"
   ]
  },
  {
   "cell_type": "markdown",
   "metadata": {
    "id": "vt1Vp3lEHLn-"
   },
   "source": [
    "#### 3. User will input (2numbers).Write a program to swap the numbers"
   ]
  },
  {
   "cell_type": "code",
   "execution_count": 3,
   "metadata": {
    "colab": {
     "base_uri": "https://localhost:8080/"
    },
    "id": "LCRIHIcLGvRV",
    "outputId": "3c16f3f9-2429-468f-bfe2-4f76caf325ad"
   },
   "outputs": [
    {
     "name": "stdout",
     "output_type": "stream",
     "text": [
      "Please enter first number: 12\n",
      "Please enter second number:25\n",
      "First number before swap was 12: and second number before swap was 25: \n",
      "First number after swap was 25: and second number after swap was 12: \n"
     ]
    }
   ],
   "source": [
    "a = int(input(\"Please enter first number: \"))\n",
    "b = int(input(\"Please enter second number:\"))\n",
    "print('First number before swap was {}: and second number before swap was {}: '.format(a,b))\n",
    "\n",
    "a,b = b,a\n",
    "\n",
    "print('First number after swap was {}: and second number after swap was {}: '.format(a,b))\n"
   ]
  },
  {
   "cell_type": "markdown",
   "metadata": {
    "id": "pXqTvEcXICrb"
   },
   "source": [
    "#### 4. Write a program that will give you the sum of 3 digits"
   ]
  },
  {
   "cell_type": "code",
   "execution_count": 4,
   "metadata": {
    "colab": {
     "base_uri": "https://localhost:8080/"
    },
    "id": "C1hAHiobH3TJ",
    "outputId": "a5cdbc87-80aa-45bb-fcd2-37d11e953ab4"
   },
   "outputs": [
    {
     "name": "stdout",
     "output_type": "stream",
     "text": [
      "Please enter three digit number: 785\n"
     ]
    },
    {
     "data": {
      "text/plain": [
       "20"
      ]
     },
     "execution_count": 4,
     "metadata": {},
     "output_type": "execute_result"
    }
   ],
   "source": [
    "\n",
    "def sum_abc():\n",
    "  num = input(\"Please enter three digit number: \")\n",
    "  if len(num) == 3:\n",
    "    l = [int(i) for i in num]\n",
    "    return sum(l)\n",
    "  else: \n",
    "    print(\"The number is not 3 digit\")\n",
    "# Calling function\n",
    "sum_abc()"
   ]
  },
  {
   "cell_type": "code",
   "execution_count": 5,
   "metadata": {
    "colab": {
     "base_uri": "https://localhost:8080/"
    },
    "id": "-poaR8U3VOb4",
    "outputId": "939cc54f-731b-4905-a94d-65cc8e1b0f6e"
   },
   "outputs": [
    {
     "name": "stdout",
     "output_type": "stream",
     "text": [
      "Please enter three digit number: 125\n",
      "8\n"
     ]
    }
   ],
   "source": [
    " num = input(\"Please enter three digit number: \")\n",
    "\n",
    "if len(num) == 3:\n",
    "  l1 = []\n",
    "  for i in num:\n",
    "    l1.append(int(i))\n",
    "    l = [int(i) for i in num]\n",
    "  print(sum(l))\n",
    "else:\n",
    "  print(\"The number is not 3 digit\")"
   ]
  },
  {
   "cell_type": "markdown",
   "metadata": {
    "id": "sPqWz8p5M5Zp"
   },
   "source": [
    "#### 5. Write a program that will reverse a four digit number.Also it checks whether the reverse is true."
   ]
  },
  {
   "cell_type": "code",
   "execution_count": 6,
   "metadata": {
    "colab": {
     "base_uri": "https://localhost:8080/"
    },
    "id": "HBSdqy9dIUnU",
    "outputId": "3a31d14b-f113-4dee-f274-cb29891d2af7"
   },
   "outputs": [
    {
     "name": "stdout",
     "output_type": "stream",
     "text": [
      "Please ennter four digit number : 4589\n",
      "[9, 8, 5, 4]\n",
      "Both are not same\n"
     ]
    }
   ],
   "source": [
    "num = input(\"Please ennter four digit number : \")\n",
    "l = [int(i) for i in num]\n",
    "print(l[::-1])\n",
    "\n",
    "if l == l[::-1]:\n",
    "  print('Both are same')\n",
    "else:\n",
    "  print(\"Both are not same\")"
   ]
  },
  {
   "cell_type": "markdown",
   "metadata": {
    "id": "HNH0Ty9xcs1k"
   },
   "source": [
    "#### 6. Write a program that will tell whether the number entered by the user is odd or even."
   ]
  },
  {
   "cell_type": "code",
   "execution_count": 7,
   "metadata": {},
   "outputs": [],
   "source": [
    "def odd_even(number):\n",
    "    if number % 2==0:\n",
    "        print(\"The number is even\")\n",
    "    else:\n",
    "        print('The number is odd')"
   ]
  },
  {
   "cell_type": "code",
   "execution_count": 8,
   "metadata": {},
   "outputs": [
    {
     "name": "stdout",
     "output_type": "stream",
     "text": [
      "The number is odd\n"
     ]
    }
   ],
   "source": [
    "odd_even(49)"
   ]
  },
  {
   "cell_type": "markdown",
   "metadata": {
    "id": "A8Q0ky__dkZ-"
   },
   "source": [
    "#### 7. Write a program that will tell whether the given year is a leap year or not."
   ]
  },
  {
   "cell_type": "code",
   "execution_count": 9,
   "metadata": {
    "id": "VaugqJz2cyY4"
   },
   "outputs": [],
   "source": [
    "# Rules to be year a leap year\n",
    "'''\n",
    "1. The year should be divisible by 4\n",
    "2. Every Century is not leap year\n",
    "3. So every century Year should be divisible by 400\n",
    "\n",
    "'''\n",
    "\n",
    "# Lets define a function\n",
    "def leap_year(year):\n",
    "    if year % 400==0 and year % 100==0:\n",
    "        #print('The {} is year'.format(year))\n",
    "        return True\n",
    "    elif year % 4 == 0 and year % 100 != 0:\n",
    "        return True\n",
    "    else: \n",
    "        #print('The {} is not leap year'.format(year))\n",
    "        return False#### 7. Write a program that will tell whether the given year is a leap year or not."
   ]
  },
  {
   "cell_type": "code",
   "execution_count": 10,
   "metadata": {},
   "outputs": [
    {
     "name": "stdout",
     "output_type": "stream",
     "text": [
      "So here we have 401 to check the working\n",
      "The leap year list is:\n",
      " [0, 20, 40, 60, 80, 120, 140, 160, 180, 220, 240, 260, 280, 320, 340, 360, 380, 400, 420, 440, 460, 480, 520, 540, 560, 580, 620, 640, 660, 680, 720, 740, 760, 780, 800, 820, 840, 860, 880, 920, 940, 960, 980, 1020, 1040, 1060, 1080, 1120, 1140, 1160, 1180, 1200, 1220, 1240, 1260, 1280, 1320, 1340, 1360, 1380, 1420, 1440, 1460, 1480, 1520, 1540, 1560, 1580, 1600, 1620, 1640, 1660, 1680, 1720, 1740, 1760, 1780, 1820, 1840, 1860, 1880, 1920, 1940, 1960, 1980, 2000]\n",
      "The not leap year list is:\n",
      " [5, 10, 15, 25, 30, 35, 45, 50, 55, 65, 70, 75, 85, 90, 95, 100, 105, 110, 115, 125, 130, 135, 145, 150, 155, 165, 170, 175, 185, 190, 195, 200, 205, 210, 215, 225, 230, 235, 245, 250, 255, 265, 270, 275, 285, 290, 295, 300, 305, 310, 315, 325, 330, 335, 345, 350, 355, 365, 370, 375, 385, 390, 395, 405, 410, 415, 425, 430, 435, 445, 450, 455, 465, 470, 475, 485, 490, 495, 500, 505, 510, 515, 525, 530, 535, 545, 550, 555, 565, 570, 575, 585, 590, 595, 600, 605, 610, 615, 625, 630, 635, 645, 650, 655, 665, 670, 675, 685, 690, 695, 700, 705, 710, 715, 725, 730, 735, 745, 750, 755, 765, 770, 775, 785, 790, 795, 805, 810, 815, 825, 830, 835, 845, 850, 855, 865, 870, 875, 885, 890, 895, 900, 905, 910, 915, 925, 930, 935, 945, 950, 955, 965, 970, 975, 985, 990, 995, 1000, 1005, 1010, 1015, 1025, 1030, 1035, 1045, 1050, 1055, 1065, 1070, 1075, 1085, 1090, 1095, 1100, 1105, 1110, 1115, 1125, 1130, 1135, 1145, 1150, 1155, 1165, 1170, 1175, 1185, 1190, 1195, 1205, 1210, 1215, 1225, 1230, 1235, 1245, 1250, 1255, 1265, 1270, 1275, 1285, 1290, 1295, 1300, 1305, 1310, 1315, 1325, 1330, 1335, 1345, 1350, 1355, 1365, 1370, 1375, 1385, 1390, 1395, 1400, 1405, 1410, 1415, 1425, 1430, 1435, 1445, 1450, 1455, 1465, 1470, 1475, 1485, 1490, 1495, 1500, 1505, 1510, 1515, 1525, 1530, 1535, 1545, 1550, 1555, 1565, 1570, 1575, 1585, 1590, 1595, 1605, 1610, 1615, 1625, 1630, 1635, 1645, 1650, 1655, 1665, 1670, 1675, 1685, 1690, 1695, 1700, 1705, 1710, 1715, 1725, 1730, 1735, 1745, 1750, 1755, 1765, 1770, 1775, 1785, 1790, 1795, 1800, 1805, 1810, 1815, 1825, 1830, 1835, 1845, 1850, 1855, 1865, 1870, 1875, 1885, 1890, 1895, 1900, 1905, 1910, 1915, 1925, 1930, 1935, 1945, 1950, 1955, 1965, 1970, 1975, 1985, 1990, 1995]\n"
     ]
    }
   ],
   "source": [
    "# To check the functionality of the function lets create a list of years and iterate over it\n",
    "leap_list = range(0,2001,5)\n",
    "# Lets check the length of the list\n",
    "print(\"So here we have {} to check the working\".format(len(leap_list)))\n",
    "\n",
    "leap = []\n",
    "not_leap = []\n",
    "for year in leap_list:\n",
    "    if leap_year(year) == True:\n",
    "        #print('The {} is leap year'.format(year))\n",
    "        leap.append(year)\n",
    "    else:\n",
    "        #print('The {} is not leap year'.format(year))\n",
    "        not_leap.append(year)\n",
    "        \n",
    "        \n",
    "        \n",
    "print('The leap year list is:\\n',leap)\n",
    "print('The not leap year list is:\\n',not_leap)"
   ]
  },
  {
   "cell_type": "markdown",
   "metadata": {},
   "source": [
    "##### Reference\n",
    "https://www.programiz.com/python-programming/examples/leap-year"
   ]
  },
  {
   "cell_type": "markdown",
   "metadata": {},
   "source": [
    "#### 8. Write a program to find the euclidean distance between two coordinates."
   ]
  },
  {
   "cell_type": "markdown",
   "metadata": {},
   "source": [
    "#### 9. Write a program that take a user inputr of three angles and will find out whether it can form a triangle or not."
   ]
  },
  {
   "cell_type": "markdown",
   "metadata": {},
   "source": [
    "#### 10. Write a program that will take user input of cost price and selling price and determines whether its a loss or a profit"
   ]
  },
  {
   "cell_type": "markdown",
   "metadata": {},
   "source": [
    "#### 11. Write a program to find the simple interest when the value of principle,rate of interest and time period is given."
   ]
  },
  {
   "cell_type": "markdown",
   "metadata": {},
   "source": [
    "#### 12. Write a program to find the volume of the cylinder. Also find the cost when ,when the cost of 1litre milk is 40Rs."
   ]
  },
  {
   "cell_type": "markdown",
   "metadata": {},
   "source": [
    "#### 13. Write a program that will tell whether the given number is divisible by 3 & 6."
   ]
  },
  {
   "attachments": {
    "image.png": {
     "image/png": "[encoded data removed]"
    }
   },
   "cell_type": "markdown",
   "metadata": {},
   "source": [
    "#### 14. Write a program that will determine weather when the value of temperature and humidity is provided by the user. \n",
    "TEMPERATURE(C) HUMIDITY(%) WEATHER\n",
    "![image.png](attachment:image.png)"
   ]
  },
  {
   "cell_type": "markdown",
   "metadata": {},
   "source": [
    "#### 15. Write a program that will take three digits from the user and add the square of each digit."
   ]
  },
  {
   "cell_type": "markdown",
   "metadata": {},
   "source": [
    "#### 16. Write a program that will check whether the number is armstrong number or not."
   ]
  },
  {
   "cell_type": "markdown",
   "metadata": {},
   "source": [
    "#### 17. Write a program that will take user input of (4 digits number) and heck whether the number is narcissist number or not."
   ]
  },
  {
   "cell_type": "markdown",
   "metadata": {},
   "source": [
    "#### 18. Write a program that will give you the in hand salary after deduction of HRA(10%),DA(5%),PF(3%), and tax(if salary is between 5-10 lakh–10%),(11-20lakh–20%),(20< _ – 30%)(0-1lakh print k)."
   ]
  },
  {
   "cell_type": "markdown",
   "metadata": {},
   "source": [
    "#### 19. Write a menu driven program - 1.cm to ft 2.kl to miles 3.usd to inr 4.exit"
   ]
  },
  {
   "cell_type": "markdown",
   "metadata": {},
   "source": [
    "#### 20. Write a program that will tell the number of dogs and chicken are there when the user will provide the value of total heads and legs."
   ]
  },
  {
   "cell_type": "markdown",
   "metadata": {},
   "source": [
    "#### 21. Write a program that will swap numbers"
   ]
  },
  {
   "cell_type": "markdown",
   "metadata": {},
   "source": [
    "#### 22. Write a program to find the sum of first n numbers, where n will be provided by the user. Eg if the user provides n=10 the output should be 55."
   ]
  },
  {
   "cell_type": "markdown",
   "metadata": {},
   "source": [
    "#### 23.Write a program that can multiply 2 numbers provided by the user without using the * operator"
   ]
  },
  {
   "cell_type": "markdown",
   "metadata": {},
   "source": [
    "#### 24.Write a program that can find the factorial of a given number provided by the user."
   ]
  },
  {
   "cell_type": "code",
   "execution_count": null,
   "metadata": {},
   "outputs": [],
   "source": []
  },
  {
   "cell_type": "code",
   "execution_count": null,
   "metadata": {},
   "outputs": [],
   "source": []
  },
  {
   "cell_type": "code",
   "execution_count": null,
   "metadata": {},
   "outputs": [],
   "source": []
  },
  {
   "cell_type": "code",
   "execution_count": null,
   "metadata": {},
   "outputs": [],
   "source": []
  },
  {
   "cell_type": "code",
   "execution_count": null,
   "metadata": {},
   "outputs": [],
   "source": []
  },
  {
   "cell_type": "code",
   "execution_count": null,
   "metadata": {},
   "outputs": [],
   "source": []
  },
  {
   "cell_type": "code",
   "execution_count": null,
   "metadata": {},
   "outputs": [],
   "source": []
  },
  {
   "cell_type": "code",
   "execution_count": null,
   "metadata": {},
   "outputs": [],
   "source": []
  },
  {
   "cell_type": "markdown",
   "metadata": {},
   "source": [
    "\n",
    "\n",
    "\n",
    "\n",
    "25.Write a program to print the first 25 odd numbers\n",
    "26.Write a program to print whether a given number is prime number or\n",
    "not\n",
    "27. Print all the armstrong numbers in the range of 100 to 1000\n",
    "28.The current population of a town is 10000. The population of the town is\n",
    "increasing at the rate of 10% per year. You have to write a program to\n",
    "find out the population at the end of each of the last 10 years. For eg\n",
    "current population is 10000 so the output should be like this:\n",
    "10th year - 10000\n",
    "9th year - 9000\n",
    "8th year - 8100 and so on\n",
    "29.Write a program to print all the unique combinations of 1,2,3 and 4\n",
    "30.User will provide 2 numbers you have to find the HCF of those 2\n",
    "numbers\n",
    "31. User will provide 2 numbers you have to find the by LCM of those 2\n",
    "numbers\n",
    "32.Print first 25 prime numbers\n",
    "33.Print the first 20 numbers of a Fibonacci series\n",
    "34.Write a program to find the compound interest\n",
    "35.Write a Python program that accepts an integer (n) and computes the\n",
    "value of n+nn+nnn.\n",
    "36.Take a number from the user and find the number of digits in it.\n",
    "37. Print all factors of a given number provided by the user.\n",
    "38. Find the reverse of a number provided by the user(any number of digit)"
   ]
  },
  {
   "cell_type": "markdown",
   "metadata": {},
   "source": [
    "\n",
    "\n",
    "\n",
    "\n",
    "\n",
    "\n"
   ]
  }
 ],
 "metadata": {
  "colab": {
   "authorship_tag": "ABX9TyO07ldgmaREWLa11iby6Lwa",
   "collapsed_sections": [],
   "include_colab_link": true,
   "name": "100 Python Practice Problems.ipynb",
   "provenance": []
  },
  "kernelspec": {
   "display_name": "Python 3 (ipykernel)",
   "language": "python",
   "name": "python3"
  },
  "language_info": {
   "codemirror_mode": {
    "name": "ipython",
    "version": 3
   },
   "file_extension": ".py",
   "mimetype": "text/x-python",
   "name": "python",
   "nbconvert_exporter": "python",
   "pygments_lexer": "ipython3",
   "version": "3.9.7"
  }
 },
 "nbformat": 4,
 "nbformat_minor": 1
}
