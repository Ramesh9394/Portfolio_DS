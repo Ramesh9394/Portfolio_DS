{
 "cells": [
  {
   "cell_type": "markdown",
   "metadata": {
    "colab_type": "text",
    "id": "view-in-github"
   },
   "source": [
    "<a href=\"https://colab.research.google.com/github/Ramesh9394/Portfolio_DS/blob/main/Python%20Practice/100_Python_Practice_Problems.ipynb\" target=\"_parent\"><img src=\"https://colab.research.google.com/assets/colab-badge.svg\" alt=\"Open In Colab\"/></a>"
   ]
  },
  {
   "cell_type": "markdown",
   "metadata": {
    "id": "4QZYQQnLcPiR"
   },
   "source": [
    "# **Python Questions and Short Notes**"
   ]
  },
  {
   "cell_type": "markdown",
   "metadata": {
    "id": "T7x-0gj0Emxh"
   },
   "source": [
    "#### 1. User will input (3ages).Find the oldest one"
   ]
  },
  {
   "cell_type": "code",
   "execution_count": 1,
   "metadata": {
    "colab": {
     "base_uri": "https://localhost:8080/"
    },
    "id": "rvk7beOaEsvp",
    "outputId": "2f9adc5a-7f21-41ef-fc42-2bce3b31d530"
   },
   "outputs": [
    {
     "name": "stdout",
     "output_type": "stream",
     "text": [
      "Akshay,Please enter your age: 25\n",
      "Santosh,Please enter your age: 30\n",
      "Ravi,Please enter your age:40\n",
      "Ravi is older and he is of 40 years old\n"
     ]
    }
   ],
   "source": [
    "first_age = int(input('Akshay,Please enter your age: '))\n",
    "second_age = int(input('Santosh,Please enter your age: '))\n",
    "third_age = int(input('Ravi,Please enter your age:'))\n",
    "\n",
    "if first_age > second_age and  first_age > third_age:\n",
    "  print(\"Akshay is Olderand he is of {} years old\".format(first_age))\n",
    "elif second_age > first_age and second_age > third_age:\n",
    "  print(\"Santosh is older and he is of {} years old\". format(second_age))\n",
    "else:\n",
    "  print(\"Ravi is older and he is of {} years old\".format(third_age))\n"
   ]
  },
  {
   "cell_type": "markdown",
   "metadata": {
    "id": "L4yxaWCWGOtI"
   },
   "source": [
    "#### 2. Write a program that will convert celsius value to fahrenheit"
   ]
  },
  {
   "cell_type": "code",
   "execution_count": 2,
   "metadata": {
    "colab": {
     "base_uri": "https://localhost:8080/"
    },
    "id": "DXe8hmiiF-Cg",
    "outputId": "9c349b3a-b5ac-4cf1-9c9b-d8eaa5a273a6"
   },
   "outputs": [
    {
     "name": "stdout",
     "output_type": "stream",
     "text": [
      "please enter temperature in celscius: 45\n",
      "The temperature in Fahrenheit is 113\n",
      "33.8\n",
      "35.6\n",
      "37.4\n",
      "39.2\n",
      "41.0\n",
      "42.8\n",
      "44.6\n",
      "46.4\n",
      "48.2\n",
      "50.0\n"
     ]
    }
   ],
   "source": [
    "c = int(input(\"please enter temperature in celscius: \"))\n",
    "f = 32 + 1.8*c\n",
    "print(\"The temperature in Fahrenheit is {}\".format(round(f),2)) \n",
    "\n",
    "# Define a function to calculate the temperature in Fahreinheit\n",
    "def c_f(temperature):\n",
    "  return 32 + 1.8*temperature\n",
    "\n",
    "# Lets check the temperature in Fahreinheit for 1-10 \n",
    "for i in range(1,11):\n",
    "  print(c_f(i))"
   ]
  },
  {
   "cell_type": "markdown",
   "metadata": {
    "id": "vt1Vp3lEHLn-"
   },
   "source": [
    "#### 3. User will input (2numbers).Write a program to swap the numbers"
   ]
  },
  {
   "cell_type": "code",
   "execution_count": 3,
   "metadata": {
    "colab": {
     "base_uri": "https://localhost:8080/"
    },
    "id": "LCRIHIcLGvRV",
    "outputId": "3c16f3f9-2429-468f-bfe2-4f76caf325ad"
   },
   "outputs": [
    {
     "name": "stdout",
     "output_type": "stream",
     "text": [
      "Please enter first number: 12\n",
      "Please enter second number:25\n",
      "First number before swap was 12: and second number before swap was 25: \n",
      "First number after swap was 25: and second number after swap was 12: \n"
     ]
    }
   ],
   "source": [
    "a = int(input(\"Please enter first number: \"))\n",
    "b = int(input(\"Please enter second number:\"))\n",
    "print('First number before swap was {}: and second number before swap was {}: '.format(a,b))\n",
    "\n",
    "a,b = b,a\n",
    "\n",
    "print('First number after swap was {}: and second number after swap was {}: '.format(a,b))\n"
   ]
  },
  {
   "cell_type": "markdown",
   "metadata": {
    "id": "pXqTvEcXICrb"
   },
   "source": [
    "#### 4. Write a program that will give you the sum of 3 digits"
   ]
  },
  {
   "cell_type": "code",
   "execution_count": 4,
   "metadata": {
    "colab": {
     "base_uri": "https://localhost:8080/"
    },
    "id": "C1hAHiobH3TJ",
    "outputId": "a5cdbc87-80aa-45bb-fcd2-37d11e953ab4"
   },
   "outputs": [
    {
     "name": "stdout",
     "output_type": "stream",
     "text": [
      "Please enter three digit number: 785\n"
     ]
    },
    {
     "data": {
      "text/plain": [
       "20"
      ]
     },
     "execution_count": 4,
     "metadata": {},
     "output_type": "execute_result"
    }
   ],
   "source": [
    "\n",
    "def sum_abc():\n",
    "  num = input(\"Please enter three digit number: \")\n",
    "  if len(num) == 3:\n",
    "    l = [int(i) for i in num]\n",
    "    return sum(l)\n",
    "  else: \n",
    "    print(\"The number is not 3 digit\")\n",
    "# Calling function\n",
    "sum_abc()"
   ]
  },
  {
   "cell_type": "code",
   "execution_count": 5,
   "metadata": {
    "colab": {
     "base_uri": "https://localhost:8080/"
    },
    "id": "-poaR8U3VOb4",
    "outputId": "939cc54f-731b-4905-a94d-65cc8e1b0f6e"
   },
   "outputs": [
    {
     "name": "stdout",
     "output_type": "stream",
     "text": [
      "Please enter three digit number: 125\n",
      "8\n"
     ]
    }
   ],
   "source": [
    " num = input(\"Please enter three digit number: \")\n",
    "\n",
    "if len(num) == 3:\n",
    "  l1 = []\n",
    "  for i in num:\n",
    "    l1.append(int(i))\n",
    "    l = [int(i) for i in num]\n",
    "  print(sum(l))\n",
    "else:\n",
    "  print(\"The number is not 3 digit\")"
   ]
  },
  {
   "cell_type": "markdown",
   "metadata": {
    "id": "sPqWz8p5M5Zp"
   },
   "source": [
    "#### 5. Write a program that will reverse a four digit number.Also it checks whether the reverse is true."
   ]
  },
  {
   "cell_type": "code",
   "execution_count": 6,
   "metadata": {
    "colab": {
     "base_uri": "https://localhost:8080/"
    },
    "id": "HBSdqy9dIUnU",
    "outputId": "3a31d14b-f113-4dee-f274-cb29891d2af7"
   },
   "outputs": [
    {
     "name": "stdout",
     "output_type": "stream",
     "text": [
      "Please ennter four digit number : 4589\n",
      "[9, 8, 5, 4]\n",
      "Both are not same\n"
     ]
    }
   ],
   "source": [
    "num = input(\"Please ennter four digit number : \")\n",
    "l = [int(i) for i in num]\n",
    "print(l[::-1])\n",
    "\n",
    "if l == l[::-1]:\n",
    "  print('Both are same')\n",
    "else:\n",
    "  print(\"Both are not same\")"
   ]
  },
  {
   "cell_type": "markdown",
   "metadata": {
    "id": "HNH0Ty9xcs1k"
   },
   "source": [
    "#### 6. Write a program that will tell whether the number entered by the user is odd or even."
   ]
  },
  {
   "cell_type": "code",
   "execution_count": 7,
   "metadata": {},
   "outputs": [],
   "source": [
    "def odd_even(number):\n",
    "    if number % 2==0:\n",
    "        print(\"The number is even\")\n",
    "    else:\n",
    "        print('The number is odd')"
   ]
  },
  {
   "cell_type": "code",
   "execution_count": 8,
   "metadata": {},
   "outputs": [
    {
     "name": "stdout",
     "output_type": "stream",
     "text": [
      "The number is odd\n"
     ]
    }
   ],
   "source": [
    "odd_even(49)"
   ]
  },
  {
   "cell_type": "markdown",
   "metadata": {
    "id": "A8Q0ky__dkZ-"
   },
   "source": [
    "#### 7. Write a program that will tell whether the given year is a leap year or not."
   ]
  },
  {
   "cell_type": "code",
   "execution_count": 1,
   "metadata": {
    "id": "VaugqJz2cyY4"
   },
   "outputs": [],
   "source": [
    "# Rules to be year a leap year\n",
    "'''\n",
    "1. The year should be divisible by 4\n",
    "2. Every Century is not leap year\n",
    "3. So every century Year should be divisible by 400\n",
    "\n",
    "'''\n",
    "\n",
    "# Lets define a function\n",
    "def leap_year(year):\n",
    "    if year % 400==0 and year % 100==0:\n",
    "        #print('The {} is year'.format(year))\n",
    "        return True\n",
    "    elif year % 4 == 0 and year % 100 != 0:\n",
    "        return True\n",
    "    else: \n",
    "        #print('The {} is not leap year'.format(year))\n",
    "        return False#### 7. Write a program that will tell whether the given year is a leap year or not."
   ]
  },
  {
   "cell_type": "code",
   "execution_count": 3,
   "metadata": {},
   "outputs": [
    {
     "name": "stdout",
     "output_type": "stream",
     "text": [
      "So here we have 334 to check the working\n",
      "The leap year list is:\n",
      " [1012, 1024, 1036, 1048, 1060, 1072, 1084, 1096, 1108, 1120, 1132, 1144, 1156, 1168, 1180, 1192, 1204, 1216, 1228, 1240, 1252, 1264, 1276, 1288, 1312, 1324, 1336, 1348, 1360, 1372, 1384, 1396, 1408, 1420, 1432, 1444, 1456, 1468, 1480, 1492, 1504, 1516, 1528, 1540, 1552, 1564, 1576, 1588, 1600, 1612, 1624, 1636, 1648, 1660, 1672, 1684, 1696, 1708, 1720, 1732, 1744, 1756, 1768, 1780, 1792, 1804, 1816, 1828, 1840, 1852, 1864, 1876, 1888, 1912, 1924, 1936, 1948, 1960, 1972, 1984, 1996]\n",
      "The not leap year list is:\n",
      " [1000, 1003, 1006, 1009, 1015, 1018, 1021, 1027, 1030, 1033, 1039, 1042, 1045, 1051, 1054, 1057, 1063, 1066, 1069, 1075, 1078, 1081, 1087, 1090, 1093, 1099, 1102, 1105, 1111, 1114, 1117, 1123, 1126, 1129, 1135, 1138, 1141, 1147, 1150, 1153, 1159, 1162, 1165, 1171, 1174, 1177, 1183, 1186, 1189, 1195, 1198, 1201, 1207, 1210, 1213, 1219, 1222, 1225, 1231, 1234, 1237, 1243, 1246, 1249, 1255, 1258, 1261, 1267, 1270, 1273, 1279, 1282, 1285, 1291, 1294, 1297, 1300, 1303, 1306, 1309, 1315, 1318, 1321, 1327, 1330, 1333, 1339, 1342, 1345, 1351, 1354, 1357, 1363, 1366, 1369, 1375, 1378, 1381, 1387, 1390, 1393, 1399, 1402, 1405, 1411, 1414, 1417, 1423, 1426, 1429, 1435, 1438, 1441, 1447, 1450, 1453, 1459, 1462, 1465, 1471, 1474, 1477, 1483, 1486, 1489, 1495, 1498, 1501, 1507, 1510, 1513, 1519, 1522, 1525, 1531, 1534, 1537, 1543, 1546, 1549, 1555, 1558, 1561, 1567, 1570, 1573, 1579, 1582, 1585, 1591, 1594, 1597, 1603, 1606, 1609, 1615, 1618, 1621, 1627, 1630, 1633, 1639, 1642, 1645, 1651, 1654, 1657, 1663, 1666, 1669, 1675, 1678, 1681, 1687, 1690, 1693, 1699, 1702, 1705, 1711, 1714, 1717, 1723, 1726, 1729, 1735, 1738, 1741, 1747, 1750, 1753, 1759, 1762, 1765, 1771, 1774, 1777, 1783, 1786, 1789, 1795, 1798, 1801, 1807, 1810, 1813, 1819, 1822, 1825, 1831, 1834, 1837, 1843, 1846, 1849, 1855, 1858, 1861, 1867, 1870, 1873, 1879, 1882, 1885, 1891, 1894, 1897, 1900, 1903, 1906, 1909, 1915, 1918, 1921, 1927, 1930, 1933, 1939, 1942, 1945, 1951, 1954, 1957, 1963, 1966, 1969, 1975, 1978, 1981, 1987, 1990, 1993, 1999]\n"
     ]
    }
   ],
   "source": [
    "# To check the functionality of the function lets create a list of years and iterate over it\n",
    "leap_list = range(1000,2001,3)\n",
    "# Lets check the length of the list\n",
    "print(\"So here we have {} to check the working\".format(len(leap_list)))\n",
    "\n",
    "leap = []\n",
    "not_leap = []\n",
    "for year in leap_list:\n",
    "    if leap_year(year) == True:\n",
    "        #print('The {} is leap year'.format(year))\n",
    "        leap.append(year)\n",
    "    else:\n",
    "        #print('The {} is not leap year'.format(year))\n",
    "        not_leap.append(year)    \n",
    "                \n",
    "print('The leap year list is:\\n',leap)\n",
    "print('The not leap year list is:\\n',not_leap)"
   ]
  },
  {
   "cell_type": "markdown",
   "metadata": {},
   "source": [
    "##### Reference\n",
    "https://www.programiz.com/python-programming/examples/leap-year"
   ]
  },
  {
   "cell_type": "markdown",
   "metadata": {},
   "source": [
    "#### 8. Write a program to find the euclidean distance between two coordinates."
   ]
  },
  {
   "cell_type": "code",
   "execution_count": 8,
   "metadata": {},
   "outputs": [
    {
     "name": "stdout",
     "output_type": "stream",
     "text": [
      "The ecludian distance between (10, 20) and (15, 10) is 11.18\n"
     ]
    }
   ],
   "source": [
    "# Lets say coordinates of the points are\n",
    "# P1(x1,y1) and P2(x2,y2)\n",
    "x1 = 10\n",
    "y1 = 20\n",
    "x2 = 15\n",
    "y2 = 10\n",
    "\n",
    "# the formula for calculating ecludian distance is sqrt((x2-x1)**2+(y2-y1)**2)\n",
    "\n",
    "import math\n",
    "distance = math.sqrt((x2-x1)**2+(y2-y1)**2)\n",
    "\n",
    "print('The ecludian distance between {} and {} is {}'.format((x1,y1),(x2,y2),round(distance,2)))"
   ]
  },
  {
   "cell_type": "markdown",
   "metadata": {},
   "source": [
    "#### 9. Write a program that take a user input of three angles and will find out whether it can form a triangle or not."
   ]
  },
  {
   "cell_type": "code",
   "execution_count": 10,
   "metadata": {},
   "outputs": [
    {
     "name": "stdout",
     "output_type": "stream",
     "text": [
      "please enter value of first angle: 90\n",
      "please enter value of second angle: 30\n",
      "please enter value of third angle :60\n",
      "The triangle can be formed by using the given three angles\n"
     ]
    }
   ],
   "source": [
    "# Rule : The sum of three angles of triangle should be 180 degree.\n",
    "\n",
    "# Asking users to enter the values of angle\n",
    "first = int(input(\"please enter value of first angle: \"))\n",
    "second = int(input(\"please enter value of second angle: \"))\n",
    "third = int(input(\"please enter value of third angle :\"))\n",
    "\n",
    "sum = first + second + third\n",
    "if sum == 180:\n",
    "    print(\"The triangle can be formed by using the given three angles\")\n",
    "else:\n",
    "    print(\"The triangle can not be formed by using the given three angles\")"
   ]
  },
  {
   "cell_type": "markdown",
   "metadata": {},
   "source": [
    "#### 10. Write a program that will take user input of cost price and selling price and determines whether its a loss or a profit"
   ]
  },
  {
   "cell_type": "code",
   "execution_count": 12,
   "metadata": {},
   "outputs": [
    {
     "name": "stdout",
     "output_type": "stream",
     "text": [
      "Please enter the selling price os an item: 1000\n",
      "Please enter the cost price os an item: 1500\n",
      "Sorry Brother, you incured loss!!\n",
      "Sorry Brother, you incured loss!! and loss is 500.0\n"
     ]
    }
   ],
   "source": [
    "# Formula for the loss/profit\n",
    "# loss/ profit = Selling Price - Cost Price\n",
    "\n",
    "# To determine it is loss or profit we can say that if selling price > cost price it is profit else it is loss.\n",
    "\n",
    "# Lets take user inputs for selling and cost price \n",
    "sp  = float(input('Please enter the selling price os an item: '))\n",
    "cp  = float(input('Please enter the cost price os an item: '))\n",
    "\n",
    "# Determine loss or profit\n",
    "if sp > cp:\n",
    "    print(\"You have made profit by selin an item\")\n",
    "else: \n",
    "    print('Sorry Brother, you incured loss!!')\n",
    "    \n",
    "    \n",
    "# Lets determine how much loss or profit made by selling item\n",
    "if sp > cp:\n",
    "    profit = sp - cp\n",
    "    print(\"You have made profit by selin an item and profit is {}\".format(profit))\n",
    "else:\n",
    "    loss = cp - sp\n",
    "    print('Sorry Brother, you incured loss!! and loss is {}'.format(loss))"
   ]
  },
  {
   "cell_type": "markdown",
   "metadata": {},
   "source": [
    "#### 11. Write a program to find the simple interest when the value of principle,rate of interest and time period is given."
   ]
  },
  {
   "cell_type": "code",
   "execution_count": 17,
   "metadata": {},
   "outputs": [
    {
     "name": "stdout",
     "output_type": "stream",
     "text": [
      "The simple interest for principle amount of 10000.0 for 3 year period with 12.0% rate of interest is : 3600.0\n"
     ]
    }
   ],
   "source": [
    "# Formula SI = (PxNxR)/100\n",
    "# Where P - Principle, N - # of years, R - Rate of interest\n",
    "p = 10000.0\n",
    "r = 12.0 # %\n",
    "n = 3 # 36 month\n",
    "\n",
    "SI = (p*n*r)/100\n",
    "print(\"The simple interest for principle amount of {} for {} year period with {}% rate of interest is : {}\".format(p,n,r,SI))"
   ]
  },
  {
   "cell_type": "markdown",
   "metadata": {},
   "source": [
    "#### 12. Write a program to find the volume of the cylinder. Also find the cost when ,when the cost of 1litre milk is 40Rs."
   ]
  },
  {
   "attachments": {
    "image.png": {
     "image/png": "[encoded data removed]"
    }
   },
   "cell_type": "markdown",
   "metadata": {},
   "source": [
    "Formula for cylinder \n",
    "![image.png](attachment:image.png)\n"
   ]
  },
  {
   "cell_type": "code",
   "execution_count": 18,
   "metadata": {},
   "outputs": [
    {
     "name": "stdout",
     "output_type": "stream",
     "text": [
      "The volume of the cylinder with radius 10.0cm and height 100.0cm is 31415.926535897932cm3\n"
     ]
    }
   ],
   "source": [
    "# First calculate volume of the cylinder\n",
    "import math\n",
    "pi = math.pi\n",
    "# Lets consider the dimensions of the cylinder are r = 100cm and height h= 1000.0 cm\n",
    "r = 10.0\n",
    "h = 100.0\n",
    "volume  = pi*r**2*h\n",
    "print(\"The volume of the cylinder with radius {}cm and height {}cm is {}cm3\".format(r,h,volume))"
   ]
  },
  {
   "cell_type": "markdown",
   "metadata": {},
   "source": [
    "#### 13. Write a program that will tell whether the given number is divisible by 3 & 6."
   ]
  },
  {
   "cell_type": "code",
   "execution_count": 23,
   "metadata": {},
   "outputs": [
    {
     "name": "stdout",
     "output_type": "stream",
     "text": [
      "The number is **not** divisilbe by 3 and 6\n"
     ]
    }
   ],
   "source": [
    "num = 19\n",
    "if num % 3 == 0 and num % 6 == 0:\n",
    "    print(\"The number is divisilbe by 3 and 6\")\n",
    "else:\n",
    "    print(\"The number is not divisilbe by 3 and 6\")"
   ]
  },
  {
   "attachments": {
    "image.png": {
     "image/png": "[encoded data removed]"
    }
   },
   "cell_type": "markdown",
   "metadata": {},
   "source": [
    "#### 14. Write a program that will determine weather when the value of temperature and humidity is provided by the user. \n",
    "TEMPERATURE(C) HUMIDITY(%) WEATHER\n",
    "![image.png](attachment:image.png)"
   ]
  },
  {
   "cell_type": "code",
   "execution_count": 27,
   "metadata": {},
   "outputs": [
    {
     "data": {
      "text/plain": [
       "'Hot and Humid'"
      ]
     },
     "execution_count": 27,
     "metadata": {},
     "output_type": "execute_result"
    }
   ],
   "source": [
    "def weather(temp,hum):\n",
    "    if temp>=30 and hum>=90:\n",
    "        return 'Hot and Humid'\n",
    "    elif temp>=30 and hum<90:\n",
    "        return 'Hot'\n",
    "    elif temp<30 and hum>=90:\n",
    "        return 'Cool and Humid'\n",
    "    elif temp<30 and hum<90:\n",
    "        return 'Cool'\n",
    "    \n",
    "# Test 1\n",
    "weather(100,30)\n",
    "#Test 2\n",
    "weather(30,150)"
   ]
  },
  {
   "cell_type": "markdown",
   "metadata": {},
   "source": [
    "#### 15. Write a program that will take three digits from the user and add the square of each digit."
   ]
  },
  {
   "cell_type": "markdown",
   "metadata": {},
   "source": [
    "#### 16. Write a program that will check whether the number is armstrong number or not."
   ]
  },
  {
   "cell_type": "markdown",
   "metadata": {},
   "source": [
    "#### 17. Write a program that will take user input of (4 digits number) and heck whether the number is narcissist number or not."
   ]
  },
  {
   "cell_type": "markdown",
   "metadata": {},
   "source": [
    "#### 18. Write a program that will give you the in hand salary after deduction of HRA(10%),DA(5%),PF(3%), and tax(if salary is between 5-10 lakh–10%),(11-20lakh–20%),(20< _ – 30%)(0-1lakh print k)."
   ]
  },
  {
   "cell_type": "markdown",
   "metadata": {},
   "source": [
    "#### 19. Write a menu driven program - 1.cm to ft 2.kl to miles 3.usd to inr 4.exit"
   ]
  },
  {
   "cell_type": "markdown",
   "metadata": {},
   "source": [
    "#### 20. Write a program that will tell the number of dogs and chicken are there when the user will provide the value of total heads and legs."
   ]
  },
  {
   "cell_type": "markdown",
   "metadata": {},
   "source": [
    "#### 21. Write a program that will swap numbers"
   ]
  },
  {
   "cell_type": "markdown",
   "metadata": {},
   "source": [
    "#### 22. Write a program to find the sum of first n numbers, where n will be provided by the user. Eg if the user provides n=10 the output should be 55."
   ]
  },
  {
   "cell_type": "markdown",
   "metadata": {},
   "source": [
    "#### 23.Write a program that can multiply 2 numbers provided by the user without using the * operator"
   ]
  },
  {
   "cell_type": "markdown",
   "metadata": {},
   "source": [
    "#### 24.Write a program that can find the factorial of a given number provided by the user."
   ]
  },
  {
   "cell_type": "code",
   "execution_count": null,
   "metadata": {},
   "outputs": [],
   "source": []
  },
  {
   "cell_type": "code",
   "execution_count": null,
   "metadata": {},
   "outputs": [],
   "source": []
  },
  {
   "cell_type": "code",
   "execution_count": null,
   "metadata": {},
   "outputs": [],
   "source": []
  },
  {
   "cell_type": "code",
   "execution_count": null,
   "metadata": {},
   "outputs": [],
   "source": []
  },
  {
   "cell_type": "code",
   "execution_count": null,
   "metadata": {},
   "outputs": [],
   "source": []
  },
  {
   "cell_type": "code",
   "execution_count": null,
   "metadata": {},
   "outputs": [],
   "source": []
  },
  {
   "cell_type": "code",
   "execution_count": null,
   "metadata": {},
   "outputs": [],
   "source": []
  },
  {
   "cell_type": "code",
   "execution_count": null,
   "metadata": {},
   "outputs": [],
   "source": []
  },
  {
   "cell_type": "markdown",
   "metadata": {},
   "source": [
    "\n",
    "\n",
    "\n",
    "\n",
    "25.Write a program to print the first 25 odd numbers\n",
    "26.Write a program to print whether a given number is prime number or\n",
    "not\n",
    "27. Print all the armstrong numbers in the range of 100 to 1000\n",
    "28.The current population of a town is 10000. The population of the town is\n",
    "increasing at the rate of 10% per year. You have to write a program to\n",
    "find out the population at the end of each of the last 10 years. For eg\n",
    "current population is 10000 so the output should be like this:\n",
    "10th year - 10000\n",
    "9th year - 9000\n",
    "8th year - 8100 and so on\n",
    "29.Write a program to print all the unique combinations of 1,2,3 and 4\n",
    "30.User will provide 2 numbers you have to find the HCF of those 2\n",
    "numbers\n",
    "31. User will provide 2 numbers you have to find the by LCM of those 2\n",
    "numbers\n",
    "32.Print first 25 prime numbers\n",
    "33.Print the first 20 numbers of a Fibonacci series\n",
    "34.Write a program to find the compound interest\n",
    "35.Write a Python program that accepts an integer (n) and computes the\n",
    "value of n+nn+nnn.\n",
    "36.Take a number from the user and find the number of digits in it.\n",
    "37. Print all factors of a given number provided by the user.\n",
    "38. Find the reverse of a number provided by the user(any number of digit)"
   ]
  },
  {
   "cell_type": "markdown",
   "metadata": {},
   "source": [
    "\n",
    "\n",
    "\n",
    "\n",
    "\n",
    "\n"
   ]
  }
 ],
 "metadata": {
  "colab": {
   "authorship_tag": "ABX9TyO07ldgmaREWLa11iby6Lwa",
   "collapsed_sections": [],
   "include_colab_link": true,
   "name": "100 Python Practice Problems.ipynb",
   "provenance": []
  },
  "kernelspec": {
   "display_name": "Python 3 (ipykernel)",
   "language": "python",
   "name": "python3"
  },
  "language_info": {
   "codemirror_mode": {
    "name": "ipython",
    "version": 3
   },
   "file_extension": ".py",
   "mimetype": "text/x-python",
   "name": "python",
   "nbconvert_exporter": "python",
   "pygments_lexer": "ipython3",
   "version": "3.9.7"
  }
 },
 "nbformat": 4,
 "nbformat_minor": 1
}
